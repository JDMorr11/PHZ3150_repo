{
 "cells": [
  {
   "cell_type": "code",
   "execution_count": 4,
   "id": "684c470d",
   "metadata": {},
   "outputs": [],
   "source": [
    "# Franley Casado\n",
    "# Homework 4, Problem 3\n",
    "# 15 September 2021"
   ]
  },
  {
   "cell_type": "code",
   "execution_count": 1,
   "id": "25639e6a",
   "metadata": {},
   "outputs": [],
   "source": [
    "def acceleration( u1, u2, t1, t2): #acceleration with all its variables\n",
    "    \"\"\"This function takes the difference of two time values [seconds] and the difference of two speed values [m/s]\n",
    "    and finds acceleration. \n",
    "    Input: ( u1, u2, t1, t2)/ Output: (a) \"\"\"\n",
    "    \n",
    "    a = (u2-u1) / (t2-t1) #My function that probably works\n",
    "    \n",
    "    return a"
   ]
  }
 ],
 "metadata": {
  "kernelspec": {
   "display_name": "Python 3",
   "language": "python",
   "name": "python3"
  },
  "language_info": {
   "codemirror_mode": {
    "name": "ipython",
    "version": 3
   },
   "file_extension": ".py",
   "mimetype": "text/x-python",
   "name": "python",
   "nbconvert_exporter": "python",
   "pygments_lexer": "ipython3",
   "version": "3.9.4"
  }
 },
 "nbformat": 4,
 "nbformat_minor": 5
}
