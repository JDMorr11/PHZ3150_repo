{
 "cells": [
  {
   "cell_type": "code",
   "execution_count": 1,
   "id": "a50e04c2",
   "metadata": {},
   "outputs": [],
   "source": [
    "# Franley Casado\n",
    "# Homework 4, Problems 2-3\n",
    "# 15 September 2021"
   ]
  },
  {
   "cell_type": "code",
   "execution_count": 2,
   "id": "fe1a3e92",
   "metadata": {},
   "outputs": [],
   "source": [
    "def force( m, a): #Defines my function and its two independent variables\n",
    "    \"\"\"This function will calculate force [N] by multiplying mass [kg] by acceleration in meters [m/s^2].\n",
    "    Input: ( m, a)/ Output: ( f )  \"\"\" #A docstring which describes what this function is intended to do\n",
    "    \n",
    "    f = m * a #The function in all its glory\n",
    "    \n",
    "    return f #Returns the resulting number"
   ]
  },
  {
   "cell_type": "code",
   "execution_count": 3,
   "id": "f9f5f389",
   "metadata": {},
   "outputs": [
    {
     "name": "stdout",
     "output_type": "stream",
     "text": [
      "The force is 50 Newtons\n",
      "\n",
      "The force is 150 Newtons\n",
      "\n",
      "The force is 100 Newtons\n",
      "\n",
      "The force is 120 Newtons\n"
     ]
    }
   ],
   "source": [
    "#The following are tests to recreate the results seen in Problem 2. \"print(\"\")\" is used in between every line to cause a space.\n",
    "\n",
    "print('The force is' , force( 10, 5), 'Newtons')\n",
    "print(\"\")\n",
    "print('The force is', force( 15, 10), 'Newtons')\n",
    "print(\"\")\n",
    "print('The force is' ,force( 20, 5), 'Newtons')\n",
    "print(\"\")\n",
    "print('The force is' ,force(40, 3), 'Newtons')"
   ]
  },
  {
   "cell_type": "code",
   "execution_count": 4,
   "id": "94536078",
   "metadata": {},
   "outputs": [
    {
     "name": "stdout",
     "output_type": "stream",
     "text": [
      "This function will calculate force [N] by multiplying mass [kg] by acceleration in meters [m/s^2].\n",
      "    Input: ( m, a)/ Output: ( f )  \n"
     ]
    }
   ],
   "source": [
    "print (force.__doc__) #Testing my beautiful docstring"
   ]
  },
  {
   "cell_type": "code",
   "execution_count": 5,
   "id": "23dfbbcc",
   "metadata": {},
   "outputs": [],
   "source": [
    "def force_to_acceleration( m, f): #Defines my function and its two independent variables\n",
    "    \"\"\"This function will calculate acceleration [m/s^2] by taking a force [N] and dividing it by mass [kg] .\n",
    "    Input: ( m, f)/ Output: ( a )  \"\"\" #A docstring which describes what this function is intended to do\n",
    "    \n",
    "    a = (f) / m #The function in all its glory\n",
    "    \n",
    "    return a #Returns the resulting number"
   ]
  },
  {
   "cell_type": "code",
   "execution_count": 6,
   "id": "02c4bfcc",
   "metadata": {},
   "outputs": [
    {
     "name": "stdout",
     "output_type": "stream",
     "text": [
      "The acceleration is 0.6666666666666666 m/s^2\n",
      "\n",
      "The acceleration is 0.14666666666666667 m/s^2\n",
      "\n",
      "The acceleration is 3.0 m/s^2\n",
      "\n"
     ]
    }
   ],
   "source": [
    "print('The acceleration is', force_to_acceleration( 150 , 100), 'm/s^2' )\n",
    "print(\"\")\n",
    "print('The acceleration is', force_to_acceleration( 150 , 22), 'm/s^2' )\n",
    "print(\"\")\n",
    "print('The acceleration is', force_to_acceleration( 150 , 450), 'm/s^2' )\n",
    "print(\"\")"
   ]
  },
  {
   "cell_type": "code",
   "execution_count": 7,
   "id": "dc4f04a9",
   "metadata": {},
   "outputs": [
    {
     "name": "stdout",
     "output_type": "stream",
     "text": [
      "This function will calculate acceleration [m/s^2] by taking a force [N] and dividing it by mass [kg] .\n",
      "    Input: ( m, f)/ Output: ( a )  \n"
     ]
    }
   ],
   "source": [
    "print (force_to_acceleration.__doc__) #Testing my beautiful docstring"
   ]
  },
  {
   "cell_type": "code",
   "execution_count": 1,
   "id": "dfb32960",
   "metadata": {},
   "outputs": [],
   "source": [
    "from problem_3 import acceleration #There were some serious issues getting this to work, but for future reference, new files aren't read by Jupyter properly in running programs so its necessary to restart"
   ]
  },
  {
   "cell_type": "code",
   "execution_count": 2,
   "id": "98beae45",
   "metadata": {},
   "outputs": [
    {
     "name": "stdout",
     "output_type": "stream",
     "text": [
      "The acceleration is 1.5 m/s\n",
      "\n",
      "The acceleration is 3.75 m/s\n",
      "\n",
      "The acceleration is 2.0 m/s\n",
      "\n",
      "The acceleration is -5.5 m/s\n",
      "\n",
      "The acceleration is 0.2 m/s\n"
     ]
    }
   ],
   "source": [
    "print('The acceleration is', acceleration( 10, 13, 0 , 2), 'm/s') #All this troubleshooting for like 5 lines of code LMAO\n",
    "print(\"\")\n",
    "print('The acceleration is', acceleration( 15, 30, 10 , 14), 'm/s')\n",
    "print(\"\")\n",
    "print('The acceleration is', acceleration( 32, 36, 14 , 16), 'm/s')\n",
    "print(\"\")\n",
    "print('The acceleration is', acceleration( 42, 20, 28 , 32), 'm/s')\n",
    "print(\"\")\n",
    "print('The acceleration is', acceleration( 20, 22, 0 , 10), 'm/s')"
   ]
  },
  {
   "cell_type": "code",
   "execution_count": null,
   "id": "0a1c575f",
   "metadata": {},
   "outputs": [],
   "source": []
  },
  {
   "cell_type": "code",
   "execution_count": null,
   "id": "f7d606aa",
   "metadata": {},
   "outputs": [],
   "source": []
  }
 ],
 "metadata": {
  "kernelspec": {
   "display_name": "Python 3",
   "language": "python",
   "name": "python3"
  },
  "language_info": {
   "codemirror_mode": {
    "name": "ipython",
    "version": 3
   },
   "file_extension": ".py",
   "mimetype": "text/x-python",
   "name": "python",
   "nbconvert_exporter": "python",
   "pygments_lexer": "ipython3",
   "version": "3.9.4"
  }
 },
 "nbformat": 4,
 "nbformat_minor": 5
}
