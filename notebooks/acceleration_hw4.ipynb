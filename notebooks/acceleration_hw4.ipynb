{
 "cells": [
  {
   "cell_type": "code",
   "execution_count": 1,
   "id": "3e20c8ff",
   "metadata": {},
   "outputs": [],
   "source": [
    "def acceleration(u1, u2, t1, t2):\n",
    "    \"\"\"Calculates the acceleration, a [m / s^2], from the velocities, u1 and u2 [m /s], at corresponding times, t1 and t2 [s].\"\"\"\n",
    "    a = ( u2 - u1) / ( t2 - t1)\n",
    "    return a"
   ]
  }
 ],
 "metadata": {
  "kernelspec": {
   "display_name": "Python 3",
   "language": "python",
   "name": "python3"
  },
  "language_info": {
   "codemirror_mode": {
    "name": "ipython",
    "version": 3
   },
   "file_extension": ".py",
   "mimetype": "text/x-python",
   "name": "python",
   "nbconvert_exporter": "python",
   "pygments_lexer": "ipython3",
   "version": "3.9.4"
  }
 },
 "nbformat": 4,
 "nbformat_minor": 5
}
