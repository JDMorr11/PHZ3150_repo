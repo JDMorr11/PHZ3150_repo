{
 "cells": [
  {
   "cell_type": "code",
   "execution_count": null,
   "id": "48333fca",
   "metadata": {},
   "outputs": [],
   "source": [
    "def ft_to_m_cm(d):\n",
    "    \"\"\"Given a distance in feet and inches (inches input as a decimal), outputs that distance as a list in meters and centimieters [m, cm].\"\"\"\n",
    "    ft = int(d)\n",
    "    inch= d - ft\n",
    "    m = ft / 0.3048\n",
    "    cm = (inch / 2.54) + 100 * (m - int(m))\n",
    "    m_cm = [int(m),round(cm)]\n",
    "    return m_cm"
   ]
  },
  {
   "cell_type": "code",
   "execution_count": null,
   "id": "533503c3",
   "metadata": {},
   "outputs": [],
   "source": [
    "def displacement(u_init,t,a):\n",
    "    \"\"\"Calculates the total displacement of a body that has initial speed u_init [m/s], during a time interval t [s], and a constant acceleration a [m/s^2].\"\"\"\n",
    "    s = u_init * t + 0.5 * a * t ** 2\n",
    "    return s"
   ]
  }
 ],
 "metadata": {
  "kernelspec": {
   "display_name": "Python 3",
   "language": "python",
   "name": "python3"
  },
  "language_info": {
   "codemirror_mode": {
    "name": "ipython",
    "version": 3
   },
   "file_extension": ".py",
   "mimetype": "text/x-python",
   "name": "python",
   "nbconvert_exporter": "python",
   "pygments_lexer": "ipython3",
   "version": "3.9.4"
  }
 },
 "nbformat": 4,
 "nbformat_minor": 5
}
