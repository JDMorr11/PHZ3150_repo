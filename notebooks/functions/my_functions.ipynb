{
 "cells": [
  {
   "cell_type": "code",
   "execution_count": 12,
   "id": "626b9a5b",
   "metadata": {},
   "outputs": [],
   "source": [
    "def quadratic(a,b,c):\n",
    "    \"\"\"Gives a list containing the roots of a parabola. Input the coefficients (a,b,c) for the function ax^2 + bx + c = 0\"\"\"\n",
    "    import numpy as np\n",
    "    x1 = ( -np.sqrt( (b*b) - 4 * a * c ) - b ) / (2 * a)\n",
    "    x2 = ( np.sqrt( (b*b) - 4 * a * c ) - b ) / (2 * a)\n",
    "    roots = [x1, x2]\n",
    "    return roots"
   ]
  },
  {
   "cell_type": "code",
   "execution_count": null,
   "id": "837c12d4",
   "metadata": {},
   "outputs": [],
   "source": [
    "def ft_to_m_cm(d):\n",
    "    \"\"\"Given a distance in feet and inches (inches input as a decimal), outputs that distance as a list in meters and centimieters [m, cm].\"\"\"\n",
    "    ft = int(d)\n",
    "    inch= d - ft\n",
    "    m = ft / 0.3048\n",
    "    cm = (inch / 2.54) + 100 * (m - int(m))\n",
    "    m_cm = [int(m),round(cm)]\n",
    "    return m_cm"
   ]
  },
  {
   "cell_type": "code",
   "execution_count": null,
   "id": "96600a8a",
   "metadata": {},
   "outputs": [],
   "source": [
    "def displacement(u_init,t,a):\n",
    "    \"\"\"Calculates the total displacement of a body that has initial speed u_init [m/s], during a time interval t [s], and a constant acceleration a [m/s^2].\"\"\"\n",
    "    s = u_init * t + 0.5 * a * t * t\n",
    "    return s"
   ]
  }
 ],
 "metadata": {
  "kernelspec": {
   "display_name": "Python 3",
   "language": "python",
   "name": "python3"
  },
  "language_info": {
   "codemirror_mode": {
    "name": "ipython",
    "version": 3
   },
   "file_extension": ".py",
   "mimetype": "text/x-python",
   "name": "python",
   "nbconvert_exporter": "python",
   "pygments_lexer": "ipython3",
   "version": "3.9.4"
  }
 },
 "nbformat": 4,
 "nbformat_minor": 5
}
