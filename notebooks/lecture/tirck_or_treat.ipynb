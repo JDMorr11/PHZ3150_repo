{
 "cells": [
  {
   "cell_type": "code",
   "execution_count": 10,
   "id": "9b6021ee",
   "metadata": {},
   "outputs": [
    {
     "name": "stdout",
     "output_type": "stream",
     "text": [
      "You need to visit at least 107  houses.\n"
     ]
    }
   ],
   "source": [
    "import numpy as np\n",
    "candy_wanted = {'m&ms': 20, 'reese':40, 'kitkat': 32, 'maltesers': 15}\n",
    "house_candy_ration = {'m&ms': 0.5, 'reese':2, 'kitkat': 0.3, 'maltesers': 0.2}\n",
    "def trick_or_treat(candy_wanted, house_candy_ration):\n",
    "    \"\"\"Input: two dictionaries, one containing the names of candy as keys and the amount wanted as values, and one with the same keys and average candy gained per house as values. Output: the minimum houses visited to get at least the desired amount of all candies.\"\"\"\n",
    "    visits = []\n",
    "    for i in candy_wanted:\n",
    "        houses = int(np.ceil(candy_wanted[i] / house_candy_ration[i]))\n",
    "        visits.append(houses)\n",
    "    return max(visits)\n",
    "print('You need to visit at least', trick_or_treat(candy_wanted, house_candy_ration), ' houses.')"
   ]
  },
  {
   "cell_type": "code",
   "execution_count": null,
   "id": "4d2c0631",
   "metadata": {},
   "outputs": [],
   "source": []
  }
 ],
 "metadata": {
  "kernelspec": {
   "display_name": "Python 3",
   "language": "python",
   "name": "python3"
  },
  "language_info": {
   "codemirror_mode": {
    "name": "ipython",
    "version": 3
   },
   "file_extension": ".py",
   "mimetype": "text/x-python",
   "name": "python",
   "nbconvert_exporter": "python",
   "pygments_lexer": "ipython3",
   "version": "3.9.4"
  }
 },
 "nbformat": 4,
 "nbformat_minor": 5
}
