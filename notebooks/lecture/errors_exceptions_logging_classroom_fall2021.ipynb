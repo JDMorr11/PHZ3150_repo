{
 "cells": [
  {
   "cell_type": "markdown",
   "metadata": {},
   "source": [
    "# Errors, exceptions and logging "
   ]
  },
  {
   "cell_type": "code",
   "execution_count": 8,
   "metadata": {},
   "outputs": [],
   "source": [
    "# 10.19.2021 - PHZ3150 fall"
   ]
  },
  {
   "cell_type": "code",
   "execution_count": 9,
   "metadata": {},
   "outputs": [],
   "source": [
    "import numpy as np\n",
    "import matplotlib.pyplot as plt"
   ]
  },
  {
   "cell_type": "markdown",
   "metadata": {},
   "source": [
    "### While getting to debug a code you make come across a range of different bugs: \n",
    "- Syntax errors   : say you forgot to add a ) or put one to many \n",
    "   - Python will let you know\n",
    "- Runtime errors  : once code starts running something happens that wasn't supposed to --> exceptions \n",
    "   - Will need some debugging\n",
    "- Semantic errors : code will run but not as it should, but as you told it to (but that is in a wrong way)\n",
    "   - Can take a lot of debugging "
   ]
  },
  {
   "cell_type": "markdown",
   "metadata": {},
   "source": [
    "### Errors are generally fatal issues of your code that will kill the run. Exceptions can be handled without killing the code (if needed), warnings will generally not kill the code. \n",
    "\n",
    "### It is good practice to build a code that avoids errors and handles exceptions properly. When you share your code you want it to be used without (ideally any) debugging from someone else, so you should think of all issues that might arise..."
   ]
  },
  {
   "cell_type": "markdown",
   "metadata": {},
   "source": [
    "### Python has a lot of built-in errors/exceptions that are raised every time you run into a bug. The ones you will encounter more often probably are:\n",
    "- IO exceptions (e.g., filename not existing)\n",
    "- EOF \n",
    "- Nameerror (e.g., call a non-existing variable)\n",
    "- Indentation errors + tab errors\n",
    "- Indexerror (e.g. you call element 11 of array with 9 elements)\n",
    "\n",
    "### Your code can also keep on running and just raise some warnings\n",
    "- Runtimewarning (see above for examples-- sth weird happens in your code)\n",
    "\n",
    "### You can find the full list of exception and warnings here: https://docs.python.org/3/library/exceptions.html"
   ]
  },
  {
   "cell_type": "markdown",
   "metadata": {},
   "source": [
    "## -------------------------\n",
    "## Errors: "
   ]
  },
  {
   "cell_type": "code",
   "execution_count": 10,
   "metadata": {},
   "outputs": [
    {
     "ename": "SyntaxError",
     "evalue": "invalid syntax (<ipython-input-10-1feacb4a8649>, line 3)",
     "output_type": "error",
     "traceback": [
      "\u001b[0;36m  File \u001b[0;32m\"<ipython-input-10-1feacb4a8649>\"\u001b[0;36m, line \u001b[0;32m3\u001b[0m\n\u001b[0;31m    print ( a * 2 )    # --> gets a built-in exception\u001b[0m\n\u001b[0m        ^\u001b[0m\n\u001b[0;31mSyntaxError\u001b[0m\u001b[0;31m:\u001b[0m invalid syntax\n"
     ]
    }
   ],
   "source": [
    "#e.g.,:\n",
    "a = [ 1, 2, 3, 4, 5 \n",
    "print ( a * 2 )    # --> gets a built-in exception\n",
    "     "
   ]
  },
  {
   "cell_type": "code",
   "execution_count": 11,
   "metadata": {},
   "outputs": [
    {
     "ename": "IndentationError",
     "evalue": "expected an indented block (<ipython-input-11-b758da39e685>, line 5)",
     "output_type": "error",
     "traceback": [
      "\u001b[0;36m  File \u001b[0;32m\"<ipython-input-11-b758da39e685>\"\u001b[0;36m, line \u001b[0;32m5\u001b[0m\n\u001b[0;31m    print( a )\u001b[0m\n\u001b[0m        ^\u001b[0m\n\u001b[0;31mIndentationError\u001b[0m\u001b[0;31m:\u001b[0m expected an indented block\n"
     ]
    }
   ],
   "source": [
    "#also in same family of errors:\n",
    "a = 5\n",
    "\n",
    "if a < 3:\n",
    "print( a )\n"
   ]
  },
  {
   "cell_type": "code",
   "execution_count": 12,
   "metadata": {},
   "outputs": [
    {
     "name": "stdout",
     "output_type": "stream",
     "text": [
      "Bing tiddle tiddle bang.\n",
      "Bing tiddle tiddle bang.\n"
     ]
    },
    {
     "ename": "NameError",
     "evalue": "name 'bruce' is not defined",
     "output_type": "error",
     "traceback": [
      "\u001b[0;31m---------------------------------------------------------------------------\u001b[0m",
      "\u001b[0;31mNameError\u001b[0m                                 Traceback (most recent call last)",
      "\u001b[0;32m<ipython-input-12-9be490f418e3>\u001b[0m in \u001b[0;36m<module>\u001b[0;34m\u001b[0m\n\u001b[1;32m     14\u001b[0m \u001b[0;34m\u001b[0m\u001b[0m\n\u001b[1;32m     15\u001b[0m \u001b[0;31m#now let's print bruce and cat:\u001b[0m\u001b[0;34m\u001b[0m\u001b[0;34m\u001b[0m\u001b[0;34m\u001b[0m\u001b[0m\n\u001b[0;32m---> 16\u001b[0;31m \u001b[0mprint\u001b[0m\u001b[0;34m(\u001b[0m \u001b[0mbruce\u001b[0m\u001b[0;34m,\u001b[0m \u001b[0mcat\u001b[0m \u001b[0;34m)\u001b[0m   \u001b[0;31m# --> gets a built-in exception\u001b[0m\u001b[0;34m\u001b[0m\u001b[0;34m\u001b[0m\u001b[0m\n\u001b[0m",
      "\u001b[0;31mNameError\u001b[0m: name 'bruce' is not defined"
     ]
    }
   ],
   "source": [
    "# from ThinkPython2:\n",
    "def print_twice( bruce ):\n",
    "    print( bruce )\n",
    "    print( bruce )\n",
    "\n",
    "def cat_twice( part1, part2 ):\n",
    "    cat = part1 + part2\n",
    "    print_twice( cat )\n",
    "    \n",
    "    \n",
    "line1 = 'Bing tiddle '\n",
    "line2 = 'tiddle bang.'\n",
    "cat_twice( line1, line2 )\n",
    "\n",
    "#now let's print bruce and cat:\n",
    "print( bruce, cat )   # --> gets a built-in exception"
   ]
  },
  {
   "cell_type": "code",
   "execution_count": 13,
   "metadata": {},
   "outputs": [
    {
     "ename": "ModuleNotFoundError",
     "evalue": "No module named 'myrandomfunction'",
     "output_type": "error",
     "traceback": [
      "\u001b[0;31m---------------------------------------------------------------------------\u001b[0m",
      "\u001b[0;31mModuleNotFoundError\u001b[0m                       Traceback (most recent call last)",
      "\u001b[0;32m<ipython-input-13-7ecd73f4698b>\u001b[0m in \u001b[0;36m<module>\u001b[0;34m\u001b[0m\n\u001b[0;32m----> 1\u001b[0;31m \u001b[0;32mimport\u001b[0m \u001b[0mmyrandomfunction\u001b[0m\u001b[0;34m\u001b[0m\u001b[0;34m\u001b[0m\u001b[0m\n\u001b[0m",
      "\u001b[0;31mModuleNotFoundError\u001b[0m: No module named 'myrandomfunction'"
     ]
    }
   ],
   "source": [
    "import myrandomfunction"
   ]
  },
  {
   "cell_type": "code",
   "execution_count": 14,
   "metadata": {},
   "outputs": [
    {
     "ename": "SyntaxError",
     "evalue": "unexpected EOF while parsing (<ipython-input-14-6334990e59f1>, line 3)",
     "output_type": "error",
     "traceback": [
      "\u001b[0;36m  File \u001b[0;32m\"<ipython-input-14-6334990e59f1>\"\u001b[0;36m, line \u001b[0;32m3\u001b[0m\n\u001b[0;31m    b = [5, 6, 7\u001b[0m\n\u001b[0m                ^\u001b[0m\n\u001b[0;31mSyntaxError\u001b[0m\u001b[0;31m:\u001b[0m unexpected EOF while parsing\n"
     ]
    }
   ],
   "source": [
    "a = 4\n",
    "\n",
    "b = [5, 6, 7"
   ]
  },
  {
   "cell_type": "code",
   "execution_count": 15,
   "metadata": {},
   "outputs": [
    {
     "ename": "IndexError",
     "evalue": "list index out of range",
     "output_type": "error",
     "traceback": [
      "\u001b[0;31m---------------------------------------------------------------------------\u001b[0m",
      "\u001b[0;31mIndexError\u001b[0m                                Traceback (most recent call last)",
      "\u001b[0;32m<ipython-input-15-6eadd1a21c84>\u001b[0m in \u001b[0;36m<module>\u001b[0;34m\u001b[0m\n\u001b[1;32m      1\u001b[0m \u001b[0ma\u001b[0m \u001b[0;34m=\u001b[0m \u001b[0;34m[\u001b[0m \u001b[0;36m1\u001b[0m\u001b[0;34m,\u001b[0m \u001b[0;36m2\u001b[0m\u001b[0;34m,\u001b[0m \u001b[0;36m3\u001b[0m\u001b[0;34m,\u001b[0m \u001b[0;36m4\u001b[0m\u001b[0;34m,\u001b[0m \u001b[0;36m5\u001b[0m \u001b[0;34m]\u001b[0m\u001b[0;34m\u001b[0m\u001b[0;34m\u001b[0m\u001b[0m\n\u001b[1;32m      2\u001b[0m \u001b[0;34m\u001b[0m\u001b[0m\n\u001b[0;32m----> 3\u001b[0;31m \u001b[0mprint\u001b[0m\u001b[0;34m(\u001b[0m \u001b[0ma\u001b[0m\u001b[0;34m[\u001b[0m \u001b[0;36m6\u001b[0m \u001b[0;34m]\u001b[0m \u001b[0;34m)\u001b[0m\u001b[0;34m\u001b[0m\u001b[0;34m\u001b[0m\u001b[0m\n\u001b[0m",
      "\u001b[0;31mIndexError\u001b[0m: list index out of range"
     ]
    }
   ],
   "source": [
    "a = [ 1, 2, 3, 4, 5 ]\n",
    "\n",
    "print( a[ 6 ] )"
   ]
  },
  {
   "cell_type": "code",
   "execution_count": 16,
   "metadata": {},
   "outputs": [
    {
     "ename": "FileNotFoundError",
     "evalue": "[Errno 2] No such file or directory: 'testme.dat'",
     "output_type": "error",
     "traceback": [
      "\u001b[0;31m---------------------------------------------------------------------------\u001b[0m",
      "\u001b[0;31mFileNotFoundError\u001b[0m                         Traceback (most recent call last)",
      "\u001b[0;32m<ipython-input-16-23a77d39f42b>\u001b[0m in \u001b[0;36m<module>\u001b[0;34m\u001b[0m\n\u001b[0;32m----> 1\u001b[0;31m \u001b[0ma\u001b[0m \u001b[0;34m=\u001b[0m \u001b[0mopen\u001b[0m\u001b[0;34m(\u001b[0m\u001b[0;34m'testme.dat'\u001b[0m\u001b[0;34m)\u001b[0m\u001b[0;34m\u001b[0m\u001b[0;34m\u001b[0m\u001b[0m\n\u001b[0m",
      "\u001b[0;31mFileNotFoundError\u001b[0m: [Errno 2] No such file or directory: 'testme.dat'"
     ]
    }
   ],
   "source": [
    "a = open('testme.dat')"
   ]
  },
  {
   "cell_type": "markdown",
   "metadata": {},
   "source": [
    "## -------------------------\n",
    "## Warnings: "
   ]
  },
  {
   "cell_type": "code",
   "execution_count": 17,
   "metadata": {},
   "outputs": [
    {
     "name": "stdout",
     "output_type": "stream",
     "text": [
      "-inf\n"
     ]
    },
    {
     "name": "stderr",
     "output_type": "stream",
     "text": [
      "/Users/theodora_karalidi/anaconda3/lib/python3.7/site-packages/ipykernel_launcher.py:6: RuntimeWarning: divide by zero encountered in log10\n",
      "  \n"
     ]
    }
   ],
   "source": [
    "# from ThinkPython2:\n",
    "signal_power = 9\n",
    "noise_power  = 10\n",
    "\n",
    "ratio        = signal_power // noise_power\n",
    "decibels     = 10 * np.log10(ratio)       # errs in this line and tells you why...\n",
    "\n",
    "print(decibels)\n"
   ]
  },
  {
   "cell_type": "code",
   "execution_count": 19,
   "metadata": {},
   "outputs": [
    {
     "name": "stdout",
     "output_type": "stream",
     "text": [
      "[       nan        nan        nan        nan        nan        nan\n",
      "        nan        nan        nan        nan        nan        nan\n",
      "        nan        nan        nan        nan        nan        nan\n",
      "        nan        nan        nan        nan        nan        nan\n",
      "        nan        nan        nan        nan        nan        nan\n",
      "        nan        nan        nan        nan        nan        nan\n",
      "        nan        nan        nan        nan        nan        nan\n",
      "        nan        nan        nan        nan        nan        nan\n",
      "        nan        nan        nan        nan        nan        nan\n",
      "        nan        nan        nan        nan        nan        nan\n",
      "        nan        nan        nan        nan        nan        nan\n",
      "        nan        nan        nan        nan        nan        nan\n",
      "        nan        nan        nan        nan        nan        nan\n",
      "        nan        nan        nan        nan        nan        nan\n",
      "        nan        nan        nan        nan        nan        nan\n",
      " 0.         0.43588989 0.6        0.71414284 0.8        0.8660254\n",
      " 0.91651514 0.9539392  0.9797959  0.99498744 1.         0.99498744\n",
      " 0.9797959  0.9539392  0.91651514 0.8660254  0.8        0.71414284\n",
      " 0.6        0.43588989 0.                nan        nan        nan\n",
      "        nan        nan        nan        nan        nan        nan\n",
      "        nan        nan        nan        nan        nan        nan\n",
      "        nan        nan        nan        nan        nan        nan\n",
      "        nan        nan        nan        nan        nan        nan\n",
      "        nan        nan        nan        nan        nan        nan\n",
      "        nan        nan        nan        nan        nan        nan\n",
      "        nan        nan        nan        nan        nan        nan\n",
      "        nan        nan        nan        nan        nan        nan\n",
      "        nan        nan        nan        nan        nan        nan\n",
      "        nan        nan        nan        nan        nan        nan\n",
      "        nan        nan        nan        nan        nan        nan\n",
      "        nan        nan        nan        nan        nan        nan\n",
      "        nan        nan        nan        nan        nan        nan\n",
      "        nan        nan        nan        nan        nan        nan\n",
      "        nan        nan        nan]\n"
     ]
    },
    {
     "name": "stderr",
     "output_type": "stream",
     "text": [
      "/Users/theodora_karalidi/anaconda3/lib/python3.7/site-packages/ipykernel_launcher.py:15: RuntimeWarning: invalid value encountered in sqrt\n",
      "  from ipykernel import kernelapp as app\n"
     ]
    }
   ],
   "source": [
    "# Code that gets array x and calcylates array y equal to sqrt( 1 - x **2 )\n",
    "\n",
    "x = -10. + np.arange(0, 20.1, 0.1) \n",
    "\n",
    "y = np.zeros( len( x ) )\n",
    "\n",
    "for i in range( len( x ) ):\n",
    "#    breakpoint()          \n",
    "    \n",
    "    q1   = x[ i ]   ** 2.\n",
    "    \n",
    "    y1     = 1 - q1  \n",
    "    \n",
    "   \n",
    "    y[ i ] = np.sqrt( y1 )\n",
    "    \n",
    "\n",
    "#print y:\n",
    "\n",
    "print( y )"
   ]
  },
  {
   "cell_type": "code",
   "execution_count": null,
   "metadata": {},
   "outputs": [],
   "source": []
  },
  {
   "cell_type": "code",
   "execution_count": null,
   "metadata": {},
   "outputs": [],
   "source": []
  },
  {
   "cell_type": "markdown",
   "metadata": {},
   "source": [
    "## -------------------------\n",
    "## Exceptions:"
   ]
  },
  {
   "cell_type": "markdown",
   "metadata": {},
   "source": [
    "### You can also make your own exceptions in Python:"
   ]
  },
  {
   "cell_type": "markdown",
   "metadata": {},
   "source": [
    "#### for this you may need to define a class:"
   ]
  },
  {
   "cell_type": "code",
   "execution_count": 24,
   "metadata": {},
   "outputs": [
    {
     "ename": "CustomError",
     "evalue": "Wrong value!",
     "output_type": "error",
     "traceback": [
      "\u001b[0;31m---------------------------------------------------------------------------\u001b[0m",
      "\u001b[0;31mCustomError\u001b[0m                               Traceback (most recent call last)",
      "\u001b[0;32m<ipython-input-24-e26d5328b177>\u001b[0m in \u001b[0;36m<module>\u001b[0;34m\u001b[0m\n\u001b[1;32m     14\u001b[0m     \u001b[0mprint\u001b[0m \u001b[0;34m(\u001b[0m\u001b[0;34m'correct'\u001b[0m\u001b[0;34m)\u001b[0m                   \u001b[0;31m# if value is positive, it's good...\u001b[0m\u001b[0;34m\u001b[0m\u001b[0;34m\u001b[0m\u001b[0m\n\u001b[1;32m     15\u001b[0m \u001b[0;32melse\u001b[0m\u001b[0;34m:\u001b[0m\u001b[0;34m\u001b[0m\u001b[0;34m\u001b[0m\u001b[0m\n\u001b[0;32m---> 16\u001b[0;31m     \u001b[0;32mraise\u001b[0m \u001b[0mCustomError\u001b[0m\u001b[0;34m(\u001b[0m\u001b[0;34m\"Wrong value!\"\u001b[0m\u001b[0;34m)\u001b[0m   \u001b[0;31m# if value is negative it's wrong -> make the code crash\u001b[0m\u001b[0;34m\u001b[0m\u001b[0;34m\u001b[0m\u001b[0m\n\u001b[0m\u001b[1;32m     17\u001b[0m \u001b[0;34m\u001b[0m\u001b[0m\n\u001b[1;32m     18\u001b[0m \u001b[0mprint\u001b[0m\u001b[0;34m(\u001b[0m \u001b[0ma\u001b[0m \u001b[0;34m)\u001b[0m\u001b[0;34m\u001b[0m\u001b[0;34m\u001b[0m\u001b[0m\n",
      "\u001b[0;31mCustomError\u001b[0m: Wrong value!"
     ]
    }
   ],
   "source": [
    "#make a custom error exception:\n",
    "\n",
    "class CustomError(Exception):\n",
    "    pass\n",
    "\n",
    "\n",
    "# then in your code:\n",
    "a = -5.         # this can be user input value e.g., or a variable passed\n",
    "                # from another code..\n",
    "\n",
    "#main body of code: \n",
    "\n",
    "if a > 0:\n",
    "    print ('correct')                   # if value is positive, it's good...\n",
    "else:\n",
    "    raise CustomError(\"Wrong value!\")   # if value is negative it's wrong -> make the code crash\n",
    "    \n",
    "print( a )"
   ]
  },
  {
   "cell_type": "code",
   "execution_count": null,
   "metadata": {},
   "outputs": [],
   "source": []
  },
  {
   "cell_type": "code",
   "execution_count": 27,
   "metadata": {},
   "outputs": [
    {
     "name": "stdout",
     "output_type": "stream",
     "text": [
      " Give me your measured flux and its direction: 10 -20\n"
     ]
    },
    {
     "ename": "GoingTheWrongWay",
     "evalue": "",
     "output_type": "error",
     "traceback": [
      "\u001b[0;31m---------------------------------------------------------------------------\u001b[0m",
      "\u001b[0;31mGoingTheWrongWay\u001b[0m                          Traceback (most recent call last)",
      "\u001b[0;32m<ipython-input-27-ee803ab239e3>\u001b[0m in \u001b[0;36m<module>\u001b[0;34m\u001b[0m\n\u001b[1;32m     19\u001b[0m \u001b[0;34m\u001b[0m\u001b[0m\n\u001b[1;32m     20\u001b[0m \u001b[0;32mif\u001b[0m \u001b[0mfloat\u001b[0m\u001b[0;34m(\u001b[0m \u001b[0mdirection\u001b[0m \u001b[0;34m)\u001b[0m \u001b[0;34m<\u001b[0m \u001b[0;36m0\u001b[0m\u001b[0;34m:\u001b[0m\u001b[0;34m\u001b[0m\u001b[0;34m\u001b[0m\u001b[0m\n\u001b[0;32m---> 21\u001b[0;31m     \u001b[0;32mraise\u001b[0m \u001b[0mGoingTheWrongWay\u001b[0m\u001b[0;34m\u001b[0m\u001b[0;34m\u001b[0m\u001b[0m\n\u001b[0m\u001b[1;32m     22\u001b[0m \u001b[0;34m\u001b[0m\u001b[0m\n",
      "\u001b[0;31mGoingTheWrongWay\u001b[0m: "
     ]
    }
   ],
   "source": [
    "# examples in some code: \n",
    "\n",
    "#let's make a bunch of random exceptions/errors\n",
    "\n",
    "class FluxIsNegative( Exception ):\n",
    "    \"\"\" You flux is physically impossible ( < 0 ) \"\"\"\n",
    "    pass\n",
    "\n",
    "\n",
    "class GoingTheWrongWay( Exception ):\n",
    "    \"\"\" Your photon is moving the wrong way around \"\"\"\n",
    "    pass\n",
    "\n",
    "    \n",
    "flux, direction = input( \" Give me your measured flux and its direction: \" ).split() \n",
    "\n",
    "if float( flux ) < 0:\n",
    "    raise FluxIsNegative\n",
    "    \n",
    "if float( direction ) < 0:\n",
    "    raise GoingTheWrongWay\n",
    "    \n"
   ]
  },
  {
   "cell_type": "code",
   "execution_count": 28,
   "metadata": {},
   "outputs": [],
   "source": [
    "# we can now make a class errors that will warn us about errors in our code:\n",
    "\n",
    "class Error( Exception ):\n",
    "    \"\"\"Base class for other exceptions\"\"\"\n",
    "    pass\n",
    "\n",
    "\n",
    "class ValueTooSmallError( Error ):\n",
    "    \"\"\" Raised when the input value is too small \"\"\"\n",
    "    pass \n",
    "\n",
    "\n",
    "class ValueTooLargeError( Error ):\n",
    "    \"\"\" Raised when the input value is too large \"\"\"\n",
    "    pass\n",
    "\n",
    "\n"
   ]
  },
  {
   "cell_type": "markdown",
   "metadata": {},
   "source": [
    "### what do you think this code does?"
   ]
  },
  {
   "cell_type": "code",
   "execution_count": 35,
   "metadata": {},
   "outputs": [
    {
     "name": "stdout",
     "output_type": "stream",
     "text": [
      "Give me a number : 10\n",
      "You got the right number!\n"
     ]
    }
   ],
   "source": [
    "nums = input( \"Give me a number : \" )\n",
    "\n",
    "\n",
    "if float( nums ) > 10. :\n",
    "    raise ValueTooLargeError\n",
    "elif float( nums ) < 10. :\n",
    "    raise ValueTooSmallError\n",
    "else:\n",
    "    print( \"You got the right number!\" )\n",
    "    "
   ]
  },
  {
   "cell_type": "markdown",
   "metadata": {},
   "source": [
    "### You can also create exceptions that warn you but don't kill the code"
   ]
  },
  {
   "cell_type": "code",
   "execution_count": 1,
   "metadata": {},
   "outputs": [
    {
     "name": "stdout",
     "output_type": "stream",
     "text": [
      " Opened file  emma.txt\n",
      " Opened file  first_data_read_plot.dat\n",
      "File Iamnothere.txt not there\n",
      "File distances_midterm.dat not there\n"
     ]
    }
   ],
   "source": [
    "names = [ 'emma.txt', 'first_data_read_plot.dat', 'Iamnothere.txt', 'distances_midterm.dat' ]\n",
    "\n",
    "for nm in names:\n",
    "    \n",
    "    try:\n",
    "        fin = open( nm )\n",
    "        print( ' Opened file ', nm )\n",
    "    except:\n",
    "        print( 'File', nm, 'not there' )\n"
   ]
  },
  {
   "cell_type": "markdown",
   "metadata": {},
   "source": [
    "### or you can even circumvent built in errors, e.g.:"
   ]
  },
  {
   "cell_type": "code",
   "execution_count": 38,
   "metadata": {},
   "outputs": [
    {
     "name": "stdout",
     "output_type": "stream",
     "text": [
      "Give index please9\n",
      "Error: list index out of range\n",
      "Give index please12\n",
      "Error: list index out of range\n",
      "Give index please4\n",
      "5\n",
      "Continue w/o error\n"
     ]
    }
   ],
   "source": [
    "while True:\n",
    "    \n",
    "    i = int( input( \"Give index please\" ) )\n",
    "    \n",
    "    try:  \n",
    "        a = [ 1, 2, 3, 4, 5 ]\n",
    "        print ( a[ i ] )  \n",
    "    except LookupError:  \n",
    "        print (\"Error: list index out of range\")\n",
    "    else:  \n",
    "        print (\"Continue w/o error\")\n",
    "        # bla bla bla....rest of code here\n",
    "        break    # we make it break for now to show it works\n",
    "    \n",
    "# see how while it would typically crash we got it to just give an error message ?"
   ]
  },
  {
   "cell_type": "markdown",
   "metadata": {},
   "source": [
    "# ----------------------"
   ]
  },
  {
   "cell_type": "markdown",
   "metadata": {},
   "source": [
    "### Many languages and programs use logging to keep track of what the code does, so that when it crashes you know what to look for. You can keep a 'log' with print() statements, but that is not ideal. Python offers a built in logging function, you simply need to import it.\n"
   ]
  },
  {
   "cell_type": "markdown",
   "metadata": {},
   "source": [
    "### e.g.,  let's see this code:"
   ]
  },
  {
   "cell_type": "code",
   "execution_count": 39,
   "metadata": {},
   "outputs": [
    {
     "name": "stdout",
     "output_type": "stream",
     "text": [
      "File emma.txt not there\n",
      "File first_data_read_plot.dat not there\n",
      "File Iamnothere.txt not there\n",
      "File distances_midterm.dat not there\n"
     ]
    }
   ],
   "source": [
    "names = [ 'emma.txt', 'first_data_read_plot.dat', 'Iamnothere.txt', 'distances_midterm.dat' ]\n",
    "\n",
    "for nm in names:\n",
    "    \n",
    "    try:\n",
    "        fin = open( nm )\n",
    "        print( ' Opened file ', nm )\n",
    "    except:\n",
    "        print( 'File', nm, 'not there' )\n"
   ]
  },
  {
   "cell_type": "markdown",
   "metadata": {},
   "source": [
    "###  you can see where the problem was here and go back and fix it.....but what if you want to keep a track of 1000s of files, and you have given it to someone else to run,  and it runs in a cluster, and....."
   ]
  },
  {
   "cell_type": "code",
   "execution_count": 40,
   "metadata": {},
   "outputs": [],
   "source": [
    "import logging "
   ]
  },
  {
   "cell_type": "markdown",
   "metadata": {},
   "source": [
    "### the logger gives you an interface to provide your log messages. There are different levels of severity of errors you might want to report/log:\n",
    "- debug    ( debug msg )\n",
    "- info     ( information about code )\n",
    "- warnings ( warnings during runtime )\n",
    "- error    ( error msg )\n",
    "- critical ( aka, what killed your code )\n",
    "\n",
    "### For more info see: https://docs.python.org/3/howto/logging.html\n",
    "\n",
    "### Generally, only messages with severity of warning and above are printed"
   ]
  },
  {
   "cell_type": "code",
   "execution_count": 41,
   "metadata": {},
   "outputs": [
    {
     "name": "stderr",
     "output_type": "stream",
     "text": [
      "WARNING:root:This is a warning message\n",
      "ERROR:root:This is an error message\n",
      "CRITICAL:root:This is a critical message\n"
     ]
    }
   ],
   "source": [
    "logging.debug('This is a debug message')\n",
    "logging.info('This is an informative message')\n",
    "logging.warning('This is a warning message')\n",
    "logging.error('This is an error message')\n",
    "logging.critical('This is a critical message')"
   ]
  },
  {
   "cell_type": "markdown",
   "metadata": {},
   "source": [
    "### debug is only needed for someone that debugs and information are not critical to keep track of  --> a typical user of your code shouldn't need to debug, so you don't want to clutter them with info"
   ]
  },
  {
   "cell_type": "code",
   "execution_count": 42,
   "metadata": {},
   "outputs": [
    {
     "name": "stderr",
     "output_type": "stream",
     "text": [
      "WARNING:__main__:This is a warning message\n",
      "ERROR:__main__:This is an error message\n",
      "CRITICAL:__main__:This is a critical message\n"
     ]
    }
   ],
   "source": [
    "# if you now chose to make a log to a file you can use the logger:\n",
    "# good convection to follow (https://docs.python.org/3/howto/logging.html):\n",
    "logger = logging.getLogger(__name__)\n",
    "handler = logging.FileHandler('mylog.log')\n",
    "handler.setLevel(logging.INFO)\n",
    "logger.addHandler(handler)\n",
    "\n",
    "#---then add your messages.\n",
    "#before running, what will be saved in your log?\n",
    "logger.debug('This is a debug message')\n",
    "logger.info('This is an informative message')\n",
    "logger.warning('This is a warning message')\n",
    "logger.error('This is an error message')\n",
    "logger.critical('This is a critical message')"
   ]
  },
  {
   "cell_type": "code",
   "execution_count": 43,
   "metadata": {},
   "outputs": [
    {
     "name": "stderr",
     "output_type": "stream",
     "text": [
      "__main__ - WARNING - This is a warning message\n",
      "WARNING:__main__:This is a warning message\n",
      "__main__ - ERROR - This is an error message\n",
      "ERROR:__main__:This is an error message\n",
      "__main__ - CRITICAL - This is a critical message\n",
      "CRITICAL:__main__:This is a critical message\n"
     ]
    }
   ],
   "source": [
    "# you can also decide to add time-stamps which help with debugging \n",
    "# later (based on https://docs.python.org/3/library/logging.html): \n",
    "\n",
    "logger = logging.getLogger(__name__)\n",
    "\n",
    "# create console handler and name and give their levels:\n",
    "c_handler = logging.StreamHandler()\n",
    "f_handler = logging.FileHandler('mylog2.log')\n",
    "c_handler.setLevel(logging.WARNING)\n",
    "f_handler.setLevel(logging.ERROR)\n",
    "\n",
    "# add formatting for messages and timestamps\n",
    "c_format = logging.Formatter('%(name)s - %(levelname)s - %(message)s')\n",
    "f_format = logging.Formatter('%(asctime)s - %(name)s - %(levelname)s - %(message)s')\n",
    "c_handler.setFormatter(c_format)\n",
    "f_handler.setFormatter(f_format)\n",
    "\n",
    "# Add handlers to the logger\n",
    "logger.addHandler(c_handler)\n",
    "logger.addHandler(f_handler)\n",
    "\n",
    "# call logger to write errors etc:\n",
    "logger.debug('This is a debug message')\n",
    "logger.info('This is an informative message')\n",
    "logger.warning('This is a warning message')\n",
    "logger.error('This is an error message')\n",
    "logger.critical('This is a critical message')"
   ]
  },
  {
   "cell_type": "code",
   "execution_count": null,
   "metadata": {},
   "outputs": [],
   "source": []
  },
  {
   "cell_type": "code",
   "execution_count": null,
   "metadata": {},
   "outputs": [],
   "source": []
  },
  {
   "cell_type": "markdown",
   "metadata": {},
   "source": [
    "# -------------------------------------------------------------------\n",
    "# -------------------------------------------------------------------"
   ]
  },
  {
   "cell_type": "code",
   "execution_count": null,
   "metadata": {},
   "outputs": [],
   "source": []
  },
  {
   "cell_type": "code",
   "execution_count": null,
   "metadata": {},
   "outputs": [],
   "source": []
  },
  {
   "cell_type": "markdown",
   "metadata": {},
   "source": [
    "### Let's do some exercises now! "
   ]
  },
  {
   "cell_type": "markdown",
   "metadata": {},
   "source": [
    "### 1. You have lists f1 = [ 2, 12, 56, 42, 64, -4, 8, 42 ] and f2 = [ 5, 64, 34, -23, 42, 12, 0.01, 9 ]. \n",
    "1) Make a function divide( f1, f2) that takes as input two lists and returns a list whose elements are equal to the ratio of f2/f1. \n",
    "\n",
    "2) Turn f1 and f2 into numpy arrays. How can you do the devision? \n",
    "\n",
    "3) Return the index where list f1 equals to -4; and where array f2 is equal to 0.01 .\n",
    "\n",
    "4) Print the n=5 element of f2"
   ]
  },
  {
   "cell_type": "code",
   "execution_count": 2,
   "metadata": {},
   "outputs": [],
   "source": [
    "def ratio(f1, f2):\n",
    "    f3 = []\n",
    "    for i in range(len(f1)):\n",
    "        f3.append(f2[i] / f1[i])\n",
    "    return f3"
   ]
  },
  {
   "cell_type": "code",
   "execution_count": 8,
   "metadata": {},
   "outputs": [
    {
     "name": "stdout",
     "output_type": "stream",
     "text": [
      "[2.5, 5.333333333333333, 0.6071428571428571, -0.5476190476190477, 0.65625, -3.0, 0.00125, 0.21428571428571427]\n",
      "[ 2.50000000e+00  5.33333333e+00  6.07142857e-01 -5.47619048e-01\n",
      "  6.56250000e-01 -3.00000000e+00  1.25000000e-03  2.14285714e-01]\n",
      "5 6\n",
      "12\n"
     ]
    }
   ],
   "source": [
    "f1 = [ 2, 12, 56, 42, 64, -4, 8, 42 ]\n",
    "f2 = [ 5, 64, 34, -23, 42, 12, 0.01, 9 ]\n",
    "print(ratio(f1,f2))\n",
    "f1a = np.asarray(f1)\n",
    "f2a = np.asarray(f2)\n",
    "f3a = f2a / f1a\n",
    "print(f3a)\n",
    "print(f1.index(-4), f2.index(0.01))\n",
    "print(f2[5])"
   ]
  },
  {
   "cell_type": "markdown",
   "metadata": {},
   "source": [
    "### 2. Debug the following code:\n",
    "\n"
   ]
  },
  {
   "cell_type": "code",
   "execution_count": 14,
   "metadata": {},
   "outputs": [
    {
     "name": "stdout",
     "output_type": "stream",
     "text": [
      "1\n",
      "3\n",
      "5\n",
      "7\n",
      "9\n",
      "11\n",
      "13\n",
      "15\n",
      "17\n",
      "19\n",
      "21\n",
      "23\n",
      "25\n",
      "27\n",
      "29\n",
      "31\n",
      "33\n",
      "35\n",
      "37\n",
      "39\n",
      "41\n",
      "21\n"
     ]
    }
   ],
   "source": [
    " def odd_numbers( N ): \n",
    "    \"\"\"Prints all odd numbers up to number N.\n",
    "    Input: N\n",
    "    Output: print of numbers \"\"\"\n",
    "    \n",
    "    q = 0\n",
    "    tot = 0\n",
    "    while q < N :\n",
    "        if q % 2 == 1:\n",
    "            print( q )\n",
    "            tot += 1\n",
    "        q = q + 1 \n",
    "    return  tot\n",
    "\n",
    "\n",
    "print( odd_numbers( 42 ) )"
   ]
  },
  {
   "cell_type": "code",
   "execution_count": null,
   "metadata": {},
   "outputs": [],
   "source": []
  },
  {
   "cell_type": "code",
   "execution_count": 18,
   "metadata": {},
   "outputs": [],
   "source": [
    "def end_of_year_interest( N, deposits_list ) :\n",
    "    \"\"\"Function that calculates the interest (assumed 4% ) gained per year for M years and \n",
    "    prints the total balance of savings account at the end of each year. \n",
    "    Input: N (interest in %), deposits_list (list with deposit $ for years 1 to M) \n",
    "    Output: total savings amount for years 1 to M \"\"\"\n",
    "    \n",
    "    year_interest = []\n",
    "    year_total    = []\n",
    "    \n",
    "    \n",
    "    year_interest = [ deposits_list[ 0 ] *  N / 100.   ]\n",
    "    year_total = [ deposits_list[ 0 ] *  ( 1 + N / 100. ) ]\n",
    "    \n",
    "    for i in range( 1, len( deposits_list ) ):\n",
    "        \n",
    "        interest_i   = ( year_total[ i -1] + deposits_list[ i ] ) *  N / 100. \n",
    "        year_total_i = ( year_total[ i -1] + deposits_list[ i ] ) * ( 1 + N / 100. )\n",
    "    \n",
    "        year_interest.append( interest_i )\n",
    "        year_total.append( year_total_i )\n",
    "    \n",
    "    return year_total"
   ]
  },
  {
   "cell_type": "code",
   "execution_count": 20,
   "metadata": {},
   "outputs": [
    {
     "name": "stdout",
     "output_type": "stream",
     "text": [
      "[102.0, 410.04, 928.2408]\n"
     ]
    }
   ],
   "source": [
    "totals = end_of_year_interest( 2, [  100, 300, 500 ] )\n",
    "print(totals)"
   ]
  },
  {
   "cell_type": "code",
   "execution_count": null,
   "metadata": {},
   "outputs": [],
   "source": []
  },
  {
   "cell_type": "markdown",
   "metadata": {},
   "source": [
    "### 3. Create a code that tells you what color your observed light is. The code should read in your log of \"observations\" from *my_random_observations.dat* and print out the color of each observation ('red', 'infrared', 'green' etc) and the corresponding energy of the light (remember that E = h c / $\\lambda$ , with h = 6.62607004e-34 [m2 kg / s ]  and c =3e8 [m/s] ; also 1nm = 1e-9 [m] ). \n",
    "#### For your convenience the following image shows the wavelengths range of each color. Everything with  $\\lambda$ > 700 nm you can label Infrared and everything with  $\\lambda$ < 400 nm Utraviolet.\n",
    "\n",
    "<img src=\"colors_wavs.png\" width=350 height=350 />\n",
    "source: https://en.wikipedia.org/wiki/Color "
   ]
  },
  {
   "cell_type": "code",
   "execution_count": 34,
   "metadata": {},
   "outputs": [
    {
     "name": "stdout",
     "output_type": "stream",
     "text": [
      "Photon  1  was  Yellow  with an energy of 3.524e-19 J.\n",
      "Photon  2  was  Ultraviolet  with an energy of 6.412e-19 J.\n",
      "Photon  3  was  Infrared  with an energy of 2.548e-19 J.\n",
      "Photon  4  was  Infrared  with an energy of 2.008e-19 J.\n",
      "Photon  5  was  Infrared  with an energy of 1.42e-19 J.\n",
      "Photon  6  was  Green  with an energy of 3.681e-19 J.\n",
      "Photon  7  was  Cyan  with an energy of 3.976e-19 J.\n"
     ]
    }
   ],
   "source": [
    "#read the data in:\n",
    "wav = np.loadtxt('my_random_observations.dat', skiprows = 1)\n",
    "\n",
    "# now lets scan through the observations and produce the correct output:\n",
    "data = wav[:,1]\n",
    "observ = []\n",
    "colors = {'Red': [700,635], 'Orange': [635, 590], 'Yellow': [590, 560], 'Green': [560, 520], 'Cyan': [520, 490], 'Blue': [490, 450], 'Violet': [450, 400]}\n",
    "for i in data:\n",
    "    if i > 700:\n",
    "        observ.append('Infrared')\n",
    "    if i < 400:\n",
    "        observ.append('Ultraviolet')\n",
    "    for j in colors:\n",
    "        if colors[j][0] >= i >= colors[j][1]:\n",
    "            observ.append(j)\n",
    "for k in range(len(observ)):\n",
    "    E = (6.626e-34)*(3e17)/(data[k])\n",
    "    print('Photon ', k+1, ' was ', observ[k], ' with an energy of',np.format_float_scientific(E, precision = 3, exp_digits=2), 'J.')\n",
    "\n",
    "\n",
    "# what is the color of the photons?\n",
    "\n",
    "# what is the energy of the photons?\n",
    "# h = 6.62607004e-34\n",
    "#    c = 3e8\n",
    "\n"
   ]
  },
  {
   "cell_type": "code",
   "execution_count": 29,
   "metadata": {},
   "outputs": [
    {
     "name": "stdout",
     "output_type": "stream",
     "text": [
      "[ 564.  310.  780.  990. 1400.  540.  500.]\n"
     ]
    }
   ],
   "source": [
    "print(data)"
   ]
  },
  {
   "cell_type": "code",
   "execution_count": null,
   "metadata": {},
   "outputs": [],
   "source": []
  },
  {
   "cell_type": "code",
   "execution_count": null,
   "metadata": {},
   "outputs": [],
   "source": []
  },
  {
   "cell_type": "markdown",
   "metadata": {},
   "source": [
    "### 4. Make a function circle that takes as input the radius of the circle and its center coordinates $x_0, y_0$ and returns the coordinates of all points of the circle in a list. Run it for $(x_0, y_0) = (0, 1) $ and radius $r = 2$. Plot your results using no line and red diamond markers"
   ]
  },
  {
   "cell_type": "code",
   "execution_count": 148,
   "metadata": {},
   "outputs": [],
   "source": [
    "def circle(x0, y0, r):\n",
    "    \"\"\"Plots a circle given the x,y coordinates of the center and the radius.\"\"\"\n",
    "    x = np.arange(x0, x0 + r + (r/500), r/500)\n",
    "    y = np.arange(y0, y0 + r + (r/500), r/500)\n",
    "    xp = np.array(x0)\n",
    "    yp = np.array(y0+r)\n",
    "    for i in x:\n",
    "        if i < (x0 + 0.5*r):  \n",
    "            for j in y[::-1]:  #scans from top to bottom to save time\n",
    "                r_c = ((i- x0)**2) + ((j - y0)**2) - (r**2)\n",
    "                if abs(r_c) < 0.001:\n",
    "                    xp = np.append(xp, i)  #only calculates points in the top right quarter of the circle\n",
    "                    yp = np.append(yp, j)  \n",
    "                \n",
    "                    xp = np.append(xp, i)  #then translates each point to the other three quarters\n",
    "                    yp = np.append(yp, 2*y0 -j)\n",
    "                \n",
    "                    xp = np.append(xp, 2*x0 - i)\n",
    "                    yp = np.append(yp, j)\n",
    "                \n",
    "                    xp = np.append(xp, 2*x0 - i)\n",
    "                    yp = np.append(yp, 2*y0 - j)\n",
    "                    break  #stops after the first y value is found for each x\n",
    "        else:\n",
    "            for k in y:  #scans from the bottom up \n",
    "                r_c1 = ((i- x0)**2) + ((k - y0)**2) - (r**2)\n",
    "                if abs(r_c1) < 0.001:\n",
    "                    xp = np.append(xp, i)\n",
    "                    yp = np.append(yp, k)\n",
    "                \n",
    "                    xp = np.append(xp, i)\n",
    "                    yp = np.append(yp, 2*y0 - k)\n",
    "                \n",
    "                    xp = np.append(xp, 2*x0 - i)\n",
    "                    yp = np.append(yp, k)\n",
    "                \n",
    "                    xp = np.append(xp, 2*x0 - i)\n",
    "                    yp = np.append(yp, 2*y0 - k)\n",
    "                    break\n",
    "    plt.figure(figsize=(7,7))\n",
    "    plt.plot(xp,yp,linestyle='none', marker='o', color='c')"
   ]
  },
  {
   "cell_type": "code",
   "execution_count": 149,
   "metadata": {
    "scrolled": true
   },
   "outputs": [
    {
     "data": {
      "image/png": "[encoded data removed]",
      "text/plain": [
       "<Figure size 504x504 with 1 Axes>"
      ]
     },
     "metadata": {},
     "output_type": "display_data"
    }
   ],
   "source": [
    "circle(0,1,2)"
   ]
  },
  {
   "cell_type": "code",
   "execution_count": null,
   "metadata": {},
   "outputs": [],
   "source": []
  }
 ],
 "metadata": {
  "kernelspec": {
   "display_name": "Python 3",
   "language": "python",
   "name": "python3"
  },
  "language_info": {
   "codemirror_mode": {
    "name": "ipython",
    "version": 3
   },
   "file_extension": ".py",
   "mimetype": "text/x-python",
   "name": "python",
   "nbconvert_exporter": "python",
   "pygments_lexer": "ipython3",
   "version": "3.9.4"
  }
 },
 "nbformat": 4,
 "nbformat_minor": 2
}
