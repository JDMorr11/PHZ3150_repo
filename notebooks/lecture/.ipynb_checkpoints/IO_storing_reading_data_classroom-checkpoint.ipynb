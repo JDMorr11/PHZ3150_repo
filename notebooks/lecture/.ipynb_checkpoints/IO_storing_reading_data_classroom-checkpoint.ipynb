{
 "cells": [
  {
   "cell_type": "markdown",
   "metadata": {},
   "source": [
    "# I/O, storing and reading data"
   ]
  },
  {
   "cell_type": "code",
   "execution_count": null,
   "metadata": {},
   "outputs": [],
   "source": [
    "### 10.7.2021 - Fall 2021 PHZ3150"
   ]
  },
  {
   "cell_type": "code",
   "execution_count": null,
   "metadata": {},
   "outputs": [],
   "source": [
    "import numpy as np"
   ]
  },
  {
   "cell_type": "markdown",
   "metadata": {},
   "source": [
    "#### Usually the slowest part of codes is the Input/Output part. Careful how many times you do I/O operations\n"
   ]
  },
  {
   "cell_type": "markdown",
   "metadata": {},
   "source": [
    "### for example, compare the time it takes to read this:"
   ]
  },
  {
   "cell_type": "code",
   "execution_count": 1,
   "metadata": {},
   "outputs": [],
   "source": [
    "cf = np.zeros(10663)"
   ]
  },
  {
   "cell_type": "code",
   "execution_count": 2,
   "metadata": {
    "scrolled": false
   },
   "outputs": [
    {
     "name": "stdout",
     "output_type": "stream",
     "text": [
      "Wall time: 26 ms\n"
     ]
    }
   ],
   "source": [
    "%%time\n",
    "\n",
    "with open('10k_file.dat', 'r') as f:\n",
    "    j = 0\n",
    "    for line in f:\n",
    "        p = line.split()\n",
    "        cf[ j ] = p[4]\n",
    "        j = j + 1\n",
    "        \n"
   ]
  },
  {
   "cell_type": "markdown",
   "metadata": {},
   "source": [
    "### versus: "
   ]
  },
  {
   "cell_type": "code",
   "execution_count": 3,
   "metadata": {},
   "outputs": [
    {
     "name": "stdout",
     "output_type": "stream",
     "text": [
      "Wall time: 6 ms\n"
     ]
    }
   ],
   "source": [
    "%%time\n",
    "f = open('10k_file.dat','r')  \n",
    "my_text = f.read()               \n",
    "f.close()                        "
   ]
  },
  {
   "cell_type": "code",
   "execution_count": null,
   "metadata": {},
   "outputs": [],
   "source": []
  },
  {
   "cell_type": "markdown",
   "metadata": {},
   "source": [
    "#### You can open a file to:\n",
    "\n",
    "read: f = open(‘my_file’, ‘r’)\n",
    "\n",
    "write: f = open(‘my_file’, ‘w’)\n",
    "\n",
    "append: f = open(‘my_file’, ‘a’)\n",
    "\n",
    "read/write: f = open(‘my_file’, ‘r+’)\n",
    "\n"
   ]
  },
  {
   "cell_type": "markdown",
   "metadata": {},
   "source": [
    "#### -----------------------"
   ]
  },
  {
   "cell_type": "markdown",
   "metadata": {},
   "source": [
    "#### After you open a file you can do things with the data you read in:\n"
   ]
  },
  {
   "cell_type": "markdown",
   "metadata": {},
   "source": [
    "#### read everything in one go: f.read()\n"
   ]
  },
  {
   "cell_type": "markdown",
   "metadata": {},
   "source": [
    "#### read line by line: f.readline()\n",
    "\n",
    "#### Don’t forget to eventually close your file: f.close()\n"
   ]
  },
  {
   "cell_type": "code",
   "execution_count": null,
   "metadata": {},
   "outputs": [],
   "source": []
  },
  {
   "cell_type": "markdown",
   "metadata": {},
   "source": [
    "#### Note that after closing the file the f. is released from memory and trying to access it to do anything will give you an error.\n",
    "\n",
    "\n",
    "#### Better practice for working with a file:\n",
    "\n",
    "with open(‘my_file') as f: <br>\n",
    "------ do things here>\n",
    "\n",
    "file is closed\n"
   ]
  },
  {
   "cell_type": "code",
   "execution_count": null,
   "metadata": {},
   "outputs": [],
   "source": []
  },
  {
   "cell_type": "markdown",
   "metadata": {},
   "source": [
    "#### Let's try it out:"
   ]
  },
  {
   "cell_type": "markdown",
   "metadata": {},
   "source": [
    "#### Let's start by reading in a random text file, all in one go:"
   ]
  },
  {
   "cell_type": "code",
   "execution_count": 4,
   "metadata": {},
   "outputs": [],
   "source": [
    "f = open('random_text.txt','r')  # open the file in read ('r') mode under name 'f'\n",
    "my_text = f.read()               # read all of f ( f.read() ) in variable my_text\n",
    "f.close()                        # close the file f"
   ]
  },
  {
   "cell_type": "code",
   "execution_count": null,
   "metadata": {},
   "outputs": [],
   "source": []
  },
  {
   "cell_type": "code",
   "execution_count": 5,
   "metadata": {},
   "outputs": [
    {
     "name": "stdout",
     "output_type": "stream",
     "text": [
      "Random selection of text taken from the thinkpython2 book:\n",
      "The innermost statements, fd and lt are indented twice to show that\n",
      "they are inside the for loop, which is inside the function definition.\n",
      "The next line, square(bob), is flush with\n",
      "the left margin, which indicates the end of both the for loop and the function\n",
      "definition. Inside the function, t refers to the same turtle bob, so t.lt(90)\n",
      "has the same effect as bob.lt(90). In that case, why not call the parameter bob?\n",
      "The idea is that t can be any turtle, not just bob, so you could create a\n",
      "second turtle and pass it as an argument to square:\n",
      "alice = turtle.Turtle()\n",
      "square(alice)\n",
      "Wrapping a piece of code up in a function is called encapsulation. One of the benefits of\n",
      "encapsulation is that it attaches a name to the code, which serves as a kind of documentation.\n",
      "Another advantage is that if you re-use the code, it is more concise to call a function\n",
      "twice than to copy and paste the body!\n",
      "\n"
     ]
    }
   ],
   "source": [
    "#let's see what we read:\n",
    "\n",
    "print(my_text)"
   ]
  },
  {
   "cell_type": "markdown",
   "metadata": {},
   "source": [
    "#### it worked!"
   ]
  },
  {
   "cell_type": "markdown",
   "metadata": {},
   "source": [
    "#### Now let's try to use the readline():"
   ]
  },
  {
   "cell_type": "code",
   "execution_count": 6,
   "metadata": {},
   "outputs": [
    {
     "name": "stdout",
     "output_type": "stream",
     "text": [
      "Random selection of text taken from the thinkpython2 book:\n",
      "\n",
      "The innermost statements, fd and lt are indented twice to show that\n",
      "\n"
     ]
    }
   ],
   "source": [
    "f = open('random_text.txt','r')   # open the file in read ('r') mode under name 'f'\n",
    " \n",
    "print( f.readline() )             # read a line of f ( f. readline() ) and print it\n",
    "print( f.readline() )             # read another line of f\n",
    "\n",
    "f.close()                         # close the file f"
   ]
  },
  {
   "cell_type": "code",
   "execution_count": 7,
   "metadata": {},
   "outputs": [
    {
     "ename": "ValueError",
     "evalue": "I/O operation on closed file.",
     "output_type": "error",
     "traceback": [
      "\u001b[1;31m---------------------------------------------------------------------------\u001b[0m",
      "\u001b[1;31mValueError\u001b[0m                                Traceback (most recent call last)",
      "\u001b[1;32m<ipython-input-7-7e1d2e12b839>\u001b[0m in \u001b[0;36m<module>\u001b[1;34m\u001b[0m\n\u001b[1;32m----> 1\u001b[1;33m \u001b[0mf\u001b[0m\u001b[1;33m.\u001b[0m\u001b[0mreadline\u001b[0m\u001b[1;33m(\u001b[0m\u001b[1;33m)\u001b[0m\u001b[1;33m\u001b[0m\u001b[1;33m\u001b[0m\u001b[0m\n\u001b[0m",
      "\u001b[1;31mValueError\u001b[0m: I/O operation on closed file."
     ]
    }
   ],
   "source": [
    "f.readline()"
   ]
  },
  {
   "cell_type": "code",
   "execution_count": null,
   "metadata": {},
   "outputs": [],
   "source": []
  },
  {
   "cell_type": "markdown",
   "metadata": {},
   "source": [
    "#### it reads it line by line..."
   ]
  },
  {
   "cell_type": "markdown",
   "metadata": {},
   "source": [
    "#### now let's try to open it with the *with open() as f* and read it line by line:"
   ]
  },
  {
   "cell_type": "code",
   "execution_count": 8,
   "metadata": {},
   "outputs": [
    {
     "name": "stdout",
     "output_type": "stream",
     "text": [
      "Random selection of text taken from the thinkpython2 book:\n",
      "\n",
      "The innermost statements, fd and lt are indented twice to show that\n",
      "\n",
      "they are inside the for loop, which is inside the function definition.\n",
      "\n",
      "The next line, square(bob), is flush with\n",
      "\n",
      "the left margin, which indicates the end of both the for loop and the function\n",
      "\n",
      "definition. Inside the function, t refers to the same turtle bob, so t.lt(90)\n",
      "\n",
      "has the same effect as bob.lt(90). In that case, why not call the parameter bob?\n",
      "\n",
      "The idea is that t can be any turtle, not just bob, so you could create a\n",
      "\n",
      "second turtle and pass it as an argument to square:\n",
      "\n",
      "alice = turtle.Turtle()\n",
      "\n",
      "square(alice)\n",
      "\n",
      "Wrapping a piece of code up in a function is called encapsulation. One of the benefits of\n",
      "\n",
      "encapsulation is that it attaches a name to the code, which serves as a kind of documentation.\n",
      "\n",
      "Another advantage is that if you re-use the code, it is more concise to call a function\n",
      "\n",
      "twice than to copy and paste the body!\n",
      "\n"
     ]
    }
   ],
   "source": [
    "with open(\"random_text.txt\", \"r\") as f:   # we again open the file as f\n",
    "    for line in f:                        # we now loop f line by line\n",
    "        print( line )                       # and we print the line we just read"
   ]
  },
  {
   "cell_type": "code",
   "execution_count": null,
   "metadata": {},
   "outputs": [],
   "source": []
  },
  {
   "cell_type": "markdown",
   "metadata": {},
   "source": [
    "#### What if we want to split the lines into their elements to use them for some reason?"
   ]
  },
  {
   "cell_type": "code",
   "execution_count": 9,
   "metadata": {},
   "outputs": [
    {
     "name": "stdout",
     "output_type": "stream",
     "text": [
      "['Random', 'selection', 'of', 'text', 'taken', 'from', 'the', 'thinkpython2', 'book:']\n",
      "['The', 'innermost', 'statements,', 'fd', 'and', 'lt', 'are', 'indented', 'twice', 'to', 'show', 'that']\n",
      "['they', 'are', 'inside', 'the', 'for', 'loop,', 'which', 'is', 'inside', 'the', 'function', 'definition.']\n"
     ]
    }
   ],
   "source": [
    "with open(\"random_text.txt\", \"r\") as f:  # open file as f\n",
    "    for line in f:                       # start looping the file line by line \n",
    "        q = line.split()                 # split the line in its parts ( split() - delimeter space )\n",
    "        print ( q )                      # print it\n",
    "\n",
    "        if q[0] == 'they':               # if the first word in the line is 'they' :\n",
    "            break                        # break out of the loop\n"
   ]
  },
  {
   "cell_type": "code",
   "execution_count": 10,
   "metadata": {},
   "outputs": [
    {
     "name": "stdout",
     "output_type": "stream",
     "text": [
      "they the\n"
     ]
    }
   ],
   "source": [
    "# what happens if I ask it to print:\n",
    "print( q[ 0 ], q[ 3 ] )\n",
    "# and why?"
   ]
  },
  {
   "cell_type": "code",
   "execution_count": null,
   "metadata": {},
   "outputs": [],
   "source": []
  },
  {
   "cell_type": "markdown",
   "metadata": {},
   "source": [
    "#### Now lets try to write our first file:"
   ]
  },
  {
   "cell_type": "code",
   "execution_count": 11,
   "metadata": {},
   "outputs": [],
   "source": [
    "f = open('my_first_writen_file.txt','w')                # open a file in write mode ( 'w' )\n",
    "\n",
    "f.write('This is my first written and saved line! \\n')  # write something in the file \n",
    "\n",
    "f.close()                                               # close the file"
   ]
  },
  {
   "cell_type": "code",
   "execution_count": null,
   "metadata": {},
   "outputs": [],
   "source": []
  },
  {
   "cell_type": "markdown",
   "metadata": {},
   "source": [
    "#### try to open the file to read it in and see what you just did:"
   ]
  },
  {
   "cell_type": "code",
   "execution_count": 12,
   "metadata": {},
   "outputs": [
    {
     "name": "stdout",
     "output_type": "stream",
     "text": [
      "This is my first written and saved line! \n",
      "\n"
     ]
    }
   ],
   "source": [
    "with open('my_first_writen_file.txt','r') as f:\n",
    "    a = f.read()  \n",
    "\n",
    "print( a )   # it worked!"
   ]
  },
  {
   "cell_type": "code",
   "execution_count": null,
   "metadata": {},
   "outputs": [],
   "source": []
  },
  {
   "cell_type": "markdown",
   "metadata": {},
   "source": [
    "#### Now let's go back to this file and open it in read/write mode:"
   ]
  },
  {
   "cell_type": "code",
   "execution_count": 13,
   "metadata": {},
   "outputs": [
    {
     "name": "stdout",
     "output_type": "stream",
     "text": [
      "This is my first written and saved line! \n",
      "\n"
     ]
    }
   ],
   "source": [
    "f = open('my_first_writen_file.txt','r+')   # open the file in read/write mode ('r+')\n",
    "\n",
    "my_text = f.read()                          # read the file into my_text\n",
    "\n",
    "f.write('oh oh! what did I just do? \\n ')   # write something in the file; \\n for new line\n",
    "\n",
    "f.close()                                   # close the file\n",
    "\n",
    "\n",
    "print(my_text)                              # print my_text"
   ]
  },
  {
   "cell_type": "markdown",
   "metadata": {},
   "source": [
    "#### let's open it again and see what we did:"
   ]
  },
  {
   "cell_type": "code",
   "execution_count": 14,
   "metadata": {},
   "outputs": [
    {
     "name": "stdout",
     "output_type": "stream",
     "text": [
      "This is my first written and saved line! \n",
      "oh oh! what did I just do? \n",
      " \n"
     ]
    }
   ],
   "source": [
    "f = open('my_first_writen_file.txt','r')\n",
    " \n",
    "my_text = f.read() \n",
    "\n",
    "print(my_text)\n",
    "\n",
    "f.close()  \n",
    "#it worked! we read a file and wrote something at the end."
   ]
  },
  {
   "cell_type": "markdown",
   "metadata": {},
   "source": [
    "#### why do we need the \\n ? Let's open the file again and add 2 new lines:"
   ]
  },
  {
   "cell_type": "code",
   "execution_count": 15,
   "metadata": {},
   "outputs": [
    {
     "name": "stdout",
     "output_type": "stream",
     "text": [
      "This is my first written and saved line! \n",
      "oh oh! what did I just do? \n",
      " What would happen if I forget to add a new line ? \n"
     ]
    }
   ],
   "source": [
    "f = open('my_first_writen_file.txt','r+')   # open the file in read/write mode ('r+')\n",
    "\n",
    "my_text = f.read()                          # read the file into my_text\n",
    "\n",
    "f.write( 'What would happen if I forget ' )\n",
    "f.write( 'to add a new line ? ')\n",
    "f.close()                                   # close the file\n",
    "\n",
    "\n",
    "### now let's read it in again and see what we did:\n",
    "f = open('my_first_writen_file.txt','r')\n",
    "my_text = f.read() \n",
    "f.close()  \n",
    "print( my_text )"
   ]
  },
  {
   "cell_type": "markdown",
   "metadata": {},
   "source": [
    "#### oops! I wanted it in 2 lines and it just wrote it in 1 ! Let's try again with the \\n :"
   ]
  },
  {
   "cell_type": "code",
   "execution_count": 16,
   "metadata": {},
   "outputs": [
    {
     "name": "stdout",
     "output_type": "stream",
     "text": [
      "This is my first written and saved line! \n",
      "oh oh! what did I just do? \n",
      " What would happen if I forget to add a new line ? What would happen if I wouldn't forget \n",
      "to add a new line ? \n",
      " \n"
     ]
    }
   ],
   "source": [
    "f = open('my_first_writen_file.txt','r+')   # open the file in read/write mode ('r+')\n",
    "\n",
    "my_text = f.read()                          # read the file into my_text\n",
    "\n",
    "f.write( \"What would happen if I wouldn't forget \\n\" )\n",
    "f.write( 'to add a new line ? \\n ')\n",
    "f.close()                                   # close the file\n",
    "\n",
    "\n",
    "### now let's read it in again and see what we did:\n",
    "f = open('my_first_writen_file.txt','r')\n",
    "my_text = f.read() \n",
    "f.close()  \n",
    "print(my_text)"
   ]
  },
  {
   "cell_type": "markdown",
   "metadata": {},
   "source": [
    "#### See what happened? "
   ]
  },
  {
   "cell_type": "code",
   "execution_count": null,
   "metadata": {},
   "outputs": [],
   "source": []
  },
  {
   "cell_type": "markdown",
   "metadata": {},
   "source": [
    "#### How you open a file is crucial. Make sure you always check before you run a code.\n",
    "\n",
    "e.g.,"
   ]
  },
  {
   "cell_type": "code",
   "execution_count": 17,
   "metadata": {},
   "outputs": [
    {
     "name": "stdout",
     "output_type": "stream",
     "text": [
      "And I will add this line as well now! \n",
      "\n"
     ]
    }
   ],
   "source": [
    "#Let's open it one more time to write on it again:\n",
    "f = open('my_first_writen_file.txt','w')\n",
    "f.write('And I will add this line as well now! \\n')\n",
    "f.close()\n",
    "\n",
    "# and let's open and read it again:\n",
    "f = open('my_first_writen_file.txt','r')\n",
    "my_text = f.read() \n",
    "f.close()   \n",
    "\n",
    "print(my_text) "
   ]
  },
  {
   "cell_type": "markdown",
   "metadata": {},
   "source": [
    "### !!!oops! I completely erased the previous text! Can you see why that happened?"
   ]
  },
  {
   "cell_type": "code",
   "execution_count": null,
   "metadata": {},
   "outputs": [],
   "source": []
  },
  {
   "cell_type": "code",
   "execution_count": 18,
   "metadata": {},
   "outputs": [],
   "source": [
    "#### Let's fall back to the initial file:\n",
    "\n",
    "f = open('my_first_writen_file.txt','w')      # open a file in write mode ( 'w' )\n",
    "\n",
    "f.write('This is my first written line! \\n')  # write something in the file \n",
    "f.write( 'oh oh! what did I just do? \\n' )\n",
    "f.close()                                     # close the file"
   ]
  },
  {
   "cell_type": "markdown",
   "metadata": {},
   "source": [
    "#### now lets open it again to append a line:"
   ]
  },
  {
   "cell_type": "code",
   "execution_count": 19,
   "metadata": {},
   "outputs": [],
   "source": [
    "f = open ('my_first_writen_file.txt','a')         # open the file in appending ('a') mode\n",
    "f.write('and this is the other line I wrote! \\n') # write a line\n",
    "f.close()                                         # close the file"
   ]
  },
  {
   "cell_type": "code",
   "execution_count": 20,
   "metadata": {},
   "outputs": [
    {
     "name": "stdout",
     "output_type": "stream",
     "text": [
      "This is my first written line! \n",
      "oh oh! what did I just do? \n",
      "and this is the other line I wrote! \n",
      "\n"
     ]
    }
   ],
   "source": [
    "# and let's open and read it again:\n",
    "f = open('my_first_writen_file.txt','r')\n",
    "my_text = f.read() \n",
    "f.close()   \n",
    "\n",
    "print(my_text) "
   ]
  },
  {
   "cell_type": "code",
   "execution_count": null,
   "metadata": {},
   "outputs": [],
   "source": []
  },
  {
   "cell_type": "markdown",
   "metadata": {},
   "source": [
    "# -----------------------"
   ]
  },
  {
   "cell_type": "markdown",
   "metadata": {},
   "source": [
    "## np.savetxt()"
   ]
  },
  {
   "cell_type": "markdown",
   "metadata": {},
   "source": [
    "### What about having to deal with data instead of text?"
   ]
  },
  {
   "cell_type": "code",
   "execution_count": 21,
   "metadata": {},
   "outputs": [],
   "source": [
    "#### Let's create a 3 by 3 data array of 1s\n",
    "\n",
    "data = np.ones ( ( 3 ,3 ) )\n"
   ]
  },
  {
   "cell_type": "markdown",
   "metadata": {},
   "source": [
    "#### How do we write the data in the file?"
   ]
  },
  {
   "cell_type": "code",
   "execution_count": 22,
   "metadata": {},
   "outputs": [],
   "source": [
    "# one way to do it would be to add it as an appended string:\n",
    "\n",
    "f = open('my_first_writen_file.txt','a')\n",
    "\n",
    "for i in range(3):\n",
    "    f.write(str(data[i,:])+'\\n')   #note that with the f.write you need to convert the data to a string\n",
    "                                   #if you keep it an array the code will crash/complain\n",
    "f.close()\n"
   ]
  },
  {
   "cell_type": "code",
   "execution_count": 23,
   "metadata": {},
   "outputs": [
    {
     "name": "stdout",
     "output_type": "stream",
     "text": [
      "This is my first written line! \n",
      "oh oh! what did I just do? \n",
      "and this is the other line I wrote! \n",
      "[1. 1. 1.]\n",
      "[1. 1. 1.]\n",
      "[1. 1. 1.]\n",
      "\n"
     ]
    }
   ],
   "source": [
    "# and let's open and read it again:\n",
    "f = open('my_first_writen_file.txt','r')\n",
    "my_text = f.read() \n",
    "f.close()   \n",
    "\n",
    "print( my_text ) "
   ]
  },
  {
   "cell_type": "markdown",
   "metadata": {},
   "source": [
    "#### what if we want to save the real data as nunbers? np.savetxt()"
   ]
  },
  {
   "cell_type": "code",
   "execution_count": 24,
   "metadata": {},
   "outputs": [
    {
     "name": "stdout",
     "output_type": "stream",
     "text": [
      "1.00 1.00 1.00\n",
      "1.00 1.00 1.00\n",
      "1.00 1.00 1.00\n",
      "\n"
     ]
    }
   ],
   "source": [
    "#Let's try it out first on its own:\n",
    "\n",
    "np.savetxt('my_first_numpy_array_saved.txt', data, \n",
    "           fmt='%.2f', delimiter=' ')              #notice that you can use fmt to format your output\n",
    "                    \n",
    "\n",
    "#let's check what we did:\n",
    "f = open('my_first_numpy_array_saved.txt','r')\n",
    "a = f.read()\n",
    "f.close()\n",
    "\n",
    "print( a ) "
   ]
  },
  {
   "cell_type": "code",
   "execution_count": null,
   "metadata": {},
   "outputs": [],
   "source": []
  },
  {
   "cell_type": "code",
   "execution_count": 25,
   "metadata": {},
   "outputs": [
    {
     "name": "stdout",
     "output_type": "stream",
     "text": [
      "1.00 1.00 1.00\n",
      "1.00 1.00 1.00\n",
      "1.00 1.00 1.00\n",
      "\n"
     ]
    }
   ],
   "source": [
    "#what happens if you want to append the numbers to a text file using savetxt?\n",
    "# first make a backup copy of my_first_writen_file.txt (trust me)\n",
    "\n",
    "#try the following. Do you think that it would work? Why/why not?\n",
    "\n",
    "f = open(\"my_first_writen_file.txt\", \"a\")\n",
    "np.savetxt('my_first_writen_file.txt', data, fmt='%.2f', delimiter=' ')\n",
    "f.close()\n",
    "\n",
    "\n",
    "#let's see what we did:\n",
    "\n",
    "f = open('my_first_writen_file.txt','r')\n",
    "a = f.read()\n",
    "f.close()\n",
    "\n",
    "print(a) #!! ouch! it erased your entire file! "
   ]
  },
  {
   "cell_type": "code",
   "execution_count": 26,
   "metadata": {},
   "outputs": [
    {
     "name": "stdout",
     "output_type": "stream",
     "text": [
      "1.00 1.00 1.00\n",
      "1.00 1.00 1.00\n",
      "1.00 1.00 1.00\n",
      "1.00 1.00 1.00\n",
      "1.00 1.00 1.00\n",
      "1.00 1.00 1.00\n",
      "\n"
     ]
    }
   ],
   "source": [
    "#what you can do (but you normally will not need to, unless you do something weird to need to do this), is \n",
    "#open your file in a binary format:\n",
    "\n",
    "f=open('my_first_writen_file.txt','ab')\n",
    "\n",
    "np.savetxt(f,data, fmt='%.2f', delimiter=' ')\n",
    "\n",
    "f.close()\n",
    "\n",
    "f = open('my_first_writen_file.txt','r')\n",
    "a = f.read()\n",
    "f.close()\n",
    "\n",
    "print(a) #it worked! "
   ]
  },
  {
   "cell_type": "markdown",
   "metadata": {},
   "source": [
    "### numpy.savetxt is an OK method to store your small arrays. For larger sets you need to delve into pickles/csv ..."
   ]
  },
  {
   "cell_type": "code",
   "execution_count": 27,
   "metadata": {},
   "outputs": [],
   "source": [
    "np.savetxt('test_2.dat',data, fmt='%.2f', delimiter=' ', \n",
    "           header= 'This are my random data')"
   ]
  },
  {
   "cell_type": "markdown",
   "metadata": {},
   "source": [
    "# ------------------"
   ]
  },
  {
   "cell_type": "markdown",
   "metadata": {},
   "source": [
    "## Pickles"
   ]
  },
  {
   "cell_type": "markdown",
   "metadata": {},
   "source": [
    "#### Pickles: converts your input with a binary protocol to serialize/ save your input and to deserialize/open (unpickle) it\n",
    "\n",
    "### “Never unpickle data received from an untrusted or unauthenticated source”\n",
    "\n",
    "#### pickle module keeps track of the objects it has already serialized, so that later references to the same object won’t be serialized again\n"
   ]
  },
  {
   "cell_type": "markdown",
   "metadata": {},
   "source": [
    "#### Efficient way to compress data – you can reconstruct complete Python datasets \n",
    "\n",
    "#### ----\n",
    "Some may be familiar with JSON and pickles may sound comparable but keep in mind:\n",
    "\n",
    "Pickles are not human readable\n",
    "\n",
    "Pickles are Python specific\n",
    "#### ----\n"
   ]
  },
  {
   "cell_type": "markdown",
   "metadata": {},
   "source": [
    "#### When trying to unpickle a dataset the version of Python used may come into play: pickles are not compatible between Python 2 and 3!\n",
    "\n",
    "\n",
    "#### Things to remember:\n",
    " \n",
    "import pickle <br>\n",
    "pickle.dump() <br>\n",
    "pickle.load() <br>\n"
   ]
  },
  {
   "cell_type": "code",
   "execution_count": 28,
   "metadata": {},
   "outputs": [],
   "source": [
    "#Pickles\n",
    "\n",
    "import pickle\n"
   ]
  },
  {
   "cell_type": "code",
   "execution_count": 29,
   "metadata": {},
   "outputs": [],
   "source": [
    "\n",
    "#Let's get a dictionary from our previous demo :\n",
    "\n",
    "car1 = {\n",
    "  \"model\" : \"Escape\",\n",
    "  \"make\" : \"Ford\"\n",
    "}\n",
    "car2 = {\n",
    "  \"model\" : \"500\",\n",
    "  \"make\" : \"Fiat\"\n",
    "}\n",
    "car3 = {\n",
    "  \"model\" : \"Tucson\",\n",
    "  \"make\" : \"Hyundai\"\n",
    "}\n",
    "\n",
    "\n",
    "all_my_cars = {\n",
    "  \"car1\" : car1,\n",
    "  \"car2\" : car2,\n",
    "  \"car3\" : car3\n",
    "}\n"
   ]
  },
  {
   "cell_type": "code",
   "execution_count": 30,
   "metadata": {},
   "outputs": [],
   "source": [
    "#and now let's open a file to save the data in:\n",
    "\n",
    "f = open('my_first_pickle.pickle','wb')       # open file in binary mode \n",
    "\n",
    "pickle.dump(all_my_cars,f)                    # let's dump our pickled dictionary in there:\n",
    "\n",
    "f.close()                                     # close the file"
   ]
  },
  {
   "cell_type": "markdown",
   "metadata": {},
   "source": [
    "##### congrats! you saved your first pickle!"
   ]
  },
  {
   "cell_type": "code",
   "execution_count": 31,
   "metadata": {},
   "outputs": [],
   "source": [
    "#Let's now see what we saved actually:\n",
    "\n",
    "pickle_read  = open('my_first_pickle.pickle','rb')  # open and read pickle\n",
    "example_dict = pickle.load(pickle_read)             # load the pickle in example_dict"
   ]
  },
  {
   "cell_type": "code",
   "execution_count": 32,
   "metadata": {},
   "outputs": [
    {
     "name": "stdout",
     "output_type": "stream",
     "text": [
      "dict_items([('car1', {'model': 'Escape', 'make': 'Ford'}), ('car2', {'model': '500', 'make': 'Fiat'}), ('car3', {'model': 'Tucson', 'make': 'Hyundai'})])\n",
      "dict_keys(['car1', 'car2', 'car3'])\n",
      "dict_values([{'model': 'Escape', 'make': 'Ford'}, {'model': '500', 'make': 'Fiat'}, {'model': 'Tucson', 'make': 'Hyundai'}])\n"
     ]
    },
    {
     "data": {
      "text/plain": [
       "'Escape'"
      ]
     },
     "execution_count": 32,
     "metadata": {},
     "output_type": "execute_result"
    }
   ],
   "source": [
    "# test:\n",
    "\n",
    "print( example_dict.items()  )\n",
    "print( example_dict.keys()   )\n",
    "print( example_dict.values() )\n",
    "\n",
    "\n",
    "example_dict['car1']['model']\n",
    "\n",
    "#it worked!"
   ]
  },
  {
   "cell_type": "markdown",
   "metadata": {},
   "source": [
    "#### Saving the dictionary in a pickle preserved its dictionary nature."
   ]
  },
  {
   "cell_type": "code",
   "execution_count": null,
   "metadata": {},
   "outputs": [],
   "source": []
  },
  {
   "cell_type": "markdown",
   "metadata": {},
   "source": [
    "#### Sometimes you can have a pickle that you know a priori what data it has in it (how many columns, what each column is...)"
   ]
  },
  {
   "cell_type": "code",
   "execution_count": 33,
   "metadata": {},
   "outputs": [],
   "source": [
    "# let's make some data up\n",
    "f_in = np.arange(10)\n",
    "q_in = f_in**2\n",
    "u_in = f_in**3\n",
    "\n",
    "# open a file and store your second pickled data:\n",
    "\n",
    "f = open('my_second_pickle.pickle','wb')\n",
    "\n",
    "pickle.dump([f_in, q_in, u_in],f)\n",
    "\n",
    "f.close()"
   ]
  },
  {
   "cell_type": "code",
   "execution_count": 34,
   "metadata": {},
   "outputs": [],
   "source": [
    "# now that I know that my data are f_in, q_in, u_in lets unpickle it in one go:\n",
    "\n",
    "f, q, u = pickle.load( open( 'my_second_pickle.pickle','rb' ) )\n"
   ]
  },
  {
   "cell_type": "code",
   "execution_count": 35,
   "metadata": {},
   "outputs": [
    {
     "name": "stdout",
     "output_type": "stream",
     "text": [
      "[ True  True  True  True  True  True  True  True  True  True]\n",
      "[ True  True  True  True  True  True  True  True  True  True]\n"
     ]
    }
   ],
   "source": [
    "# test:\n",
    "print( f == f_in )\n",
    "print( q == q_in )"
   ]
  },
  {
   "cell_type": "code",
   "execution_count": null,
   "metadata": {},
   "outputs": [],
   "source": []
  },
  {
   "cell_type": "markdown",
   "metadata": {},
   "source": [
    "# ------------------"
   ]
  },
  {
   "cell_type": "markdown",
   "metadata": {},
   "source": [
    "## CSV"
   ]
  },
  {
   "cell_type": "markdown",
   "metadata": {},
   "source": [
    "#### CSV: Comma Separated data (Values) --> used to save tabular data such as a spreadsheet or a database\n",
    "\n",
    "\n",
    "#### Things to remember:\n",
    "\n",
    "import csv  <br>\n",
    "csv.reader() <br>\n",
    "csv.writer()<br>\n"
   ]
  },
  {
   "cell_type": "code",
   "execution_count": null,
   "metadata": {},
   "outputs": [],
   "source": []
  },
  {
   "cell_type": "code",
   "execution_count": 36,
   "metadata": {},
   "outputs": [],
   "source": [
    "#Let's now do some csv reading/writing:\n",
    "\n",
    "import csv "
   ]
  },
  {
   "cell_type": "code",
   "execution_count": null,
   "metadata": {},
   "outputs": [],
   "source": []
  },
  {
   "cell_type": "code",
   "execution_count": 37,
   "metadata": {},
   "outputs": [],
   "source": [
    "## as a test case we will use the dictionary from before:\n",
    "\n",
    "with open('my_first_csv.csv', 'w') as f:     # open the file to write in it\n",
    "\n",
    "    writer = csv.writer(f)                   # you will use the csv module to write the data\n",
    "    \n",
    "    for key, value in example_dict.items():  # loop over items in your dictionary \n",
    "        \n",
    "        writer.writerow([key, value])        # write the items"
   ]
  },
  {
   "cell_type": "code",
   "execution_count": 38,
   "metadata": {},
   "outputs": [
    {
     "ename": "ValueError",
     "evalue": "dictionary update sequence element #1 has length 0; 2 is required",
     "output_type": "error",
     "traceback": [
      "\u001b[1;31m---------------------------------------------------------------------------\u001b[0m",
      "\u001b[1;31mValueError\u001b[0m                                Traceback (most recent call last)",
      "\u001b[1;32m<ipython-input-38-66732cff51ed>\u001b[0m in \u001b[0;36m<module>\u001b[1;34m\u001b[0m\n\u001b[0;32m      5\u001b[0m \u001b[1;32mwith\u001b[0m \u001b[0mopen\u001b[0m\u001b[1;33m(\u001b[0m\u001b[1;34m'my_first_csv.csv'\u001b[0m\u001b[1;33m)\u001b[0m \u001b[1;32mas\u001b[0m \u001b[0mf\u001b[0m\u001b[1;33m:\u001b[0m\u001b[1;33m\u001b[0m\u001b[1;33m\u001b[0m\u001b[0m\n\u001b[0;32m      6\u001b[0m     \u001b[0mreader\u001b[0m \u001b[1;33m=\u001b[0m \u001b[0mcsv\u001b[0m\u001b[1;33m.\u001b[0m\u001b[0mreader\u001b[0m\u001b[1;33m(\u001b[0m\u001b[0mf\u001b[0m\u001b[1;33m)\u001b[0m\u001b[1;33m\u001b[0m\u001b[1;33m\u001b[0m\u001b[0m\n\u001b[1;32m----> 7\u001b[1;33m     \u001b[0mmy_csved_dict\u001b[0m \u001b[1;33m=\u001b[0m \u001b[0mdict\u001b[0m\u001b[1;33m(\u001b[0m\u001b[0mreader\u001b[0m\u001b[1;33m)\u001b[0m\u001b[1;33m\u001b[0m\u001b[1;33m\u001b[0m\u001b[0m\n\u001b[0m\u001b[0;32m      8\u001b[0m \u001b[1;33m\u001b[0m\u001b[0m\n\u001b[0;32m      9\u001b[0m \u001b[1;33m\u001b[0m\u001b[0m\n",
      "\u001b[1;31mValueError\u001b[0m: dictionary update sequence element #1 has length 0; 2 is required"
     ]
    }
   ],
   "source": [
    "#open the file from your Jupyter notebook tree: it is human readable (unlike the pickle...)\n",
    "\n",
    "#let's read it back in:\n",
    "\n",
    "with open('my_first_csv.csv') as f:\n",
    "    reader = csv.reader(f)\n",
    "    my_csved_dict = dict(reader)\n",
    "\n",
    "    \n",
    "print(my_csved_dict.items())\n",
    "\n",
    "print(type(my_csved_dict))\n",
    "\n"
   ]
  },
  {
   "cell_type": "code",
   "execution_count": 39,
   "metadata": {},
   "outputs": [
    {
     "ename": "NameError",
     "evalue": "name 'my_csved_dict' is not defined",
     "output_type": "error",
     "traceback": [
      "\u001b[1;31m---------------------------------------------------------------------------\u001b[0m",
      "\u001b[1;31mNameError\u001b[0m                                 Traceback (most recent call last)",
      "\u001b[1;32m<ipython-input-39-3c0c4c464d66>\u001b[0m in \u001b[0;36m<module>\u001b[1;34m\u001b[0m\n\u001b[0;32m      2\u001b[0m \u001b[1;31m#my_csved_dict['car1']['make'] will give you an error:\u001b[0m\u001b[1;33m\u001b[0m\u001b[1;33m\u001b[0m\u001b[1;33m\u001b[0m\u001b[0m\n\u001b[0;32m      3\u001b[0m \u001b[1;33m\u001b[0m\u001b[0m\n\u001b[1;32m----> 4\u001b[1;33m \u001b[0mprint\u001b[0m\u001b[1;33m(\u001b[0m \u001b[0mmy_csved_dict\u001b[0m\u001b[1;33m[\u001b[0m\u001b[1;34m'car1'\u001b[0m\u001b[1;33m]\u001b[0m\u001b[1;33m[\u001b[0m\u001b[1;34m'make'\u001b[0m\u001b[1;33m]\u001b[0m \u001b[1;33m)\u001b[0m\u001b[1;33m\u001b[0m\u001b[1;33m\u001b[0m\u001b[0m\n\u001b[0m",
      "\u001b[1;31mNameError\u001b[0m: name 'my_csved_dict' is not defined"
     ]
    }
   ],
   "source": [
    "#note though that in this example we have lost the structure of the nested dictionary:\n",
    "#my_csved_dict['car1']['make'] will give you an error:\n",
    "\n",
    "print( my_csved_dict['car1']['make'] )"
   ]
  },
  {
   "cell_type": "markdown",
   "metadata": {},
   "source": [
    "# ------------------"
   ]
  },
  {
   "cell_type": "markdown",
   "metadata": {},
   "source": [
    "## Pandas"
   ]
  },
  {
   "cell_type": "markdown",
   "metadata": {},
   "source": [
    "#### A great tool for data analysis and modeling of large datasets (think ML sizes….). It’s a software library that can read big amounts of data and analyze it fast\n",
    "\n",
    "\n",
    "#### Can read in CSV files, SQL databases and create a Python object with rows and columns (data frame) out of that – makes working on such data faster that using tuples/dictionaries\n",
    "\n",
    "\n",
    "\n"
   ]
  },
  {
   "cell_type": "code",
   "execution_count": null,
   "metadata": {},
   "outputs": [],
   "source": []
  },
  {
   "cell_type": "code",
   "execution_count": 40,
   "metadata": {},
   "outputs": [],
   "source": [
    "## Last but not least, let's try Pandas out\n",
    "import pandas as pd "
   ]
  },
  {
   "cell_type": "code",
   "execution_count": 41,
   "metadata": {},
   "outputs": [
    {
     "data": {
      "text/plain": [
       "{'car1': {'model': 'Escape', 'make': 'Ford'},\n",
       " 'car2': {'model': '500', 'make': 'Fiat'},\n",
       " 'car3': {'model': 'Tucson', 'make': 'Hyundai'}}"
      ]
     },
     "execution_count": 41,
     "metadata": {},
     "output_type": "execute_result"
    }
   ],
   "source": [
    "# we will use the pickled data from above here:\n",
    "\n",
    "pd.read_pickle('my_first_pickle.pickle')  # reads it in and shows you the nested dictionaries\n"
   ]
  },
  {
   "cell_type": "code",
   "execution_count": 42,
   "metadata": {},
   "outputs": [
    {
     "data": {
      "text/html": [
       "<div>\n",
       "<style scoped>\n",
       "    .dataframe tbody tr th:only-of-type {\n",
       "        vertical-align: middle;\n",
       "    }\n",
       "\n",
       "    .dataframe tbody tr th {\n",
       "        vertical-align: top;\n",
       "    }\n",
       "\n",
       "    .dataframe thead th {\n",
       "        text-align: right;\n",
       "    }\n",
       "</style>\n",
       "<table border=\"1\" class=\"dataframe\">\n",
       "  <thead>\n",
       "    <tr style=\"text-align: right;\">\n",
       "      <th></th>\n",
       "      <th>car1</th>\n",
       "      <th>{'model': 'Escape', 'make': 'Ford'}</th>\n",
       "    </tr>\n",
       "  </thead>\n",
       "  <tbody>\n",
       "    <tr>\n",
       "      <th>0</th>\n",
       "      <td>car2</td>\n",
       "      <td>{'model': '500', 'make': 'Fiat'}</td>\n",
       "    </tr>\n",
       "    <tr>\n",
       "      <th>1</th>\n",
       "      <td>car3</td>\n",
       "      <td>{'model': 'Tucson', 'make': 'Hyundai'}</td>\n",
       "    </tr>\n",
       "  </tbody>\n",
       "</table>\n",
       "</div>"
      ],
      "text/plain": [
       "   car1     {'model': 'Escape', 'make': 'Ford'}\n",
       "0  car2        {'model': '500', 'make': 'Fiat'}\n",
       "1  car3  {'model': 'Tucson', 'make': 'Hyundai'}"
      ]
     },
     "execution_count": 42,
     "metadata": {},
     "output_type": "execute_result"
    }
   ],
   "source": [
    "pd.read_csv('my_first_csv.csv')           # reads it in and shows you the table"
   ]
  },
  {
   "cell_type": "code",
   "execution_count": 43,
   "metadata": {},
   "outputs": [
    {
     "data": {
      "text/html": [
       "<div>\n",
       "<style scoped>\n",
       "    .dataframe tbody tr th:only-of-type {\n",
       "        vertical-align: middle;\n",
       "    }\n",
       "\n",
       "    .dataframe tbody tr th {\n",
       "        vertical-align: top;\n",
       "    }\n",
       "\n",
       "    .dataframe thead th {\n",
       "        text-align: right;\n",
       "    }\n",
       "</style>\n",
       "<table border=\"1\" class=\"dataframe\">\n",
       "  <thead>\n",
       "    <tr style=\"text-align: right;\">\n",
       "      <th></th>\n",
       "      <th>car1</th>\n",
       "      <th>car2</th>\n",
       "      <th>car3</th>\n",
       "    </tr>\n",
       "  </thead>\n",
       "  <tbody>\n",
       "    <tr>\n",
       "      <th>model</th>\n",
       "      <td>Escape</td>\n",
       "      <td>500</td>\n",
       "      <td>Tucson</td>\n",
       "    </tr>\n",
       "    <tr>\n",
       "      <th>make</th>\n",
       "      <td>Ford</td>\n",
       "      <td>Fiat</td>\n",
       "      <td>Hyundai</td>\n",
       "    </tr>\n",
       "  </tbody>\n",
       "</table>\n",
       "</div>"
      ],
      "text/plain": [
       "         car1  car2     car3\n",
       "model  Escape   500   Tucson\n",
       "make     Ford  Fiat  Hyundai"
      ]
     },
     "execution_count": 43,
     "metadata": {},
     "output_type": "execute_result"
    }
   ],
   "source": [
    "#Now let's make a panda dataframe out of the pickle:\n",
    "\n",
    "pd.DataFrame(pd.read_pickle('my_first_pickle.pickle'))\n"
   ]
  },
  {
   "cell_type": "code",
   "execution_count": 44,
   "metadata": {},
   "outputs": [
    {
     "data": {
      "text/html": [
       "<div>\n",
       "<style scoped>\n",
       "    .dataframe tbody tr th:only-of-type {\n",
       "        vertical-align: middle;\n",
       "    }\n",
       "\n",
       "    .dataframe tbody tr th {\n",
       "        vertical-align: top;\n",
       "    }\n",
       "\n",
       "    .dataframe thead th {\n",
       "        text-align: right;\n",
       "    }\n",
       "</style>\n",
       "<table border=\"1\" class=\"dataframe\">\n",
       "  <thead>\n",
       "    <tr style=\"text-align: right;\">\n",
       "      <th></th>\n",
       "      <th>0</th>\n",
       "      <th>1</th>\n",
       "      <th>2</th>\n",
       "      <th>3</th>\n",
       "      <th>4</th>\n",
       "      <th>5</th>\n",
       "      <th>6</th>\n",
       "      <th>7</th>\n",
       "      <th>8</th>\n",
       "      <th>9</th>\n",
       "    </tr>\n",
       "  </thead>\n",
       "  <tbody>\n",
       "    <tr>\n",
       "      <th>0</th>\n",
       "      <td>0</td>\n",
       "      <td>1</td>\n",
       "      <td>2</td>\n",
       "      <td>3</td>\n",
       "      <td>4</td>\n",
       "      <td>5</td>\n",
       "      <td>6</td>\n",
       "      <td>7</td>\n",
       "      <td>8</td>\n",
       "      <td>9</td>\n",
       "    </tr>\n",
       "    <tr>\n",
       "      <th>1</th>\n",
       "      <td>0</td>\n",
       "      <td>1</td>\n",
       "      <td>4</td>\n",
       "      <td>9</td>\n",
       "      <td>16</td>\n",
       "      <td>25</td>\n",
       "      <td>36</td>\n",
       "      <td>49</td>\n",
       "      <td>64</td>\n",
       "      <td>81</td>\n",
       "    </tr>\n",
       "    <tr>\n",
       "      <th>2</th>\n",
       "      <td>0</td>\n",
       "      <td>1</td>\n",
       "      <td>8</td>\n",
       "      <td>27</td>\n",
       "      <td>64</td>\n",
       "      <td>125</td>\n",
       "      <td>216</td>\n",
       "      <td>343</td>\n",
       "      <td>512</td>\n",
       "      <td>729</td>\n",
       "    </tr>\n",
       "  </tbody>\n",
       "</table>\n",
       "</div>"
      ],
      "text/plain": [
       "   0  1  2   3   4    5    6    7    8    9\n",
       "0  0  1  2   3   4    5    6    7    8    9\n",
       "1  0  1  4   9  16   25   36   49   64   81\n",
       "2  0  1  8  27  64  125  216  343  512  729"
      ]
     },
     "execution_count": 44,
     "metadata": {},
     "output_type": "execute_result"
    }
   ],
   "source": [
    "# let's read in a dataframe the second pickle with the random data\n",
    "\n",
    "pd.DataFrame( pd.read_pickle('my_second_pickle.pickle') )  #it gives you the columns and their values: "
   ]
  },
  {
   "cell_type": "code",
   "execution_count": 45,
   "metadata": {},
   "outputs": [
    {
     "data": {
      "text/html": [
       "<div>\n",
       "<style scoped>\n",
       "    .dataframe tbody tr th:only-of-type {\n",
       "        vertical-align: middle;\n",
       "    }\n",
       "\n",
       "    .dataframe tbody tr th {\n",
       "        vertical-align: top;\n",
       "    }\n",
       "\n",
       "    .dataframe thead th {\n",
       "        text-align: right;\n",
       "    }\n",
       "</style>\n",
       "<table border=\"1\" class=\"dataframe\">\n",
       "  <thead>\n",
       "    <tr style=\"text-align: right;\">\n",
       "      <th></th>\n",
       "      <th>0</th>\n",
       "      <th>1</th>\n",
       "      <th>2</th>\n",
       "      <th>3</th>\n",
       "      <th>4</th>\n",
       "      <th>5</th>\n",
       "      <th>6</th>\n",
       "      <th>7</th>\n",
       "      <th>8</th>\n",
       "      <th>9</th>\n",
       "    </tr>\n",
       "  </thead>\n",
       "  <tbody>\n",
       "    <tr>\n",
       "      <th>count</th>\n",
       "      <td>3.0</td>\n",
       "      <td>3.0</td>\n",
       "      <td>3.000000</td>\n",
       "      <td>3.000000</td>\n",
       "      <td>3.000000</td>\n",
       "      <td>3.000000</td>\n",
       "      <td>3.000000</td>\n",
       "      <td>3.000000</td>\n",
       "      <td>3.000000</td>\n",
       "      <td>3.000000</td>\n",
       "    </tr>\n",
       "    <tr>\n",
       "      <th>mean</th>\n",
       "      <td>0.0</td>\n",
       "      <td>1.0</td>\n",
       "      <td>4.666667</td>\n",
       "      <td>13.000000</td>\n",
       "      <td>28.000000</td>\n",
       "      <td>51.666667</td>\n",
       "      <td>86.000000</td>\n",
       "      <td>133.000000</td>\n",
       "      <td>194.666667</td>\n",
       "      <td>273.000000</td>\n",
       "    </tr>\n",
       "    <tr>\n",
       "      <th>std</th>\n",
       "      <td>0.0</td>\n",
       "      <td>0.0</td>\n",
       "      <td>3.055050</td>\n",
       "      <td>12.489996</td>\n",
       "      <td>31.749016</td>\n",
       "      <td>64.291005</td>\n",
       "      <td>113.578167</td>\n",
       "      <td>183.073756</td>\n",
       "      <td>276.241440</td>\n",
       "      <td>396.545079</td>\n",
       "    </tr>\n",
       "    <tr>\n",
       "      <th>min</th>\n",
       "      <td>0.0</td>\n",
       "      <td>1.0</td>\n",
       "      <td>2.000000</td>\n",
       "      <td>3.000000</td>\n",
       "      <td>4.000000</td>\n",
       "      <td>5.000000</td>\n",
       "      <td>6.000000</td>\n",
       "      <td>7.000000</td>\n",
       "      <td>8.000000</td>\n",
       "      <td>9.000000</td>\n",
       "    </tr>\n",
       "    <tr>\n",
       "      <th>25%</th>\n",
       "      <td>0.0</td>\n",
       "      <td>1.0</td>\n",
       "      <td>3.000000</td>\n",
       "      <td>6.000000</td>\n",
       "      <td>10.000000</td>\n",
       "      <td>15.000000</td>\n",
       "      <td>21.000000</td>\n",
       "      <td>28.000000</td>\n",
       "      <td>36.000000</td>\n",
       "      <td>45.000000</td>\n",
       "    </tr>\n",
       "    <tr>\n",
       "      <th>50%</th>\n",
       "      <td>0.0</td>\n",
       "      <td>1.0</td>\n",
       "      <td>4.000000</td>\n",
       "      <td>9.000000</td>\n",
       "      <td>16.000000</td>\n",
       "      <td>25.000000</td>\n",
       "      <td>36.000000</td>\n",
       "      <td>49.000000</td>\n",
       "      <td>64.000000</td>\n",
       "      <td>81.000000</td>\n",
       "    </tr>\n",
       "    <tr>\n",
       "      <th>75%</th>\n",
       "      <td>0.0</td>\n",
       "      <td>1.0</td>\n",
       "      <td>6.000000</td>\n",
       "      <td>18.000000</td>\n",
       "      <td>40.000000</td>\n",
       "      <td>75.000000</td>\n",
       "      <td>126.000000</td>\n",
       "      <td>196.000000</td>\n",
       "      <td>288.000000</td>\n",
       "      <td>405.000000</td>\n",
       "    </tr>\n",
       "    <tr>\n",
       "      <th>max</th>\n",
       "      <td>0.0</td>\n",
       "      <td>1.0</td>\n",
       "      <td>8.000000</td>\n",
       "      <td>27.000000</td>\n",
       "      <td>64.000000</td>\n",
       "      <td>125.000000</td>\n",
       "      <td>216.000000</td>\n",
       "      <td>343.000000</td>\n",
       "      <td>512.000000</td>\n",
       "      <td>729.000000</td>\n",
       "    </tr>\n",
       "  </tbody>\n",
       "</table>\n",
       "</div>"
      ],
      "text/plain": [
       "         0    1         2          3          4           5           6  \\\n",
       "count  3.0  3.0  3.000000   3.000000   3.000000    3.000000    3.000000   \n",
       "mean   0.0  1.0  4.666667  13.000000  28.000000   51.666667   86.000000   \n",
       "std    0.0  0.0  3.055050  12.489996  31.749016   64.291005  113.578167   \n",
       "min    0.0  1.0  2.000000   3.000000   4.000000    5.000000    6.000000   \n",
       "25%    0.0  1.0  3.000000   6.000000  10.000000   15.000000   21.000000   \n",
       "50%    0.0  1.0  4.000000   9.000000  16.000000   25.000000   36.000000   \n",
       "75%    0.0  1.0  6.000000  18.000000  40.000000   75.000000  126.000000   \n",
       "max    0.0  1.0  8.000000  27.000000  64.000000  125.000000  216.000000   \n",
       "\n",
       "                7           8           9  \n",
       "count    3.000000    3.000000    3.000000  \n",
       "mean   133.000000  194.666667  273.000000  \n",
       "std    183.073756  276.241440  396.545079  \n",
       "min      7.000000    8.000000    9.000000  \n",
       "25%     28.000000   36.000000   45.000000  \n",
       "50%     49.000000   64.000000   81.000000  \n",
       "75%    196.000000  288.000000  405.000000  \n",
       "max    343.000000  512.000000  729.000000  "
      ]
     },
     "execution_count": 45,
     "metadata": {},
     "output_type": "execute_result"
    }
   ],
   "source": [
    "# read the data in a dataframe named df:\n",
    "df = pd.DataFrame(pd.read_pickle('my_second_pickle.pickle')) \n",
    "\n",
    "#ask it to describe() your \n",
    "df.describe()  # summary statistics for numerical columns ; not very useful here but \n",
    "               # imagine what you can do with LARGE datasets!"
   ]
  },
  {
   "cell_type": "code",
   "execution_count": 46,
   "metadata": {},
   "outputs": [
    {
     "name": "stdout",
     "output_type": "stream",
     "text": [
      "0      0.000000\n",
      "1      1.000000\n",
      "2      4.666667\n",
      "3     13.000000\n",
      "4     28.000000\n",
      "5     51.666667\n",
      "6     86.000000\n",
      "7    133.000000\n",
      "8    194.666667\n",
      "9    273.000000\n",
      "dtype: float64\n"
     ]
    }
   ],
   "source": [
    "#get the mean of all columns:\n",
    "print( df.mean() )"
   ]
  },
  {
   "cell_type": "code",
   "execution_count": 47,
   "metadata": {},
   "outputs": [
    {
     "name": "stdout",
     "output_type": "stream",
     "text": [
      "    0   1         2         3         4         5         6         7  \\\n",
      "0 NaN NaN       NaN       NaN       NaN       NaN       NaN       NaN   \n",
      "1 NaN NaN       NaN       NaN       NaN       NaN       NaN       NaN   \n",
      "2 NaN NaN  1.000000  0.995871  0.989743  0.984324  0.979864  0.976221   \n",
      "3 NaN NaN  0.995871  1.000000  0.998625  0.996271  0.993944  0.991870   \n",
      "4 NaN NaN  0.989743  0.998625  1.000000  0.999424  0.998337  0.997176   \n",
      "5 NaN NaN  0.984324  0.996271  0.999424  1.000000  0.999719  0.999151   \n",
      "6 NaN NaN  0.979864  0.993944  0.998337  0.999719  1.000000  0.999847   \n",
      "7 NaN NaN  0.976221  0.991870  0.997176  0.999151  0.999847  1.000000   \n",
      "8 NaN NaN  0.973223  0.990072  0.996078  0.998508  0.999522  0.999910   \n",
      "9 NaN NaN  0.970725  0.988522  0.995082  0.997871  0.999137  0.999711   \n",
      "\n",
      "          8         9  \n",
      "0       NaN       NaN  \n",
      "1       NaN       NaN  \n",
      "2  0.973223  0.970725  \n",
      "3  0.990072  0.988522  \n",
      "4  0.996078  0.995082  \n",
      "5  0.998508  0.997871  \n",
      "6  0.999522  0.999137  \n",
      "7  0.999910  0.999711  \n",
      "8  1.000000  0.999944  \n",
      "9  0.999944  1.000000  \n"
     ]
    }
   ],
   "source": [
    "#you can get correlations between columns: \n",
    "print( df.corr() )\n",
    "\n",
    "#max (& min) of each column:\n",
    "#df.max()   #& df.min()\n",
    "\n",
    "#get the standard deviation of each column:\n",
    "#df.std()\n",
    "\n",
    "#and much much more...   If you are interested in playing around with big data there's plenty \n",
    "#of Open Access databases"
   ]
  },
  {
   "cell_type": "code",
   "execution_count": null,
   "metadata": {},
   "outputs": [],
   "source": []
  },
  {
   "cell_type": "code",
   "execution_count": null,
   "metadata": {},
   "outputs": [],
   "source": []
  },
  {
   "cell_type": "markdown",
   "metadata": {},
   "source": [
    "### ---- PRACTICUM:"
   ]
  },
  {
   "cell_type": "markdown",
   "metadata": {},
   "source": [
    "## let's do some practice; write to a file using numpy:"
   ]
  },
  {
   "cell_type": "markdown",
   "metadata": {},
   "source": [
    "#### Make a 5 by 5 numpy array of zeros. Set x equal to a numpy range from 5 to 10; and y the exponential of x. Populate your 5 by 5 array with the product of x * y (double for loop). Save the 5 by 5 array to a file named my_radom_data.dat. Add a header like \"These are my random data\" and format the output to have 4 digit accuracy. "
   ]
  },
  {
   "cell_type": "code",
   "execution_count": 48,
   "metadata": {},
   "outputs": [],
   "source": [
    "my_random_data = np.zeros( ( 5, 5 ) )\n",
    "\n",
    "x = np.arange( 5, 10 )\n",
    "y = np.exp( x )\n",
    "\n",
    "for i in range( 5 ):\n",
    "    for j in range( 5 ):\n",
    "        my_random_data[ i, j ] = x[ i ] * y[ j ]"
   ]
  },
  {
   "cell_type": "code",
   "execution_count": 49,
   "metadata": {},
   "outputs": [],
   "source": [
    "# let's save it with np.savetxt() and add a header with some info:\n",
    "\n",
    "np.savetxt( 'my_random_data.dat' , my_random_data, header = 'These are my random data', \n",
    "          fmt = '%.4f' )"
   ]
  },
  {
   "cell_type": "code",
   "execution_count": null,
   "metadata": {},
   "outputs": [],
   "source": [
    "#check it out"
   ]
  },
  {
   "cell_type": "code",
   "execution_count": 50,
   "metadata": {},
   "outputs": [],
   "source": [
    "tst_data = np.genfromtxt( 'my_random_data.dat', comments='#' )"
   ]
  },
  {
   "cell_type": "code",
   "execution_count": 51,
   "metadata": {},
   "outputs": [
    {
     "name": "stdout",
     "output_type": "stream",
     "text": [
      "[[  742.0658  2017.144   5483.1658 14904.7899 40515.4196]\n",
      " [  890.479   2420.5728  6579.799  17885.7479 48618.5036]\n",
      " [ 1038.8921  2824.0016  7676.4321 20866.7059 56721.5875]\n",
      " [ 1187.3053  3227.4303  8773.0653 23847.6639 64824.6714]\n",
      " [ 1335.7184  3630.8591  9869.6984 26828.6219 72927.7553]]\n"
     ]
    }
   ],
   "source": [
    "print( tst_data )"
   ]
  },
  {
   "cell_type": "markdown",
   "metadata": {},
   "source": [
    "### now write the same data but to a csv file:"
   ]
  },
  {
   "cell_type": "code",
   "execution_count": 52,
   "metadata": {},
   "outputs": [],
   "source": [
    "with open('my_random_data.csv', 'w') as f:     # open the file to write in it\n",
    "\n",
    "    writer = csv.writer(f)                   # you will use the csv module to write the data\n",
    "    \n",
    "    for i in range( len( x ) ) :  # loop over items in your dictionary \n",
    "        \n",
    "        writer.writerow( my_random_data[i, : ] )        # write the items"
   ]
  },
  {
   "cell_type": "code",
   "execution_count": null,
   "metadata": {},
   "outputs": [],
   "source": []
  },
  {
   "cell_type": "code",
   "execution_count": 53,
   "metadata": {},
   "outputs": [],
   "source": [
    "#let's open to read the first 3 lines of file emma.txt;\n",
    "\n",
    "f = open('emma.txt', 'r')\n",
    "\n",
    "q = f.readline( ).split( )\n",
    "l = f.readline( ).split( )\n",
    "m = f.readline( ).split( )\n",
    "\n",
    "f.close()\n",
    "\n"
   ]
  },
  {
   "cell_type": "code",
   "execution_count": 54,
   "metadata": {},
   "outputs": [
    {
     "name": "stdout",
     "output_type": "stream",
     "text": [
      "['******The', 'Project', 'Gutenberg', 'Etext', 'of', 'Emma,', 'by', 'Jane', 'Austen******']\n"
     ]
    }
   ],
   "source": [
    "print( q )"
   ]
  },
  {
   "cell_type": "code",
   "execution_count": 55,
   "metadata": {},
   "outputs": [
    {
     "name": "stdout",
     "output_type": "stream",
     "text": [
      "[]\n",
      "['Please', 'take', 'a', 'look', 'at', 'the', 'important', 'information', 'in', 'this', 'header.']\n"
     ]
    }
   ],
   "source": [
    "print( l )\n",
    "print( m )"
   ]
  },
  {
   "cell_type": "code",
   "execution_count": null,
   "metadata": {},
   "outputs": [],
   "source": []
  },
  {
   "cell_type": "code",
   "execution_count": 56,
   "metadata": {},
   "outputs": [],
   "source": [
    "f = open('emma.txt', 'r')\n",
    "\n",
    "n = f.read().split()\n",
    "\n",
    "f.close()"
   ]
  },
  {
   "cell_type": "code",
   "execution_count": 57,
   "metadata": {},
   "outputs": [
    {
     "data": {
      "text/plain": [
       "4862"
      ]
     },
     "execution_count": 57,
     "metadata": {},
     "output_type": "execute_result"
    }
   ],
   "source": [
    "n.count('the')"
   ]
  },
  {
   "cell_type": "code",
   "execution_count": 58,
   "metadata": {},
   "outputs": [
    {
     "data": {
      "text/plain": [
       "481"
      ]
     },
     "execution_count": 58,
     "metadata": {},
     "output_type": "execute_result"
    }
   ],
   "source": [
    "n.count('Emma')"
   ]
  },
  {
   "cell_type": "code",
   "execution_count": null,
   "metadata": {},
   "outputs": [],
   "source": []
  },
  {
   "cell_type": "markdown",
   "metadata": {},
   "source": [
    "### Let's make boxes with sides x, y, z and calculate their volume. Create array x that is a range from 0.1 to 10 with a step of 0.2. Make array y that is a linspace from 0.1 to 10 in 50 steps. Then make array z that is equal to $x^2 + y^{0.3}$. Calculate the volume of the boxes [assume it is in cu ft ] with every possible combinations of x, y, z. What is the maximum, minimum and mean volume of our boxes in ? If I need boxes with a volume more than 8000 cu ft, how many boxes will I have?"
   ]
  },
  {
   "cell_type": "code",
   "execution_count": 59,
   "metadata": {},
   "outputs": [],
   "source": [
    "def split_sentence(sentence):\n",
    "    \"\"\"splits a string into separate words and returns a tuple of the shortes and longest words.\"\"\"\n",
    "    split_string = sentence.split()\n",
    "    lengths = []\n",
    "    for i in split_string:\n",
    "        lengths.append(len(i))\n",
    "    shortest = split_string[lengths.index(min(lengths))]\n",
    "    longest = split_string[lengths.index(max(lengths))]\n",
    "    short_long = (shortest, longest)\n",
    "    return short_long\n",
    "    "
   ]
  },
  {
   "cell_type": "code",
   "execution_count": null,
   "metadata": {},
   "outputs": [],
   "source": []
  },
  {
   "cell_type": "code",
   "execution_count": null,
   "metadata": {},
   "outputs": [],
   "source": []
  },
  {
   "cell_type": "markdown",
   "metadata": {},
   "source": [
    "### Make a function that gets as input any string, splits it in the words it is made of and returns a tuple with the shortest and longest word. Call it for the sentence: \"If you are trying to come up with a new concept, a new idea or a new product, a random sentence may help you find unique qualities you may not have considered\""
   ]
  },
  {
   "cell_type": "code",
   "execution_count": 61,
   "metadata": {},
   "outputs": [
    {
     "name": "stdout",
     "output_type": "stream",
     "text": [
      "('a', 'considered')\n"
     ]
    }
   ],
   "source": [
    "print(split_sentence('If you are trying to come up with a new concept, a new idea or a new product, a random sentence may help you find unique qualities you may not have considered'))"
   ]
  },
  {
   "cell_type": "code",
   "execution_count": null,
   "metadata": {},
   "outputs": [],
   "source": []
  }
 ],
 "metadata": {
  "kernelspec": {
   "display_name": "Python 3",
   "language": "python",
   "name": "python3"
  },
  "language_info": {
   "codemirror_mode": {
    "name": "ipython",
    "version": 3
   },
   "file_extension": ".py",
   "mimetype": "text/x-python",
   "name": "python",
   "nbconvert_exporter": "python",
   "pygments_lexer": "ipython3",
   "version": "3.9.4"
  }
 },
 "nbformat": 4,
 "nbformat_minor": 2
}
