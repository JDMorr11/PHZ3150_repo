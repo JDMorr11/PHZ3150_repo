{
 "cells": [
  {
   "cell_type": "code",
   "execution_count": 8,
   "id": "65f99ba5",
   "metadata": {},
   "outputs": [
    {
     "name": "stdout",
     "output_type": "stream",
     "text": [
      " 1\n",
      " 1 0\n",
      " 1 0 1\n",
      " 1 0 1 0\n",
      " 1 0 1 0 1\n",
      " 1 0 1 0 1 0\n",
      " 1 0 1 0 1\n",
      " 1 0 1 0\n",
      " 1 0 1\n",
      " 1 0\n",
      " 1\n"
     ]
    }
   ],
   "source": [
    "pyramid= [1,0,1,0,1,0]\n",
    "for i in range(1,12):\n",
    "    layer = pyramid[:6-abs(i-6)]\n",
    "    layer_str=''\n",
    "    for i in layer:\n",
    "        layer_str= layer_str +' '+ str(i)\n",
    "    print(layer_str)"
   ]
  },
  {
   "cell_type": "code",
   "execution_count": 9,
   "id": "53568fac",
   "metadata": {},
   "outputs": [
    {
     "name": "stdout",
     "output_type": "stream",
     "text": [
      "Pyramid Height (integer): 5\n",
      " 0\n",
      " 0 1\n",
      " 0 1 0\n",
      " 0 1 0 1\n",
      " 0 1 0 1 0\n",
      " 0 1 0 1\n",
      " 0 1 0\n",
      " 0 1\n",
      " 0\n"
     ]
    }
   ],
   "source": [
    "## makes a sideways pyramid of a chosen height\n",
    "p_height=int(input('Pyramid Height (integer): '))\n",
    "pyramid = []\n",
    "for i in range(p_height):\n",
    "    pyramid.append(i%2)\n",
    "for i in range(1,2*p_height):\n",
    "    layer = pyramid[:p_height-abs(i-p_height)]\n",
    "    layer_str=''\n",
    "    for i in layer:\n",
    "        layer_str= layer_str +' '+ str(i)\n",
    "    print(layer_str)"
   ]
  },
  {
   "cell_type": "code",
   "execution_count": 10,
   "id": "66ca54d2",
   "metadata": {
    "scrolled": true
   },
   "outputs": [
    {
     "name": "stdout",
     "output_type": "stream",
     "text": [
      "Pyramid Height (integer): 6\n",
      "             0\n",
      "           0 1 0\n",
      "         0 1 0 1 0\n",
      "       0 1 0 1 0 1 0\n",
      "     0 1 0 1 0 1 0 1 0\n",
      "   0 1 0 1 0 1 0 1 0 1 0\n"
     ]
    }
   ],
   "source": [
    "## makes a pyramid of alternating 1's and 0's\n",
    "p_height=int(input('Pyramid Height (integer): '))\n",
    "pyramid=[]\n",
    "for i in range(2*p_height+1):\n",
    "    pyramid.append(i%2)  \n",
    "for j in range(p_height):\n",
    "    layer=[]\n",
    "    for k in range(p_height-j):\n",
    "        layer.append(' ') \n",
    "    for h in pyramid[:2*j+1]:\n",
    "        layer.append(h)\n",
    "    layer_str=''\n",
    "    for g in layer:\n",
    "        layer_str= layer_str +' '+ str(g)\n",
    "    print(layer_str)"
   ]
  },
  {
   "cell_type": "code",
   "execution_count": 11,
   "id": "abdb05ad",
   "metadata": {},
   "outputs": [
    {
     "name": "stdout",
     "output_type": "stream",
     "text": [
      "Pyramid Height (integer): 7\n",
      "               1\n",
      "             0 1 0\n",
      "           1 0 1 0 1\n",
      "         0 1 0 1 0 1 0\n",
      "       1 0 1 0 1 0 1 0 1\n",
      "     0 1 0 1 0 1 0 1 0 1 0\n",
      "   1 0 1 0 1 0 1 0 1 0 1 0 1\n"
     ]
    }
   ],
   "source": [
    "## makes a pyramid where all the columns are the same number\n",
    "p_height=int(input('Pyramid Height (integer): '))\n",
    "pyramid=[]\n",
    "for i in range(2*p_height+1):\n",
    "    pyramid.append(i%2)  \n",
    "for j in range(p_height):\n",
    "    layer=[]\n",
    "    for k in range(p_height-j):\n",
    "        layer.append(' ') \n",
    "    for h in pyramid[p_height-j:p_height+j+1]:\n",
    "        layer.append(h)\n",
    "    layer_str=''\n",
    "    for g in layer:\n",
    "        layer_str= layer_str +' '+ str(g)\n",
    "    print(layer_str)"
   ]
  },
  {
   "cell_type": "code",
   "execution_count": 12,
   "id": "02b192a5",
   "metadata": {},
   "outputs": [
    {
     "name": "stdout",
     "output_type": "stream",
     "text": [
      "Pyramid Height (integer): 8\n",
      "                 0\n",
      "               1 1 1\n",
      "             0 0 0 0 0\n",
      "           1 1 1 1 1 1 1\n",
      "         0 0 0 0 0 0 0 0 0\n",
      "       1 1 1 1 1 1 1 1 1 1 1\n",
      "     0 0 0 0 0 0 0 0 0 0 0 0 0\n",
      "   1 1 1 1 1 1 1 1 1 1 1 1 1 1 1\n"
     ]
    }
   ],
   "source": [
    "## makes a pyramid where all the rows are the same number\n",
    "p_height=int(input('Pyramid Height (integer): ')) \n",
    "for j in range(p_height):\n",
    "    pyramid=[]\n",
    "    block = (p_height-j)%2\n",
    "    for i in range(2*j+1):\n",
    "        pyramid.append(block)\n",
    "    layer=[]\n",
    "    for k in range(p_height-j):\n",
    "        layer.append(' ') \n",
    "    for h in pyramid[:2*j+1]:\n",
    "        layer.append(h)\n",
    "    layer_str=''\n",
    "    for g in layer:\n",
    "        layer_str= layer_str +' '+ str(g)\n",
    "    print(layer_str)"
   ]
  },
  {
   "cell_type": "code",
   "execution_count": 2,
   "id": "dc5fb04e",
   "metadata": {},
   "outputs": [
    {
     "name": "stdout",
     "output_type": "stream",
     "text": [
      "Pyramid Height (integer): 8\n",
      "Pick 2 single character building blocks /n block 1: x\n",
      "block 2: D\n",
      "                 x\n",
      "               x D x\n",
      "             x D x D x\n",
      "           x D x D x D x\n",
      "         x D x D x D x D x\n",
      "       x D x D x D x D x D x\n",
      "     x D x D x D x D x D x D x\n",
      "   x D x D x D x D x D x D x D x\n"
     ]
    }
   ],
   "source": [
    "p_height=int(input('Pyramid Height (integer): '))\n",
    "block1 = ''\n",
    "block2 = ''\n",
    "while len(block1) != 1:\n",
    "    block1= str(input('Pick 2 single character building blocks /n block 1: '))\n",
    "while len(block2) != 1:\n",
    "    block2= str(input('block 2: '))\n",
    "blocks = [block1, block2]\n",
    "pyramid=[]\n",
    "for i in range(2*p_height+1):\n",
    "    pyramid.append(i%2)  \n",
    "for j in range(p_height):\n",
    "    layer=[]\n",
    "    for k in range(p_height-j):\n",
    "        layer.append(' ') \n",
    "    for h in pyramid[:2*j+1]:\n",
    "        layer.append(blocks[h])\n",
    "    layer_str=''\n",
    "    for g in layer:\n",
    "        layer_str= layer_str +' '+ str(g)\n",
    "    print(layer_str)"
   ]
  },
  {
   "cell_type": "code",
   "execution_count": 5,
   "id": "ecc6af4a",
   "metadata": {},
   "outputs": [
    {
     "name": "stdout",
     "output_type": "stream",
     "text": [
      "Pyramid Height (integer): 9\n",
      "Pick 2 single character building blocks /n block 1: :\n",
      "block 2: )\n",
      "                   )\n",
      "                 : ) :\n",
      "               ) : ) : )\n",
      "             : ) : ) : ) :\n",
      "           ) : ) : ) : ) : )\n",
      "         : ) : ) : ) : ) : ) :\n",
      "       ) : ) : ) : ) : ) : ) : )\n",
      "     : ) : ) : ) : ) : ) : ) : ) :\n",
      "   ) : ) : ) : ) : ) : ) : ) : ) : )\n"
     ]
    }
   ],
   "source": [
    "## makes a pyramid where all the columns are the same number\n",
    "p_height=int(input('Pyramid Height (integer): '))\n",
    "block1 = ''\n",
    "block2 = ''\n",
    "while len(block1) != 1:\n",
    "    block1= str(input('Pick 2 single character building blocks /n block 1: '))\n",
    "while len(block2) != 1:\n",
    "    block2= str(input('block 2: '))\n",
    "blocks = [block1, block2]\n",
    "pyramid=[]\n",
    "for i in range(2*p_height+1):\n",
    "    pyramid.append(i%2)  \n",
    "for j in range(p_height):\n",
    "    layer=[]\n",
    "    for k in range(p_height-j):\n",
    "        layer.append(' ') \n",
    "    for h in pyramid[p_height-j:p_height+j+1]:\n",
    "        layer.append(blocks[h])\n",
    "    layer_str=''\n",
    "    for g in layer:\n",
    "        layer_str= layer_str +' '+ str(g)\n",
    "    print(layer_str)"
   ]
  },
  {
   "cell_type": "code",
   "execution_count": 6,
   "id": "2352c283",
   "metadata": {},
   "outputs": [
    {
     "name": "stdout",
     "output_type": "stream",
     "text": [
      "Pyramid Height (integer): 10\n",
      "Pick 2 single character building blocks /n block 1: 8\n",
      "block 2: D\n",
      "                     8\n",
      "                   D D D\n",
      "                 8 8 8 8 8\n",
      "               D D D D D D D\n",
      "             8 8 8 8 8 8 8 8 8\n",
      "           D D D D D D D D D D D\n",
      "         8 8 8 8 8 8 8 8 8 8 8 8 8\n",
      "       D D D D D D D D D D D D D D D\n",
      "     8 8 8 8 8 8 8 8 8 8 8 8 8 8 8 8 8\n",
      "   D D D D D D D D D D D D D D D D D D D\n"
     ]
    }
   ],
   "source": [
    "## makes a pyramid where all the rows are the same number\n",
    "p_height=int(input('Pyramid Height (integer): ')) \n",
    "block1 = ''\n",
    "block2 = ''\n",
    "while len(block1) != 1:\n",
    "    block1= str(input('Pick 2 single character building blocks /n block 1: '))\n",
    "while len(block2) != 1:\n",
    "    block2= str(input('block 2: '))\n",
    "blocks = [block1, block2]\n",
    "for j in range(p_height):\n",
    "    pyramid=[]\n",
    "    block = (p_height-j)%2\n",
    "    for i in range(2*j+1):\n",
    "        pyramid.append(block)\n",
    "    layer=[]\n",
    "    for k in range(p_height-j):\n",
    "        layer.append(' ') \n",
    "    for h in pyramid[:2*j+1]:\n",
    "        layer.append(blocks[h])\n",
    "    layer_str=''\n",
    "    for g in layer:\n",
    "        layer_str= layer_str +' '+ str(g)\n",
    "    print(layer_str)"
   ]
  },
  {
   "cell_type": "code",
   "execution_count": null,
   "id": "b94178da",
   "metadata": {},
   "outputs": [],
   "source": []
  }
 ],
 "metadata": {
  "kernelspec": {
   "display_name": "Python 3",
   "language": "python",
   "name": "python3"
  },
  "language_info": {
   "codemirror_mode": {
    "name": "ipython",
    "version": 3
   },
   "file_extension": ".py",
   "mimetype": "text/x-python",
   "name": "python",
   "nbconvert_exporter": "python",
   "pygments_lexer": "ipython3",
   "version": "3.9.4"
  }
 },
 "nbformat": 4,
 "nbformat_minor": 5
}
