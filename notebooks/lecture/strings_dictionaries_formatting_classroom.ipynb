{
 "cells": [
  {
   "cell_type": "markdown",
   "metadata": {},
   "source": [
    "# Strings, dictionaries & formating"
   ]
  },
  {
   "cell_type": "code",
   "execution_count": null,
   "metadata": {},
   "outputs": [],
   "source": [
    "## Spring 2021 -  2.4.2021"
   ]
  },
  {
   "cell_type": "code",
   "execution_count": null,
   "metadata": {},
   "outputs": [],
   "source": []
  },
  {
   "cell_type": "markdown",
   "metadata": {},
   "source": [
    "## Strings in Python"
   ]
  },
  {
   "cell_type": "markdown",
   "metadata": {},
   "source": [
    "### Strings are sequences of values. Like tuples they are immutable, but you can slice them, access parts of them in a sequence, use them in a traversal."
   ]
  },
  {
   "cell_type": "code",
   "execution_count": 1,
   "metadata": {},
   "outputs": [],
   "source": [
    "my_first_string = 'Hello World!'"
   ]
  },
  {
   "cell_type": "markdown",
   "metadata": {},
   "source": [
    "#### you can get the length of the full string with len():"
   ]
  },
  {
   "cell_type": "code",
   "execution_count": 2,
   "metadata": {},
   "outputs": [
    {
     "name": "stdout",
     "output_type": "stream",
     "text": [
      "12\n"
     ]
    }
   ],
   "source": [
    "print( len( my_first_string ) )"
   ]
  },
  {
   "cell_type": "markdown",
   "metadata": {},
   "source": [
    "### You can access elements of the string and slice a string:"
   ]
  },
  {
   "cell_type": "code",
   "execution_count": 3,
   "metadata": {},
   "outputs": [
    {
     "name": "stdout",
     "output_type": "stream",
     "text": [
      "ll\n"
     ]
    }
   ],
   "source": [
    "# print the ll:\n",
    "print( my_first_string[ 2: 4 ] )"
   ]
  },
  {
   "cell_type": "code",
   "execution_count": 4,
   "metadata": {},
   "outputs": [
    {
     "name": "stdout",
     "output_type": "stream",
     "text": [
      "W\n"
     ]
    }
   ],
   "source": [
    "# print the W\n",
    "print( my_first_string[ 6 ] )"
   ]
  },
  {
   "cell_type": "markdown",
   "metadata": {},
   "source": [
    "### You can even use for and while loops (see next week) to access a string element by element (traversal) and do something with it:"
   ]
  },
  {
   "cell_type": "code",
   "execution_count": 5,
   "metadata": {},
   "outputs": [
    {
     "name": "stdout",
     "output_type": "stream",
     "text": [
      "H\n",
      "e\n",
      "l\n",
      "l\n",
      "o\n",
      " \n",
      "W\n",
      "o\n",
      "r\n",
      "l\n",
      "d\n",
      "!\n"
     ]
    }
   ],
   "source": [
    "for i in my_first_string:\n",
    "    print ( i )"
   ]
  },
  {
   "cell_type": "markdown",
   "metadata": {},
   "source": [
    "### *but* strings are immutable:"
   ]
  },
  {
   "cell_type": "code",
   "execution_count": 6,
   "metadata": {},
   "outputs": [
    {
     "ename": "TypeError",
     "evalue": "'str' object does not support item assignment",
     "output_type": "error",
     "traceback": [
      "\u001b[1;31m---------------------------------------------------------------------------\u001b[0m",
      "\u001b[1;31mTypeError\u001b[0m                                 Traceback (most recent call last)",
      "\u001b[1;32m<ipython-input-6-b378ceedad12>\u001b[0m in \u001b[0;36m<module>\u001b[1;34m\u001b[0m\n\u001b[1;32m----> 1\u001b[1;33m \u001b[0mmy_first_string\u001b[0m\u001b[1;33m[\u001b[0m\u001b[1;36m0\u001b[0m\u001b[1;33m]\u001b[0m \u001b[1;33m=\u001b[0m \u001b[1;34m'M'\u001b[0m\u001b[1;33m\u001b[0m\u001b[1;33m\u001b[0m\u001b[0m\n\u001b[0m",
      "\u001b[1;31mTypeError\u001b[0m: 'str' object does not support item assignment"
     ]
    }
   ],
   "source": [
    "my_first_string[0] = 'M'\n"
   ]
  },
  {
   "cell_type": "markdown",
   "metadata": {},
   "source": [
    "### to change it you would need (like with tuples) to make a new one:"
   ]
  },
  {
   "cell_type": "code",
   "execution_count": 7,
   "metadata": {},
   "outputs": [
    {
     "name": "stdout",
     "output_type": "stream",
     "text": [
      "1633681636080\n"
     ]
    }
   ],
   "source": [
    "print( id( my_first_string ) )"
   ]
  },
  {
   "cell_type": "code",
   "execution_count": 8,
   "metadata": {},
   "outputs": [],
   "source": [
    "my_muted_first_string = 'M' + my_first_string[ 1 : ]"
   ]
  },
  {
   "cell_type": "code",
   "execution_count": 9,
   "metadata": {},
   "outputs": [
    {
     "name": "stdout",
     "output_type": "stream",
     "text": [
      "Mello World!\n"
     ]
    }
   ],
   "source": [
    "print( my_muted_first_string )"
   ]
  },
  {
   "cell_type": "code",
   "execution_count": 10,
   "metadata": {},
   "outputs": [
    {
     "name": "stdout",
     "output_type": "stream",
     "text": [
      "1633682269936\n"
     ]
    }
   ],
   "source": [
    "print( id( my_muted_first_string ) )"
   ]
  },
  {
   "cell_type": "markdown",
   "metadata": {},
   "source": [
    "### if the name change of the variable triggered you, it is not the problem/ reason why id changed; try it with the same name as well"
   ]
  },
  {
   "cell_type": "code",
   "execution_count": 11,
   "metadata": {},
   "outputs": [
    {
     "name": "stdout",
     "output_type": "stream",
     "text": [
      "Mello World!\n",
      "1633682302832\n"
     ]
    }
   ],
   "source": [
    "my_first_string = 'M' + my_first_string[ 1 : ]\n",
    "\n",
    "print( my_first_string       )\n",
    "print( id( my_first_string ) )"
   ]
  },
  {
   "cell_type": "code",
   "execution_count": null,
   "metadata": {},
   "outputs": [],
   "source": []
  },
  {
   "cell_type": "markdown",
   "metadata": {},
   "source": [
    "### Python offers tools to work with strings like: *string_name.find( letter_you_want )*\n"
   ]
  },
  {
   "cell_type": "code",
   "execution_count": 12,
   "metadata": {},
   "outputs": [],
   "source": [
    "# Let's put our string back to normal first:\n",
    "my_first_string = 'Hello World!'"
   ]
  },
  {
   "cell_type": "code",
   "execution_count": 15,
   "metadata": {},
   "outputs": [
    {
     "name": "stdout",
     "output_type": "stream",
     "text": [
      "5\n"
     ]
    }
   ],
   "source": [
    "# test:\n",
    "print( my_first_string.find( ' ' ) )"
   ]
  },
  {
   "cell_type": "code",
   "execution_count": 16,
   "metadata": {},
   "outputs": [
    {
     "name": "stdout",
     "output_type": "stream",
     "text": [
      "4\n"
     ]
    }
   ],
   "source": [
    "# then :\n",
    "print( my_first_string.find( 'o' ) )"
   ]
  },
  {
   "cell_type": "code",
   "execution_count": 17,
   "metadata": {},
   "outputs": [
    {
     "name": "stdout",
     "output_type": "stream",
     "text": [
      "-1\n"
     ]
    }
   ],
   "source": [
    "# or :\n",
    "print( my_first_string.find( 'q' ) )"
   ]
  },
  {
   "cell_type": "markdown",
   "metadata": {},
   "source": [
    "### can you guess what find does?"
   ]
  },
  {
   "cell_type": "code",
   "execution_count": 18,
   "metadata": {},
   "outputs": [
    {
     "name": "stdout",
     "output_type": "stream",
     "text": [
      "-1\n",
      "1\n",
      "5\n"
     ]
    }
   ],
   "source": [
    "#another example if above not obvious:\n",
    "wrd = 'spring'\n",
    "\n",
    "print( wrd.find( 'S' ) )\n",
    "print( wrd.find( 'p' ) )\n",
    "print( wrd.find( 'g' ) )\n"
   ]
  },
  {
   "cell_type": "markdown",
   "metadata": {},
   "source": [
    "### another function you can see: count()"
   ]
  },
  {
   "cell_type": "code",
   "execution_count": 19,
   "metadata": {},
   "outputs": [
    {
     "name": "stdout",
     "output_type": "stream",
     "text": [
      "1\n",
      "2\n",
      "3\n",
      "1\n"
     ]
    }
   ],
   "source": [
    "word_tst = 'Hello World'\n",
    "\n",
    "print( word_tst.count( 'H' ) )\n",
    "print( word_tst.count( 'o' ) )\n",
    "print( word_tst.count( 'l' ) )\n",
    "print( word_tst.count( 'd' ) )\n"
   ]
  },
  {
   "cell_type": "markdown",
   "metadata": {},
   "source": [
    "### Can you guess what .count does?"
   ]
  },
  {
   "cell_type": "markdown",
   "metadata": {},
   "source": [
    "### Other things you may find useful:\n",
    "- endswith()\n",
    "- rfind()\n",
    "- strip() \n",
    "     - rstrip()  \n",
    "     - lstrip()\n"
   ]
  },
  {
   "cell_type": "code",
   "execution_count": 20,
   "metadata": {},
   "outputs": [
    {
     "name": "stdout",
     "output_type": "stream",
     "text": [
      "True\n"
     ]
    }
   ],
   "source": [
    "print( word_tst.endswith( 'd' ) )"
   ]
  },
  {
   "cell_type": "code",
   "execution_count": 21,
   "metadata": {},
   "outputs": [
    {
     "name": "stdout",
     "output_type": "stream",
     "text": [
      "False\n"
     ]
    }
   ],
   "source": [
    "print( word_tst.endswith( 'o' ) )"
   ]
  },
  {
   "cell_type": "code",
   "execution_count": 22,
   "metadata": {},
   "outputs": [
    {
     "name": "stdout",
     "output_type": "stream",
     "text": [
      "9\n"
     ]
    }
   ],
   "source": [
    "print( word_tst.rfind ('l' ) )"
   ]
  },
  {
   "cell_type": "code",
   "execution_count": 23,
   "metadata": {},
   "outputs": [
    {
     "name": "stdout",
     "output_type": "stream",
     "text": [
      "0\n"
     ]
    }
   ],
   "source": [
    "print( word_tst.rfind ('H' ) )"
   ]
  },
  {
   "cell_type": "code",
   "execution_count": 24,
   "metadata": {},
   "outputs": [
    {
     "name": "stdout",
     "output_type": "stream",
     "text": [
      "-1\n",
      "10\n"
     ]
    }
   ],
   "source": [
    "### what does it do? \n",
    "#you can also confine the search between start and end point:\n",
    "\n",
    "print( word_tst.rfind( 'd' , 0, 4 ) ) ## why?\n",
    "print( word_tst.rfind( 'd' , 0, 12 ) )"
   ]
  },
  {
   "cell_type": "code",
   "execution_count": 25,
   "metadata": {},
   "outputs": [
    {
     "name": "stdout",
     "output_type": "stream",
     "text": [
      "-1\n",
      "7\n"
     ]
    }
   ],
   "source": [
    "#try maybe also this:\n",
    "print( word_tst.rfind( 'o' , 0, 4 ) ) ## why?\n",
    "print( word_tst.rfind( 'o' , 0, 12 ) )\n"
   ]
  },
  {
   "cell_type": "code",
   "execution_count": 26,
   "metadata": {},
   "outputs": [
    {
     "name": "stdout",
     "output_type": "stream",
     "text": [
      "9\n"
     ]
    }
   ],
   "source": [
    "## or:\n",
    "print( word_tst.rindex( 'l' ) )"
   ]
  },
  {
   "cell_type": "code",
   "execution_count": null,
   "metadata": {},
   "outputs": [],
   "source": []
  },
  {
   "cell_type": "code",
   "execution_count": 27,
   "metadata": {},
   "outputs": [],
   "source": [
    "a_weird_string = '   hello world   '"
   ]
  },
  {
   "cell_type": "code",
   "execution_count": 28,
   "metadata": {},
   "outputs": [
    {
     "name": "stdout",
     "output_type": "stream",
     "text": [
      "!    hello world    !\n"
     ]
    }
   ],
   "source": [
    "print( '!', a_weird_string,'!'  )"
   ]
  },
  {
   "cell_type": "code",
   "execution_count": 29,
   "metadata": {},
   "outputs": [
    {
     "name": "stdout",
     "output_type": "stream",
     "text": [
      "! hello world !\n"
     ]
    }
   ],
   "source": [
    "print( '!',a_weird_string.strip(  ),'!' )"
   ]
  },
  {
   "cell_type": "code",
   "execution_count": 30,
   "metadata": {},
   "outputs": [
    {
     "name": "stdout",
     "output_type": "stream",
     "text": [
      "!    hello world !\n"
     ]
    }
   ],
   "source": [
    "print('!',a_weird_string.rstrip(  ),'!' )"
   ]
  },
  {
   "cell_type": "code",
   "execution_count": 31,
   "metadata": {},
   "outputs": [
    {
     "name": "stdout",
     "output_type": "stream",
     "text": [
      "! hello world    !\n"
     ]
    }
   ],
   "source": [
    "print( '!',a_weird_string.lstrip(  ),'!' )"
   ]
  },
  {
   "cell_type": "markdown",
   "metadata": {},
   "source": [
    "### you can also define *which* character you want removed from start/end:"
   ]
  },
  {
   "cell_type": "code",
   "execution_count": 32,
   "metadata": {},
   "outputs": [],
   "source": [
    "#e.g., \n",
    "another_weird_word = '---test---'"
   ]
  },
  {
   "cell_type": "code",
   "execution_count": 33,
   "metadata": {},
   "outputs": [
    {
     "name": "stdout",
     "output_type": "stream",
     "text": [
      "test\n"
     ]
    }
   ],
   "source": [
    "print( another_weird_word.strip( '-' ) )"
   ]
  },
  {
   "cell_type": "code",
   "execution_count": 34,
   "metadata": {},
   "outputs": [],
   "source": [
    "#### you can even search two strings for elements \n",
    "#    (see next week for the for/if loops):\n",
    "word_1 = 'My name is '\n",
    "word_2 = 'Inigo Montoya '"
   ]
  },
  {
   "cell_type": "code",
   "execution_count": 36,
   "metadata": {},
   "outputs": [
    {
     "name": "stdout",
     "output_type": "stream",
     "text": [
      "M\n",
      "y\n",
      " \n",
      "n\n",
      "a\n",
      " \n",
      "i\n",
      " \n"
     ]
    }
   ],
   "source": [
    "for q in word_1:\n",
    "    if q in word_2:\n",
    "        print( q )"
   ]
  },
  {
   "cell_type": "code",
   "execution_count": 37,
   "metadata": {},
   "outputs": [
    {
     "name": "stdout",
     "output_type": "stream",
     "text": [
      "m\n",
      "e\n",
      "s\n"
     ]
    }
   ],
   "source": [
    "### or try :\n",
    "for e in word_1:\n",
    "    if e not in word_2:\n",
    "        print( e )"
   ]
  },
  {
   "cell_type": "code",
   "execution_count": null,
   "metadata": {},
   "outputs": [],
   "source": []
  },
  {
   "cell_type": "code",
   "execution_count": 38,
   "metadata": {},
   "outputs": [],
   "source": [
    "#let's make a list of strings and populate it with some names:\n",
    "my_names = [ 'Anna', 'Peter', 'Nadine', 'Inigo' ]"
   ]
  },
  {
   "cell_type": "code",
   "execution_count": 39,
   "metadata": {},
   "outputs": [
    {
     "data": {
      "text/plain": [
       "False"
      ]
     },
     "execution_count": 39,
     "metadata": {},
     "output_type": "execute_result"
    }
   ],
   "source": [
    "#test if a name is in the list one by one:\n",
    "\n",
    "is_this_name_in_list = 'Natasha'\n",
    "\n",
    "my_names[ 0 ] == is_this_name_in_list\n"
   ]
  },
  {
   "cell_type": "code",
   "execution_count": 40,
   "metadata": {},
   "outputs": [
    {
     "data": {
      "text/plain": [
       "False"
      ]
     },
     "execution_count": 40,
     "metadata": {},
     "output_type": "execute_result"
    }
   ],
   "source": [
    "my_names[ 1 ] == is_this_name_in_list\n"
   ]
  },
  {
   "cell_type": "code",
   "execution_count": 41,
   "metadata": {},
   "outputs": [
    {
     "data": {
      "text/plain": [
       "True"
      ]
     },
     "execution_count": 41,
     "metadata": {},
     "output_type": "execute_result"
    }
   ],
   "source": [
    "is_this_name_in_list = 'Peter'\n",
    "\n",
    "my_names[ 1 ] == is_this_name_in_list"
   ]
  },
  {
   "cell_type": "code",
   "execution_count": 42,
   "metadata": {},
   "outputs": [
    {
     "name": "stdout",
     "output_type": "stream",
     "text": [
      "2\n"
     ]
    }
   ],
   "source": [
    "# you can even get the index where this happens, like with numpy where():\n",
    "print(  my_names.index( 'Nadine' ) )"
   ]
  },
  {
   "cell_type": "code",
   "execution_count": null,
   "metadata": {},
   "outputs": [],
   "source": []
  },
  {
   "cell_type": "code",
   "execution_count": 43,
   "metadata": {},
   "outputs": [
    {
     "name": "stdout",
     "output_type": "stream",
     "text": [
      "indented\n",
      "function\n",
      "function\n",
      "t.lt(90)\n",
      "argument\n",
      "Wrapping\n",
      "function\n",
      "benefits\n",
      "found a: piece in line: Wrapping a piece of code up in a function is called encapsulation. One of the benefits of\n",
      "\n",
      "Found 8  words with 8  characters up to here.\n",
      "------------\n",
      "\n",
      "Printing last line:\n",
      "\n",
      "Wrapping a piece of code up in a function is called encapsulation. One of the benefits of\n",
      "\n",
      "------------\n",
      "\n",
      "printing a snippet from that line:\n",
      "is called encapsulation.\n"
     ]
    }
   ],
   "source": [
    "### don't try to run this as is! can you see why it would crash?\n",
    "\n",
    "#You can also make a code that scans a piece of code and will let you know if it finds the word you want:\n",
    "word='piece'\n",
    "\n",
    "# and you can count how many words have 8 or more letters in them:\n",
    "count_words = 0\n",
    "word_len = 8\n",
    "\n",
    "with open(\"random_text.txt\", \"r\") as f:\n",
    "    for line in f:                         #----> reads the line in the file\n",
    "\n",
    "        q = line.split()                   #----> splits it in words\n",
    "        for i in range( len( q ) ) :       #----> now loops over all words\n",
    "            if len( q[ i ]) == word_len :  #----> if the length of a word is 8 \n",
    "                print(q[i])                #----> it prints the word\n",
    "                count_words =  count_words + 1     # then adds one to the counter \n",
    "        if word in q:                      # it also checks if it found the word I want to search\n",
    "            print('found a:', word, 'in line:', line )\n",
    "            break\n",
    "\n",
    "print('Found',count_words,' words with',word_len,' characters up to here.')   \n",
    "\n",
    "print('------------\\n')\n",
    "print('Printing last line:\\n')\n",
    "print(line[:])\n",
    "print('------------\\n')\n",
    "print('printing a snippet from that line:')\n",
    "print(line[42:66])"
   ]
  },
  {
   "cell_type": "code",
   "execution_count": null,
   "metadata": {},
   "outputs": [],
   "source": []
  },
  {
   "cell_type": "markdown",
   "metadata": {},
   "source": [
    "### Sometimes you might need to use a raw string:"
   ]
  },
  {
   "cell_type": "code",
   "execution_count": 44,
   "metadata": {},
   "outputs": [
    {
     "name": "stdout",
     "output_type": "stream",
     "text": [
      "This is a raw string. \n",
      " It has a literal backslash followed by an \"n\".\n",
      "\n"
     ]
    }
   ],
   "source": [
    "print('This is a raw string. \\n It has a literal backslash followed by an \"n\".\\n')\n"
   ]
  },
  {
   "cell_type": "code",
   "execution_count": 45,
   "metadata": {},
   "outputs": [
    {
     "name": "stdout",
     "output_type": "stream",
     "text": [
      "This is a raw string.\\n It has a literal backslash followed by an 'n'.\\n\n"
     ]
    }
   ],
   "source": [
    "##vs:\n",
    "print(r\"This is a raw string.\\n It has a literal backslash followed by an 'n'.\\n\")\n"
   ]
  },
  {
   "cell_type": "markdown",
   "metadata": {},
   "source": [
    "### Or concatenate strings together:"
   ]
  },
  {
   "cell_type": "code",
   "execution_count": 46,
   "metadata": {},
   "outputs": [
    {
     "name": "stdout",
     "output_type": "stream",
     "text": [
      "Hello,World!\n"
     ]
    }
   ],
   "source": [
    "#You can add strings together:\n",
    "str1 = 'Hello,'\n",
    "\n",
    "str2 = 'World!'\n",
    "\n",
    "#try it! what happens?\n",
    "print( str1 + str2 )"
   ]
  },
  {
   "cell_type": "code",
   "execution_count": 47,
   "metadata": {},
   "outputs": [],
   "source": [
    "### also, a cautionary tale for some print statements: \n",
    "\n",
    "one_number     = 10.\n",
    "another_number = 22."
   ]
  },
  {
   "cell_type": "code",
   "execution_count": 48,
   "metadata": {},
   "outputs": [
    {
     "name": "stdout",
     "output_type": "stream",
     "text": [
      "10.0  is larger than  22.0\n"
     ]
    }
   ],
   "source": [
    "print( one_number, ' is larger than ', another_number )  # note the commas --they allow me to print the values here"
   ]
  },
  {
   "cell_type": "code",
   "execution_count": 49,
   "metadata": {},
   "outputs": [
    {
     "ename": "TypeError",
     "evalue": "unsupported operand type(s) for +: 'float' and 'str'",
     "output_type": "error",
     "traceback": [
      "\u001b[1;31m---------------------------------------------------------------------------\u001b[0m",
      "\u001b[1;31mTypeError\u001b[0m                                 Traceback (most recent call last)",
      "\u001b[1;32m<ipython-input-49-96d8c31759d1>\u001b[0m in \u001b[0;36m<module>\u001b[1;34m\u001b[0m\n\u001b[0;32m      2\u001b[0m \u001b[1;31m# convert the numbers into strings:\u001b[0m\u001b[1;33m\u001b[0m\u001b[1;33m\u001b[0m\u001b[1;33m\u001b[0m\u001b[0m\n\u001b[0;32m      3\u001b[0m \u001b[1;33m\u001b[0m\u001b[0m\n\u001b[1;32m----> 4\u001b[1;33m \u001b[0mprint\u001b[0m\u001b[1;33m(\u001b[0m \u001b[0mone_number\u001b[0m \u001b[1;33m+\u001b[0m \u001b[1;34m' is larger than '\u001b[0m \u001b[1;33m+\u001b[0m \u001b[0manother_number\u001b[0m \u001b[1;33m)\u001b[0m   \u001b[1;31m# but if I add it as a string it will err\u001b[0m\u001b[1;33m\u001b[0m\u001b[1;33m\u001b[0m\u001b[0m\n\u001b[0m",
      "\u001b[1;31mTypeError\u001b[0m: unsupported operand type(s) for +: 'float' and 'str'"
     ]
    }
   ],
   "source": [
    "# but if I want it saved as a single string I need to add its parts ***and***\n",
    "# convert the numbers into strings:\n",
    "\n",
    "print( one_number + ' is larger than ' + another_number )   # but if I add it as a string it will err \n"
   ]
  },
  {
   "cell_type": "code",
   "execution_count": 50,
   "metadata": {},
   "outputs": [
    {
     "name": "stdout",
     "output_type": "stream",
     "text": [
      "10.0 is larger than 22.0\n"
     ]
    }
   ],
   "source": [
    "print( str( one_number ) + ' is larger than ' + str( another_number ) ) # this though, will work"
   ]
  },
  {
   "cell_type": "code",
   "execution_count": 51,
   "metadata": {},
   "outputs": [
    {
     "name": "stdout",
     "output_type": "stream",
     "text": [
      "10.0 is larger than 22.0\n"
     ]
    }
   ],
   "source": [
    "# and I can store it - if needed for a weird reason -- in a single string: \n",
    "\n",
    "print_string = str( one_number ) + ' is larger than ' + str( another_number )\n",
    "\n",
    "print( print_string )"
   ]
  },
  {
   "cell_type": "code",
   "execution_count": 52,
   "metadata": {},
   "outputs": [
    {
     "name": "stdout",
     "output_type": "stream",
     "text": [
      "hey hey hey \n"
     ]
    }
   ],
   "source": [
    "### try printing str3 * 3\n",
    "\n",
    "str3 = 'hey '\n",
    "\n",
    "print( str3 * 3 )"
   ]
  },
  {
   "cell_type": "code",
   "execution_count": null,
   "metadata": {},
   "outputs": [],
   "source": []
  },
  {
   "cell_type": "markdown",
   "metadata": {},
   "source": [
    "## Formats in Python"
   ]
  },
  {
   "cell_type": "markdown",
   "metadata": {},
   "source": [
    "### There are different cases where you can encounter formatting in Python. You may need, e.g., to get a variable you scan through (say sample number, wavelength,...) and format it to us in a string (think of file names e.g.)"
   ]
  },
  {
   "cell_type": "code",
   "execution_count": null,
   "metadata": {},
   "outputs": [],
   "source": [
    "### think of having hundreds of intensity measurements and you want to store the \n",
    "### intensity at 0.612345 microns as 0.61_intensity.dat - you need formating to do it automatically"
   ]
  },
  {
   "cell_type": "markdown",
   "metadata": {},
   "source": [
    "### there are a number of different formatting you can encounter:"
   ]
  },
  {
   "cell_type": "markdown",
   "metadata": {},
   "source": [
    "### the .format()"
   ]
  },
  {
   "cell_type": "code",
   "execution_count": 53,
   "metadata": {},
   "outputs": [
    {
     "name": "stdout",
     "output_type": "stream",
     "text": [
      "In this class we will learn Python\n"
     ]
    }
   ],
   "source": [
    "print( \"In this class we will learn {}\".format( 'Python' ) )\n"
   ]
  },
  {
   "cell_type": "code",
   "execution_count": 54,
   "metadata": {},
   "outputs": [
    {
     "name": "stdout",
     "output_type": "stream",
     "text": [
      "Oranges and Apples are Fruit\n"
     ]
    }
   ],
   "source": [
    "str = ('Apples', 'Oranges' , 'Fruit')\n",
    "\n",
    "print(\"{} and {} are {}\".format( str[ 1], str[ 0 ], str[ 2 ] ) )\n"
   ]
  },
  {
   "cell_type": "code",
   "execution_count": null,
   "metadata": {},
   "outputs": [],
   "source": [
    "# <format_string> % <values>  --> also give what string properties you want\n",
    "# syntax {N-value : accuracy you want}:"
   ]
  },
  {
   "cell_type": "code",
   "execution_count": 55,
   "metadata": {},
   "outputs": [
    {
     "name": "stdout",
     "output_type": "stream",
     "text": [
      "This is 100.0% right!!\n",
      "This is 100.000% right!!\n"
     ]
    }
   ],
   "source": [
    "print ( \"This is {0:.1f}% {1}!!\".format(100, \"right\" ) )\n",
    "\n",
    "print ( \"This is {0:.3f}% {1}!!\".format(100, \"right\" ) )"
   ]
  },
  {
   "cell_type": "code",
   "execution_count": 56,
   "metadata": {},
   "outputs": [
    {
     "name": "stdout",
     "output_type": "stream",
     "text": [
      " 90.72 is smaller than 90.724 \n",
      " 90.72 is smaller than 90.723 \n",
      " 90.723 is smaller than 90.724 \n",
      " 90.724 is smaller than 90.723 ?\n"
     ]
    }
   ],
   "source": [
    "#let's break this down:\n",
    "# the 2 words to be formated are included here: .format(100, \"right\" ) \n",
    "# which one goes where and how it is formated goes here:   \"This is {0:.1f}% {1}!!\" \n",
    "#e.g. try this:\n",
    "\n",
    "print( \" {0:.2f} is smaller than {1:.3f} \".format( 90.723, 90.724 ) )\n",
    "\n",
    "#or: \n",
    "print( \" {1:.2f} is smaller than {0:.3f} \".format( 90.723, 90.724 ) ) # see how it can go wrong with wrong \n",
    "                                                                      # formating?\n",
    "\n",
    "# better:\n",
    "\n",
    "print( \" {0:.3f} is smaller than {1:.3f} \".format( 90.723, 90.724 ) )\n",
    "print( \" {1:.3f} is smaller than {0:.3f} ?\".format( 90.723, 90.724 ) )"
   ]
  },
  {
   "cell_type": "code",
   "execution_count": null,
   "metadata": {},
   "outputs": [],
   "source": []
  },
  {
   "cell_type": "markdown",
   "metadata": {},
   "source": [
    "### the % operator:"
   ]
  },
  {
   "cell_type": "code",
   "execution_count": 57,
   "metadata": {},
   "outputs": [
    {
     "name": "stdout",
     "output_type": "stream",
     "text": [
      "12 eggs cost $1.55\n",
      "12 eggs cost $1.55\n"
     ]
    }
   ],
   "source": [
    "#also compare:\n",
    "print( '%d %s cost $%.2f' % (12, 'eggs', 1.5456) )\n",
    "print('{0} {1} cost ${2:.2f}'.format( 12, 'eggs', 1.5456) )"
   ]
  },
  {
   "cell_type": "code",
   "execution_count": null,
   "metadata": {},
   "outputs": [],
   "source": []
  },
  {
   "cell_type": "markdown",
   "metadata": {},
   "source": [
    "### You can format a float when you want to scan through filenames with specific patterns"
   ]
  },
  {
   "cell_type": "code",
   "execution_count": 58,
   "metadata": {},
   "outputs": [
    {
     "name": "stdout",
     "output_type": "stream",
     "text": [
      "0.0 K and 0.000 bar\n",
      "0.0 K and 0.083 bar\n",
      "0.0 K and 0.167 bar\n",
      "1.0 K and 0.000 bar\n",
      "1.0 K and 0.083 bar\n",
      "1.0 K and 0.167 bar\n"
     ]
    }
   ],
   "source": [
    "import numpy as np\n",
    "\n",
    "t = np.arange( 2 )\n",
    "p = np.arange( 3  )/ 12.\n",
    "\n",
    "for i in t:\n",
    "    for j in range( 3 ):\n",
    "        print( \"%.1f K and %.3f bar\" %( t[ i ], p[ j ] ) )"
   ]
  },
  {
   "cell_type": "code",
   "execution_count": null,
   "metadata": {},
   "outputs": [],
   "source": []
  },
  {
   "cell_type": "code",
   "execution_count": null,
   "metadata": {},
   "outputs": [],
   "source": []
  },
  {
   "cell_type": "markdown",
   "metadata": {},
   "source": [
    "## Dictionaries in Python"
   ]
  },
  {
   "cell_type": "markdown",
   "metadata": {},
   "source": [
    "### Dictionaries are like lists, but they have keys."
   ]
  },
  {
   "cell_type": "code",
   "execution_count": 59,
   "metadata": {},
   "outputs": [],
   "source": [
    "my_first_dict = dict()"
   ]
  },
  {
   "cell_type": "code",
   "execution_count": 60,
   "metadata": {},
   "outputs": [
    {
     "name": "stdout",
     "output_type": "stream",
     "text": [
      "<class 'dict'>\n"
     ]
    }
   ],
   "source": [
    "print( type( my_first_dict ) )"
   ]
  },
  {
   "cell_type": "markdown",
   "metadata": {},
   "source": [
    "### let's populate the dictionary:"
   ]
  },
  {
   "cell_type": "code",
   "execution_count": 61,
   "metadata": {},
   "outputs": [],
   "source": [
    "my_first_dict[ 'one'   ] = 1\n",
    "my_first_dict[ 'two'   ] = 2\n",
    "my_first_dict[ 'three' ] = 3\n",
    "my_first_dict[ 'four'  ] = 4\n"
   ]
  },
  {
   "cell_type": "code",
   "execution_count": 62,
   "metadata": {},
   "outputs": [
    {
     "name": "stdout",
     "output_type": "stream",
     "text": [
      "{'one': 1, 'two': 2, 'three': 3, 'four': 4}\n"
     ]
    }
   ],
   "source": [
    "print( my_first_dict )"
   ]
  },
  {
   "cell_type": "markdown",
   "metadata": {},
   "source": [
    "### 'one', 'two' etc are the keywords of the dictionary. If you want to print the element associated with a keyword:\n"
   ]
  },
  {
   "cell_type": "code",
   "execution_count": 63,
   "metadata": {},
   "outputs": [
    {
     "name": "stdout",
     "output_type": "stream",
     "text": [
      "2\n"
     ]
    }
   ],
   "source": [
    "print( my_first_dict['two'] )"
   ]
  },
  {
   "cell_type": "markdown",
   "metadata": {},
   "source": [
    "### try printing the length of the dictionary. What is it? Why?\n",
    "\n"
   ]
  },
  {
   "cell_type": "code",
   "execution_count": 64,
   "metadata": {},
   "outputs": [
    {
     "name": "stdout",
     "output_type": "stream",
     "text": [
      "4\n"
     ]
    }
   ],
   "source": [
    "print ( len( my_first_dict ) )"
   ]
  },
  {
   "cell_type": "code",
   "execution_count": 65,
   "metadata": {},
   "outputs": [
    {
     "name": "stdout",
     "output_type": "stream",
     "text": [
      "one\n",
      "two\n",
      "three\n",
      "four\n"
     ]
    }
   ],
   "source": [
    "for i in my_first_dict:\n",
    "    print ( i )\n"
   ]
  },
  {
   "cell_type": "code",
   "execution_count": 66,
   "metadata": {},
   "outputs": [
    {
     "name": "stdout",
     "output_type": "stream",
     "text": [
      "1\n",
      "2\n",
      "3\n",
      "4\n"
     ]
    }
   ],
   "source": [
    "for i in my_first_dict.values():\n",
    "    print ( i )"
   ]
  },
  {
   "cell_type": "code",
   "execution_count": 67,
   "metadata": {},
   "outputs": [
    {
     "name": "stdout",
     "output_type": "stream",
     "text": [
      "one 1\n",
      "two 2\n",
      "three 3\n",
      "four 4\n"
     ]
    }
   ],
   "source": [
    "for i,j in my_first_dict.items():\n",
    "    print ( i , j)"
   ]
  },
  {
   "cell_type": "code",
   "execution_count": null,
   "metadata": {},
   "outputs": [],
   "source": []
  },
  {
   "cell_type": "markdown",
   "metadata": {},
   "source": [
    "### You can also have nested dictionaries :"
   ]
  },
  {
   "cell_type": "code",
   "execution_count": 68,
   "metadata": {},
   "outputs": [],
   "source": [
    "#example of nested dictionaries:\n",
    "car1 = {\n",
    "  \"model\" : \"Escape\",\n",
    "  \"make\" : \"Ford\"\n",
    "}\n",
    "car2 = {\n",
    "  \"model\" : \"500\",\n",
    "  \"make\" : \"Fiat\"\n",
    "}\n",
    "car3 = {\n",
    "  \"model\" : \"Tucson\",\n",
    "  \"make\" : \"Hyundai\"\n",
    "}\n",
    "\n",
    "experiment = {\n",
    "  \"car1\" : car1,\n",
    "  \"car2\" : car2,\n",
    "  \"car3\" : car3\n",
    "}"
   ]
  },
  {
   "cell_type": "code",
   "execution_count": 69,
   "metadata": {},
   "outputs": [
    {
     "name": "stdout",
     "output_type": "stream",
     "text": [
      "dict_items([('car1', {'model': 'Escape', 'make': 'Ford'}), ('car2', {'model': '500', 'make': 'Fiat'}), ('car3', {'model': 'Tucson', 'make': 'Hyundai'})])\n"
     ]
    }
   ],
   "source": [
    "### what did I just do? let's see:\n",
    "print( experiment.items() )"
   ]
  },
  {
   "cell_type": "code",
   "execution_count": 70,
   "metadata": {},
   "outputs": [
    {
     "name": "stdout",
     "output_type": "stream",
     "text": [
      "dict_keys(['car1', 'car2', 'car3'])\n"
     ]
    }
   ],
   "source": [
    "print( experiment.keys() )"
   ]
  },
  {
   "cell_type": "code",
   "execution_count": 71,
   "metadata": {},
   "outputs": [
    {
     "name": "stdout",
     "output_type": "stream",
     "text": [
      "dict_values([{'model': 'Escape', 'make': 'Ford'}, {'model': '500', 'make': 'Fiat'}, {'model': 'Tucson', 'make': 'Hyundai'}])\n"
     ]
    }
   ],
   "source": [
    "print( experiment.values() )"
   ]
  },
  {
   "cell_type": "code",
   "execution_count": 72,
   "metadata": {},
   "outputs": [
    {
     "name": "stdout",
     "output_type": "stream",
     "text": [
      "500\n",
      "Fiat\n"
     ]
    }
   ],
   "source": [
    "#now let's try to print the model of car2:\n",
    "print( experiment['car2']['model'] )\n",
    "\n",
    "# and its make:\n",
    "print( experiment['car2']['make'] )\n"
   ]
  },
  {
   "cell_type": "markdown",
   "metadata": {},
   "source": [
    "### Useful for dictionaries:\n",
    "\n",
    "dictionary_name.get() <br>\n",
    "dictionary_name.update() <br>\n",
    "dictionary_name.items() <br>\n",
    "dictionary_name.values() <br>\n",
    "dictionary_name.clear()<br>\n"
   ]
  },
  {
   "cell_type": "code",
   "execution_count": 73,
   "metadata": {},
   "outputs": [
    {
     "name": "stdout",
     "output_type": "stream",
     "text": [
      "{'model': '500', 'make': 'Fiat'}\n",
      "{'model': 'Escape', 'make': 'Ford'}\n"
     ]
    }
   ],
   "source": [
    "# let's use get() to get the values of specific keywords:\n",
    "\n",
    "print( experiment.get( 'car2' ) )\n",
    "\n",
    "print( experiment.get( 'car1' ) )"
   ]
  },
  {
   "cell_type": "code",
   "execution_count": null,
   "metadata": {},
   "outputs": [],
   "source": []
  },
  {
   "cell_type": "code",
   "execution_count": 74,
   "metadata": {},
   "outputs": [],
   "source": [
    "#Assume you have the following dictionary. Suddenly your realized that \n",
    "#the color of the car is wrong and it should be white! ---> use: .update()\n",
    "\n",
    "car = {\n",
    "  \"brand\": \"Ford\",\n",
    "  \"model\": \"Mustang\",\n",
    "  \"color\": \"black\"\n",
    "}\n"
   ]
  },
  {
   "cell_type": "code",
   "execution_count": 75,
   "metadata": {},
   "outputs": [
    {
     "name": "stdout",
     "output_type": "stream",
     "text": [
      "black\n"
     ]
    }
   ],
   "source": [
    "#let's get the color to see what we had first:\n",
    "\n",
    "print( car.get('color') )"
   ]
  },
  {
   "cell_type": "code",
   "execution_count": 76,
   "metadata": {},
   "outputs": [],
   "source": [
    "#let's fix its color:\n",
    "\n",
    "car.update( {\"color\": \"white\"} )"
   ]
  },
  {
   "cell_type": "code",
   "execution_count": 77,
   "metadata": {},
   "outputs": [
    {
     "name": "stdout",
     "output_type": "stream",
     "text": [
      "white\n"
     ]
    }
   ],
   "source": [
    "print( car.get('color') )"
   ]
  },
  {
   "cell_type": "code",
   "execution_count": 78,
   "metadata": {},
   "outputs": [
    {
     "name": "stdout",
     "output_type": "stream",
     "text": [
      "dict_items([('brand', 'Ford'), ('model', 'Mustang'), ('color', 'white')])\n"
     ]
    }
   ],
   "source": [
    "#let's check all our dictionary's items:\n",
    "print( car.items() ) "
   ]
  },
  {
   "cell_type": "code",
   "execution_count": 79,
   "metadata": {},
   "outputs": [
    {
     "name": "stdout",
     "output_type": "stream",
     "text": [
      "dict_keys(['brand', 'model', 'color'])\n",
      "dict_values(['Ford', 'Mustang', 'white'])\n"
     ]
    }
   ],
   "source": [
    "#it's keys and then its values:\n",
    "print( car.keys()   )\n",
    "print( car.values() )"
   ]
  },
  {
   "cell_type": "code",
   "execution_count": null,
   "metadata": {},
   "outputs": [],
   "source": []
  },
  {
   "cell_type": "markdown",
   "metadata": {},
   "source": [
    "#### You can also add input to a dictionary:"
   ]
  },
  {
   "cell_type": "code",
   "execution_count": 80,
   "metadata": {},
   "outputs": [
    {
     "name": "stdout",
     "output_type": "stream",
     "text": [
      "{'brand': 'Ford', 'model': 'Mustang', 'color': 'black'}\n"
     ]
    }
   ],
   "source": [
    "#let's get back the original car:\n",
    "car = {\n",
    "  \"brand\": \"Ford\",\n",
    "  \"model\": \"Mustang\",\n",
    "  \"color\": \"black\"\n",
    "}\n",
    "\n",
    "print( car )"
   ]
  },
  {
   "cell_type": "code",
   "execution_count": 81,
   "metadata": {},
   "outputs": [
    {
     "name": "stdout",
     "output_type": "stream",
     "text": [
      "{'brand': 'Ford', 'model': 'Mustang', 'color': 'black', 'year': '1974'}\n"
     ]
    }
   ],
   "source": [
    "#and add to it the year:\n",
    "\n",
    "car[ \"year\" ] = \"1974\"\n",
    "\n",
    "print( car )"
   ]
  },
  {
   "cell_type": "code",
   "execution_count": null,
   "metadata": {},
   "outputs": [],
   "source": []
  },
  {
   "cell_type": "code",
   "execution_count": 82,
   "metadata": {},
   "outputs": [],
   "source": [
    "#We have a dictionary of students (1,2 and 3). For every student we have a name, and their scores (0-10) \n",
    "#in hw assignments, quizzes and projects:\n",
    "\n",
    "student1 = {\n",
    "  \"name\": \"Jane\",\n",
    "  \"homework\": [ 9.0, 7.0, 5.0, 10.],\n",
    "  \"quizzes\": [ 8.0, 7.0, 9.0 ],\n",
    "  \"projects\": [ 7.5, 9.5 ]\n",
    "}\n",
    "student2 = {\n",
    "  \"name\": \"Joe\",\n",
    "  \"homework\": [ 10.0, 3.9, 4.0, 10.0 ],\n",
    "  \"quizzes\": [ 5.1, 4.2, 5.0 ],\n",
    "  \"projects\": [ 8.9, 2.7 ]\n",
    "}\n",
    "student3 = {\n",
    "  \"name\": \"Jimmy\",\n",
    "  \"homework\": [ 3.0, 8.0, 9.0, 10.0 ],\n",
    "  \"quizzes\": [ 3.0, 7.5, 7.],\n",
    "  \"projects\": [ 8.0, 10.0 ]\n",
    "}\n"
   ]
  },
  {
   "cell_type": "code",
   "execution_count": 83,
   "metadata": {},
   "outputs": [],
   "source": [
    "#try plotting the HW grades of each student. To each student assign a single/different marker \n",
    "# and add a label that will show the student's name\n",
    "\n",
    "#first lets do the appropriate import:\n",
    "import matplotlib.pyplot as plt"
   ]
  },
  {
   "cell_type": "code",
   "execution_count": 84,
   "metadata": {},
   "outputs": [
    {
     "data": {
      "text/plain": [
       "(array([ 2.,  3.,  4.,  5.,  6.,  7.,  8.,  9., 10., 11.]),\n",
       " [Text(0, 0, ''),\n",
       "  Text(0, 0, ''),\n",
       "  Text(0, 0, ''),\n",
       "  Text(0, 0, ''),\n",
       "  Text(0, 0, ''),\n",
       "  Text(0, 0, ''),\n",
       "  Text(0, 0, ''),\n",
       "  Text(0, 0, ''),\n",
       "  Text(0, 0, ''),\n",
       "  Text(0, 0, '')])"
      ]
     },
     "execution_count": 84,
     "metadata": {},
     "output_type": "execute_result"
    },
    {
     "data": {
      "image/png": "[encoded data removed]",
      "text/plain": [
       "<Figure size 576x576 with 1 Axes>"
      ]
     },
     "metadata": {
      "needs_background": "light"
     },
     "output_type": "display_data"
    }
   ],
   "source": [
    "#put plot here\n",
    "\n",
    "plt.figure( figsize= (8, 8 ) )\n",
    "\n",
    "\n",
    "plt.plot( student1['homework'] , marker = 'o' , markersize = 8 , \n",
    "         linestyle = 'none', color = 'red' , label =  student1['name'])\n",
    "\n",
    "plt.plot( student2['homework'] , marker = 'd' , markersize = 8 , \n",
    "         linestyle = 'none', color = 'blue', label =  student2['name'])\n",
    "\n",
    "plt.plot( student3['homework'] , marker = 's' , markersize = 8 , \n",
    "         linestyle = 'none', color = 'forestgreen', label =  student3['name'])\n",
    "\n",
    "\n",
    "plt.legend( fontsize = 20 )\n",
    "plt.title( 'HW', fontsize = 30 )\n",
    "plt.xticks( size = 20 )\n",
    "plt.yticks( size = 20 )\n",
    "\n",
    "\n"
   ]
  },
  {
   "cell_type": "code",
   "execution_count": 85,
   "metadata": {},
   "outputs": [
    {
     "name": "stdout",
     "output_type": "stream",
     "text": [
      "[10.0, 3.9, 4.0, 10.0]\n"
     ]
    }
   ],
   "source": [
    "\n",
    "#oh, no! We made a mistake and gave Joe too little credit for the 2nd HW:\n",
    "\n",
    "print( student2.get('homework') )   #---> see? accidentally 3.9 instead of 8.9. Let's fix this: \n"
   ]
  },
  {
   "cell_type": "code",
   "execution_count": 86,
   "metadata": {},
   "outputs": [],
   "source": [
    "#any ideas how to update it?\n",
    "\n",
    "student2['homework'][1] = 8.9 "
   ]
  },
  {
   "cell_type": "code",
   "execution_count": 87,
   "metadata": {},
   "outputs": [
    {
     "name": "stdout",
     "output_type": "stream",
     "text": [
      "{'name': 'Joe', 'homework': [10.0, 8.9, 4.0, 10.0], 'quizzes': [5.1, 4.2, 5.0], 'projects': [8.9, 2.7]}\n"
     ]
    }
   ],
   "source": [
    "#test that it worked:\n",
    "print ( student2 )"
   ]
  },
  {
   "cell_type": "code",
   "execution_count": null,
   "metadata": {},
   "outputs": [],
   "source": [
    "#make a function total_grade that gets the homework, quiz and projects information from the dictionary, \n",
    "#calculates their mean and then a final score using:\n",
    "#\n",
    "# sum = 0.4 * mean(homework) + 0.4 * mean(quiz) + 0.2 * mean(projects)\n",
    "\n",
    "#the function should then return the student's average grade\n",
    "# call the function and print the student's name and average grade for all 3 students\n",
    "\n"
   ]
  },
  {
   "cell_type": "code",
   "execution_count": null,
   "metadata": {},
   "outputs": [],
   "source": [
    "#I will use numpy.mean here so I need to import numpy:\n",
    "import numpy as np"
   ]
  },
  {
   "cell_type": "code",
   "execution_count": null,
   "metadata": {},
   "outputs": [],
   "source": [
    "# then I need to make my function:\n",
    "\n",
    "\n",
    "    "
   ]
  },
  {
   "cell_type": "code",
   "execution_count": null,
   "metadata": {},
   "outputs": [],
   "source": [
    "# call the function and print informative statement for each student:\n",
    "\n",
    "print( student1['name'], 'got an average grade of', total_grade( student1 ) )"
   ]
  },
  {
   "cell_type": "code",
   "execution_count": null,
   "metadata": {},
   "outputs": [],
   "source": [
    "print( student2['name'], 'got an average grade of', total_grade( student2 ) )"
   ]
  },
  {
   "cell_type": "code",
   "execution_count": null,
   "metadata": {},
   "outputs": [],
   "source": [
    "print( student3['name'], 'got an average grade of', total_grade( student3 ) )"
   ]
  },
  {
   "cell_type": "code",
   "execution_count": null,
   "metadata": {},
   "outputs": [],
   "source": []
  }
 ],
 "metadata": {
  "kernelspec": {
   "display_name": "Python 3",
   "language": "python",
   "name": "python3"
  },
  "language_info": {
   "codemirror_mode": {
    "name": "ipython",
    "version": 3
   },
   "file_extension": ".py",
   "mimetype": "text/x-python",
   "name": "python",
   "nbconvert_exporter": "python",
   "pygments_lexer": "ipython3",
   "version": "3.9.4"
  }
 },
 "nbformat": 4,
 "nbformat_minor": 2
}
