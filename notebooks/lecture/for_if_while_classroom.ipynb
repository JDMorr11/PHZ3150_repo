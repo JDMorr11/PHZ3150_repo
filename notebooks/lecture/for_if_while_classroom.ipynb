{
 "cells": [
  {
   "cell_type": "markdown",
   "metadata": {},
   "source": [
    "# FOR - IF - WHILE LOOPS "
   ]
  },
  {
   "cell_type": "code",
   "execution_count": null,
   "metadata": {},
   "outputs": [],
   "source": [
    "### 9.28.2021 - Fall 2021 "
   ]
  },
  {
   "cell_type": "code",
   "execution_count": 4,
   "metadata": {},
   "outputs": [],
   "source": [
    "import numpy as np"
   ]
  },
  {
   "cell_type": "markdown",
   "metadata": {},
   "source": [
    "# FOR"
   ]
  },
  {
   "cell_type": "markdown",
   "metadata": {},
   "source": [
    "### A for loop is iterating over a parameter (e.g. i) to do a specific thing.\n"
   ]
  },
  {
   "cell_type": "markdown",
   "metadata": {},
   "source": [
    "<img src=\"for_loop.png\" width=600 height=600 />"
   ]
  },
  {
   "cell_type": "markdown",
   "metadata": {},
   "source": [
    "### A for loop is iterating over a parameter (e.g. i) to do a specific thing.\n",
    "\n",
    "In Fortran (first language to introduce for loops, but they are called “DO”) you would have:\n",
    "\n",
    "      DO i = 0, 10\n",
    "        print*, i\n",
    "\n",
    "In Python:  <br>\n",
    "     for i in 1, 2, 3,10 : <br>\n",
    "-------     print(i)\n"
   ]
  },
  {
   "cell_type": "markdown",
   "metadata": {},
   "source": [
    "### The element over which you iterate can be a list/tuple..: "
   ]
  },
  {
   "cell_type": "code",
   "execution_count": 1,
   "metadata": {},
   "outputs": [
    {
     "name": "stdout",
     "output_type": "stream",
     "text": [
      "1 2\n",
      "3 4\n",
      "jane joe\n"
     ]
    }
   ],
   "source": [
    "for a, b in (1, 2), [3, 4], ('jane', 'joe'):\n",
    "      print( a, b )\n"
   ]
  },
  {
   "cell_type": "code",
   "execution_count": 2,
   "metadata": {},
   "outputs": [
    {
     "name": "stdout",
     "output_type": "stream",
     "text": [
      "Current Letter : P\n",
      "Current Letter : y\n",
      "Current Letter : t\n",
      "Current Letter : h\n",
      "Current Letter : o\n",
      "Current Letter : n\n"
     ]
    }
   ],
   "source": [
    "for ch in 'Python': \n",
    "      print ( 'Current Letter :', ch )\n"
   ]
  },
  {
   "cell_type": "code",
   "execution_count": null,
   "metadata": {},
   "outputs": [],
   "source": [
    "for i in range( 10 ):\n",
    "     print( i )\n"
   ]
  },
  {
   "cell_type": "code",
   "execution_count": null,
   "metadata": {},
   "outputs": [],
   "source": [
    "for i in range(1, 10, 2 ):\n",
    "     print( i )\n"
   ]
  },
  {
   "cell_type": "markdown",
   "metadata": {},
   "source": [
    "#### When working with an array and you are not sure about its size you can iterate over the length of the array:\n",
    "for i in range( len(your_array) ): <br>\n",
    "            do_something_with_the_array\n"
   ]
  },
  {
   "cell_type": "code",
   "execution_count": 5,
   "metadata": {},
   "outputs": [],
   "source": [
    "#### e.g., make a numpy array x with numbers 5, 12, 15, 16, 22, 42, 32, 88, 104:\n",
    "\n",
    "x =  np.array( [ 5, 12, 15, 16, 22, 42, 32, 88, 104] )"
   ]
  },
  {
   "cell_type": "markdown",
   "metadata": {},
   "source": [
    "#### test difference of:\n",
    "\n"
   ]
  },
  {
   "cell_type": "code",
   "execution_count": 6,
   "metadata": {},
   "outputs": [
    {
     "name": "stdout",
     "output_type": "stream",
     "text": [
      "5\n",
      "12\n",
      "15\n",
      "16\n",
      "22\n",
      "42\n",
      "32\n",
      "88\n",
      "104\n"
     ]
    }
   ],
   "source": [
    "for i in x:\n",
    "    print( i )"
   ]
  },
  {
   "cell_type": "markdown",
   "metadata": {},
   "source": [
    "#### with: "
   ]
  },
  {
   "cell_type": "code",
   "execution_count": 7,
   "metadata": {},
   "outputs": [
    {
     "name": "stdout",
     "output_type": "stream",
     "text": [
      "0\n",
      "1\n",
      "2\n",
      "3\n",
      "4\n",
      "5\n",
      "6\n",
      "7\n",
      "8\n"
     ]
    }
   ],
   "source": [
    "for i in range( len( x ) ):\n",
    "    print( i )"
   ]
  },
  {
   "cell_type": "markdown",
   "metadata": {},
   "source": [
    "#### when would you use the first and when the second case?"
   ]
  },
  {
   "cell_type": "code",
   "execution_count": null,
   "metadata": {},
   "outputs": [],
   "source": []
  },
  {
   "cell_type": "markdown",
   "metadata": {},
   "source": [
    "#### For lists you can use list comprehension:"
   ]
  },
  {
   "cell_type": "code",
   "execution_count": 8,
   "metadata": {},
   "outputs": [],
   "source": [
    "#let's make list x_list \n",
    "x_list = [1, 2, 3, 4, 8, 12, 24, 32] "
   ]
  },
  {
   "cell_type": "code",
   "execution_count": 9,
   "metadata": {},
   "outputs": [],
   "source": [
    "# now try a for loop to make y_list with each element equal to x**2:\n",
    "y_list_1 = []\n",
    "\n",
    "for i in x_list:\n",
    "    y_list_1.append( i**2 )"
   ]
  },
  {
   "cell_type": "code",
   "execution_count": 10,
   "metadata": {},
   "outputs": [
    {
     "name": "stdout",
     "output_type": "stream",
     "text": [
      "[1, 4, 9, 16, 64, 144, 576, 1024]\n"
     ]
    }
   ],
   "source": [
    "print( y_list_1 )"
   ]
  },
  {
   "cell_type": "code",
   "execution_count": 11,
   "metadata": {},
   "outputs": [],
   "source": [
    "# and try list comprehension:\n",
    "y_list_2 = [i**2 for i in x_list ]"
   ]
  },
  {
   "cell_type": "code",
   "execution_count": 12,
   "metadata": {},
   "outputs": [
    {
     "name": "stdout",
     "output_type": "stream",
     "text": [
      "[1, 4, 9, 16, 64, 144, 576, 1024]\n"
     ]
    }
   ],
   "source": [
    "print( y_list_2 )"
   ]
  },
  {
   "cell_type": "markdown",
   "metadata": {},
   "source": [
    "### Don’t do it for arrays, too slow. That’s why we have numpy!"
   ]
  },
  {
   "cell_type": "code",
   "execution_count": null,
   "metadata": {},
   "outputs": [],
   "source": []
  },
  {
   "cell_type": "markdown",
   "metadata": {},
   "source": [
    "### You can do multiple things in one loop:"
   ]
  },
  {
   "cell_type": "code",
   "execution_count": 16,
   "metadata": {},
   "outputs": [
    {
     "name": "stdout",
     "output_type": "stream",
     "text": [
      "With acceleration: 14.0 m/s^2 moved 52.0 m\n",
      "With acceleration: 15.0 m/s^2 moved 280.0 m\n",
      "With acceleration: 1.74 m/s^2 moved 25149.08 m\n",
      "With acceleration: -8.14 m/s^2 moved 5545.12 m\n",
      "With acceleration: 11.06 m/s^2 moved 19985.77 m\n",
      "With acceleration: -43.86 m/s^2 moved 5081.72 m\n",
      "With acceleration: 1.23 m/s^2 moved 3990.535 m\n",
      "With acceleration: -0.41 m/s^2 moved 3937.355 m\n",
      "With acceleration: 1.5 m/s^2 moved 1533.0 m\n",
      "Total displacement: 65554.58 m\n"
     ]
    }
   ],
   "source": [
    "#create the acceleration and displacement arrays:\n",
    "a = np.zeros(10)\n",
    "d = np.zeros(10)\n",
    "\n",
    "# make a random speed array:\n",
    "speed = np.array( [12, 40, 100, 312, 84, 670, 56, 114, 99, 120 ] )\n",
    "# and a time array:\n",
    "time  = np.array( [12, 14, 18, 140, 168, 221, 235, 282, 319, 333] )\n",
    "\n",
    "\n",
    "# for this we' ll need the accelaration and displacement function; let's import them:\n",
    "from acceleration_hw4 import acceleration\n",
    "from displacement_hw5 import displacement\n",
    "\n",
    "\n",
    "#make a for loop that goes through the speed and time arrays and print #the displacement:\n",
    "for i in range( 0, 9 ):\n",
    "    # make an initial speed: \n",
    "    uin      = speed[ i ]\n",
    "    \n",
    "    # calculate the acceleration calling your acceleration function  \n",
    "    a[ i ]   = round(acceleration( speed[ i ], speed[ i+1 ], time[ i ], time[ i+1 ] ),2)\n",
    "    \n",
    "    # calculate the displacement calling your displacement function \n",
    "    d[ i ]   = round(displacement( uin, time[ i+1 ] - time[ i ], a[ i ] ),3)\n",
    "    \n",
    "    # print the,:\n",
    "    print ('With acceleration:',a[i],'m/s^2 moved',d[i], 'm')\n",
    "    \n",
    "#Print total displacment:    \n",
    "\n",
    "print('Total displacement:',np.sum(d),'m') \n"
   ]
  },
  {
   "cell_type": "code",
   "execution_count": null,
   "metadata": {},
   "outputs": [],
   "source": []
  },
  {
   "cell_type": "markdown",
   "metadata": {},
   "source": [
    "### Let's do some for loop practice. \n",
    "\n",
    "Create an array time that goes from 1 to 11 with a step of 1. \n",
    "Make a for loop that scans the array and prints its value (use t as your looping variable).\n"
   ]
  },
  {
   "cell_type": "code",
   "execution_count": 17,
   "metadata": {},
   "outputs": [
    {
     "name": "stdout",
     "output_type": "stream",
     "text": [
      "1\n",
      "2\n",
      "3\n",
      "4\n",
      "5\n",
      "6\n",
      "7\n",
      "8\n",
      "9\n",
      "10\n"
     ]
    }
   ],
   "source": [
    "time = np.arange( 1, 11, 1 )\n",
    "\n",
    "for t in time:\n",
    "    print( t )\n"
   ]
  },
  {
   "cell_type": "code",
   "execution_count": 18,
   "metadata": {},
   "outputs": [
    {
     "name": "stdout",
     "output_type": "stream",
     "text": [
      "1\n",
      "2\n",
      "3\n",
      "4\n",
      "5\n",
      "6\n",
      "7\n",
      "8\n",
      "9\n",
      "10\n"
     ]
    }
   ],
   "source": [
    "#or:\n",
    "\n",
    "for t in range( len( time ) ):\n",
    "    print( time[ t ] )\n",
    "\n"
   ]
  },
  {
   "cell_type": "markdown",
   "metadata": {},
   "source": [
    "### Create an array distance that goes from 10 to 20 with a step of 1. Make a for loop that scans the array and prints the speed of the object using the time stamps from above, but in reverse order (so distance[0] will go with time[ 9 ])."
   ]
  },
  {
   "cell_type": "code",
   "execution_count": 19,
   "metadata": {},
   "outputs": [],
   "source": [
    "distance = np.arange( 10, 20, 1)"
   ]
  },
  {
   "cell_type": "code",
   "execution_count": 20,
   "metadata": {},
   "outputs": [
    {
     "name": "stdout",
     "output_type": "stream",
     "text": [
      "[ 1  2  3  4  5  6  7  8  9 10]\n",
      "[10 11 12 13 14 15 16 17 18 19]\n"
     ]
    }
   ],
   "source": [
    "print( time )\n",
    "print( distance )"
   ]
  },
  {
   "cell_type": "code",
   "execution_count": 24,
   "metadata": {},
   "outputs": [
    {
     "name": "stdout",
     "output_type": "stream",
     "text": [
      "10 10\n",
      "11 9\n",
      "12 8\n",
      "13 7\n",
      "14 6\n",
      "15 5\n",
      "16 4\n",
      "17 3\n",
      "18 2\n",
      "19 1\n"
     ]
    }
   ],
   "source": [
    "for i in range(len(distance)):\n",
    "    print(distance[i], time[len(time)-i-1] )"
   ]
  },
  {
   "cell_type": "code",
   "execution_count": null,
   "metadata": {},
   "outputs": [],
   "source": []
  },
  {
   "cell_type": "markdown",
   "metadata": {},
   "source": [
    "### Create a 2D array speed with dimensions equal to the length of time and distance. Create a nested for loop (for loop in for loop)  that scans over i and j and assigns a value to speed for every time and distance."
   ]
  },
  {
   "cell_type": "code",
   "execution_count": 25,
   "metadata": {},
   "outputs": [],
   "source": [
    "speed = np.zeros( ( 10, 10 ) )"
   ]
  },
  {
   "cell_type": "code",
   "execution_count": 26,
   "metadata": {},
   "outputs": [],
   "source": [
    "for i in range( 9 ) :\n",
    "    for j in range( 9 ) :\n",
    "            speed[i,j]= distance[i] / time[j]\n"
   ]
  },
  {
   "cell_type": "code",
   "execution_count": 27,
   "metadata": {},
   "outputs": [
    {
     "name": "stdout",
     "output_type": "stream",
     "text": [
      "[[10.          5.          3.33333333  2.5         2.          1.66666667\n",
      "   1.42857143  1.25        1.11111111  0.        ]\n",
      " [11.          5.5         3.66666667  2.75        2.2         1.83333333\n",
      "   1.57142857  1.375       1.22222222  0.        ]\n",
      " [12.          6.          4.          3.          2.4         2.\n",
      "   1.71428571  1.5         1.33333333  0.        ]\n",
      " [13.          6.5         4.33333333  3.25        2.6         2.16666667\n",
      "   1.85714286  1.625       1.44444444  0.        ]\n",
      " [14.          7.          4.66666667  3.5         2.8         2.33333333\n",
      "   2.          1.75        1.55555556  0.        ]\n",
      " [15.          7.5         5.          3.75        3.          2.5\n",
      "   2.14285714  1.875       1.66666667  0.        ]\n",
      " [16.          8.          5.33333333  4.          3.2         2.66666667\n",
      "   2.28571429  2.          1.77777778  0.        ]\n",
      " [17.          8.5         5.66666667  4.25        3.4         2.83333333\n",
      "   2.42857143  2.125       1.88888889  0.        ]\n",
      " [18.          9.          6.          4.5         3.6         3.\n",
      "   2.57142857  2.25        2.          0.        ]\n",
      " [ 0.          0.          0.          0.          0.          0.\n",
      "   0.          0.          0.          0.        ]]\n"
     ]
    }
   ],
   "source": [
    "print( speed )"
   ]
  },
  {
   "cell_type": "code",
   "execution_count": null,
   "metadata": {},
   "outputs": [],
   "source": [
    "# could you have done it as:\n",
    "\n",
    "for i in time  : \n",
    "    for j in distance :\n",
    "        \n",
    "        speed[ i, j ] = j / i   # ??? why/ why not? "
   ]
  },
  {
   "cell_type": "code",
   "execution_count": null,
   "metadata": {},
   "outputs": [],
   "source": []
  },
  {
   "cell_type": "code",
   "execution_count": 28,
   "metadata": {},
   "outputs": [],
   "source": [
    "# what could have worked is this:\n",
    "for i in  time : \n",
    "    for j in distance :\n",
    "        \n",
    "        speed[ i-1, j-10 ] =  j  /  i "
   ]
  },
  {
   "cell_type": "code",
   "execution_count": 29,
   "metadata": {},
   "outputs": [
    {
     "name": "stdout",
     "output_type": "stream",
     "text": [
      "[[10.         11.         12.         13.         14.         15.\n",
      "  16.         17.         18.         19.        ]\n",
      " [ 5.          5.5         6.          6.5         7.          7.5\n",
      "   8.          8.5         9.          9.5       ]\n",
      " [ 3.33333333  3.66666667  4.          4.33333333  4.66666667  5.\n",
      "   5.33333333  5.66666667  6.          6.33333333]\n",
      " [ 2.5         2.75        3.          3.25        3.5         3.75\n",
      "   4.          4.25        4.5         4.75      ]\n",
      " [ 2.          2.2         2.4         2.6         2.8         3.\n",
      "   3.2         3.4         3.6         3.8       ]\n",
      " [ 1.66666667  1.83333333  2.          2.16666667  2.33333333  2.5\n",
      "   2.66666667  2.83333333  3.          3.16666667]\n",
      " [ 1.42857143  1.57142857  1.71428571  1.85714286  2.          2.14285714\n",
      "   2.28571429  2.42857143  2.57142857  2.71428571]\n",
      " [ 1.25        1.375       1.5         1.625       1.75        1.875\n",
      "   2.          2.125       2.25        2.375     ]\n",
      " [ 1.11111111  1.22222222  1.33333333  1.44444444  1.55555556  1.66666667\n",
      "   1.77777778  1.88888889  2.          2.11111111]\n",
      " [ 1.          1.1         1.2         1.3         1.4         1.5\n",
      "   1.6         1.7         1.8         1.9       ]]\n"
     ]
    }
   ],
   "source": [
    "print ( speed )"
   ]
  },
  {
   "cell_type": "markdown",
   "metadata": {},
   "source": [
    "## Indentation is SUPER important for Python"
   ]
  },
  {
   "cell_type": "code",
   "execution_count": 34,
   "metadata": {},
   "outputs": [
    {
     "name": "stdout",
     "output_type": "stream",
     "text": [
      "0 0 1 10 10.0\n",
      "0 1 1 11 11.0\n",
      "0 2 1 12 12.0\n",
      "1 0 2 10 5.0\n",
      "1 1 2 11 5.5\n",
      "1 2 2 12 6.0\n",
      "2 0 3 10 3.3333333333333335\n",
      "2 1 3 11 3.6666666666666665\n",
      "2 2 3 12 4.0\n"
     ]
    }
   ],
   "source": [
    "#create the speed array:\n",
    "#a = np.zeros( ( len( time ), len( distance ) ) )\n",
    "\n",
    "#create a nested for loop:\n",
    "\n",
    "for i in range( 3):\n",
    "    for j in range( 3 ):\n",
    "            \n",
    "            speed[ i, j ] = distance[ j ] / time[ i ] \n",
    "            \n",
    "            print( i, j, time[ i ], distance[ j ], speed[ i, j ] ) \n",
    "\n",
    "\n",
    "##NOTE that same blocks of code must have the same indentation!\n"
   ]
  },
  {
   "cell_type": "markdown",
   "metadata": {},
   "source": [
    "<img src=\"loop_levs.png\" width=800 height=600 />"
   ]
  },
  {
   "cell_type": "markdown",
   "metadata": {},
   "source": [
    "### Try moving the print statement to ”Level 1” or “Level 0”. What happens? Why?\n"
   ]
  },
  {
   "cell_type": "code",
   "execution_count": 35,
   "metadata": {},
   "outputs": [
    {
     "name": "stdout",
     "output_type": "stream",
     "text": [
      "0 2 1 12 12.0\n",
      "1 2 2 12 6.0\n",
      "2 2 3 12 4.0\n"
     ]
    }
   ],
   "source": [
    "for i in range( 3):\n",
    "    for j in range( 3 ):\n",
    "            \n",
    "            speed[ i, j ] = distance[ j ] / time[ i ] \n",
    "            \n",
    "    print( i, j, time[ i ], distance[ j ], speed[ i, j ] ) \n"
   ]
  },
  {
   "cell_type": "code",
   "execution_count": 36,
   "metadata": {},
   "outputs": [
    {
     "name": "stdout",
     "output_type": "stream",
     "text": [
      "2 2 3 12 4.0\n"
     ]
    }
   ],
   "source": [
    "for i in range( 3):\n",
    "    for j in range( 3 ):\n",
    "            \n",
    "            speed[ i, j ] = distance[ j ] / time[ i ] \n",
    "            \n",
    "print( i, j, time[ i ], distance[ j ], speed[ i, j ] ) \n"
   ]
  },
  {
   "cell_type": "code",
   "execution_count": null,
   "metadata": {},
   "outputs": [],
   "source": []
  },
  {
   "cell_type": "code",
   "execution_count": null,
   "metadata": {},
   "outputs": [],
   "source": []
  },
  {
   "cell_type": "code",
   "execution_count": null,
   "metadata": {},
   "outputs": [],
   "source": []
  },
  {
   "cell_type": "markdown",
   "metadata": {},
   "source": [
    "# ----------------------------------------------"
   ]
  },
  {
   "cell_type": "markdown",
   "metadata": {},
   "source": [
    "# IF"
   ]
  },
  {
   "cell_type": "markdown",
   "metadata": {},
   "source": [
    "## Conditional statement that does something *only* IF the condition(s) is met.\n",
    "\n",
    "\n",
    "if your conditions: <br>\n",
    "------------ do something here\n"
   ]
  },
  {
   "cell_type": "code",
   "execution_count": 37,
   "metadata": {},
   "outputs": [
    {
     "name": "stdout",
     "output_type": "stream",
     "text": [
      " True!\n"
     ]
    }
   ],
   "source": [
    "#e.g.,\n",
    "\n",
    "x = 5\n",
    "\n",
    "if x < 10:\n",
    "    print ( ' True!' )\n"
   ]
  },
  {
   "cell_type": "code",
   "execution_count": 38,
   "metadata": {},
   "outputs": [
    {
     "name": "stdout",
     "output_type": "stream",
     "text": [
      "0\n",
      "1\n",
      "2\n",
      "3\n",
      "4\n"
     ]
    }
   ],
   "source": [
    "#Make array \n",
    "\n",
    "a = np.arange( 10 )\n",
    "\n",
    "# then Make an if loop that will only print a[i] if a[i] is smaller than 5...\n",
    "\n",
    "for i in range( 10 ):\n",
    "      if a[ i ] < 5:\n",
    "            print( a[ i ] )\n"
   ]
  },
  {
   "cell_type": "markdown",
   "metadata": {},
   "source": [
    "### You may also want to have more than one conditions. Then use:\n",
    "<img src=\"if_elif.png\" width=800 height=600 />"
   ]
  },
  {
   "cell_type": "markdown",
   "metadata": {},
   "source": [
    "### Go back to previous loop and add a condition that prints “NO” if a[i] >= 5."
   ]
  },
  {
   "cell_type": "code",
   "execution_count": 39,
   "metadata": {},
   "outputs": [
    {
     "name": "stdout",
     "output_type": "stream",
     "text": [
      "0\n",
      "1\n",
      "2\n",
      "3\n",
      "4\n",
      "NO! \n",
      "NO! \n",
      "NO! \n",
      "NO! \n",
      "NO! \n"
     ]
    }
   ],
   "source": [
    "for i in range( 10 ):\n",
    "    if a[ i ] < 5:\n",
    "        print( a[ i ] )\n",
    "    else:\n",
    "        print( 'NO! ')\n"
   ]
  },
  {
   "cell_type": "markdown",
   "metadata": {},
   "source": [
    "### now make the loop print a[ i ] if it is < 3 ; a[i] * 2 if a[i] is >8 and 'NaN' for all other cases:"
   ]
  },
  {
   "cell_type": "code",
   "execution_count": 40,
   "metadata": {},
   "outputs": [
    {
     "name": "stdout",
     "output_type": "stream",
     "text": [
      "0\n",
      "1\n",
      "2\n",
      "NaM\n",
      "NaM\n",
      "NaM\n",
      "NaM\n",
      "NaM\n",
      "NaM\n",
      "18\n"
     ]
    }
   ],
   "source": [
    "for i in range( 10 ):\n",
    "    if a[ i ] < 3:\n",
    "        print( a[ i ] )\n",
    "    elif a[ i ] > 8 :\n",
    "        print( a[ i ] * 2 )\n",
    "    else:\n",
    "        print( 'NaM' )"
   ]
  },
  {
   "cell_type": "markdown",
   "metadata": {},
   "source": [
    "### You have a shelter with different animals. Write a code that asks the user for the kind of pet it wants. The code then scans a list with the following words that are the pets in your inventory: 'dog', 'cat', 'parrot', 'mouse', 'spider', 'bird'. If the pet is there let the user know they can get a pet, if the word is not there, let them know no pet is there."
   ]
  },
  {
   "cell_type": "code",
   "execution_count": 41,
   "metadata": {},
   "outputs": [],
   "source": [
    "#make list with your inventory\n",
    "animals=['dog', 'cat', 'parrot', 'mouse', 'spider', 'bird']"
   ]
  },
  {
   "cell_type": "code",
   "execution_count": 43,
   "metadata": {},
   "outputs": [
    {
     "name": "stdout",
     "output_type": "stream",
     "text": [
      "what kind of pet do you want? human\n",
      "a human is not available\n"
     ]
    }
   ],
   "source": [
    "#ask input from user\n",
    "animal_in= input('what kind of pet do you want? ')\n",
    "if animal_in in animals:\n",
    "    print('a', animal_in, 'is available')\n",
    "else:\n",
    "    print('a', animal_in, 'is not available')"
   ]
  },
  {
   "cell_type": "code",
   "execution_count": null,
   "metadata": {},
   "outputs": [],
   "source": [
    "#try with for/if"
   ]
  },
  {
   "cell_type": "code",
   "execution_count": null,
   "metadata": {},
   "outputs": [],
   "source": []
  },
  {
   "cell_type": "code",
   "execution_count": null,
   "metadata": {},
   "outputs": [],
   "source": [
    "#try with if alone"
   ]
  },
  {
   "cell_type": "markdown",
   "metadata": {},
   "source": [
    "# ----------------------------------------------"
   ]
  },
  {
   "cell_type": "markdown",
   "metadata": {},
   "source": [
    "# WHILE"
   ]
  },
  {
   "cell_type": "markdown",
   "metadata": {},
   "source": [
    "## Does something ‘while’ a conditions is true. If not, it stops:\n",
    "while <condition 1>:  <br>\n",
    "-----do something\n"
   ]
  },
  {
   "cell_type": "markdown",
   "metadata": {},
   "source": [
    "#### For example, start with x = 1 and keep on adding 1 until x<5:\n"
   ]
  },
  {
   "cell_type": "code",
   "execution_count": 44,
   "metadata": {},
   "outputs": [
    {
     "name": "stdout",
     "output_type": "stream",
     "text": [
      "1\n",
      "2\n",
      "3\n",
      "4\n"
     ]
    }
   ],
   "source": [
    "x  = 1\n",
    "\n",
    "while x < 5:\n",
    "    print( x )\n",
    "    x += 1 # or x = x +1\n"
   ]
  },
  {
   "cell_type": "markdown",
   "metadata": {},
   "source": [
    "#### Create array x going from 0 to 10 in steps of 0.1. Create array y=sin(x). Make a while loop that scans parameter i (initiate it to 0) and prints x[i],y[i] as long as y[i]>=0. \n"
   ]
  },
  {
   "cell_type": "code",
   "execution_count": 45,
   "metadata": {},
   "outputs": [],
   "source": [
    "x = np.arange( 0, 10 , 0.1 )\n",
    "y = np.sin( x )"
   ]
  },
  {
   "cell_type": "code",
   "execution_count": 46,
   "metadata": {},
   "outputs": [
    {
     "name": "stdout",
     "output_type": "stream",
     "text": [
      "0.0 0.0\n",
      "0.1 0.09983341664682815\n",
      "0.2 0.19866933079506122\n",
      "0.30000000000000004 0.2955202066613396\n",
      "0.4 0.3894183423086505\n",
      "0.5 0.479425538604203\n",
      "0.6000000000000001 0.5646424733950355\n",
      "0.7000000000000001 0.6442176872376911\n",
      "0.8 0.7173560908995228\n",
      "0.9 0.7833269096274834\n",
      "1.0 0.8414709848078965\n",
      "1.1 0.8912073600614354\n",
      "1.2000000000000002 0.9320390859672264\n",
      "1.3 0.963558185417193\n",
      "1.4000000000000001 0.9854497299884603\n",
      "1.5 0.9974949866040544\n",
      "1.6 0.9995736030415051\n",
      "1.7000000000000002 0.9916648104524686\n",
      "1.8 0.9738476308781951\n",
      "1.9000000000000001 0.9463000876874145\n",
      "2.0 0.9092974268256817\n",
      "2.1 0.8632093666488737\n",
      "2.2 0.8084964038195901\n",
      "2.3000000000000003 0.74570521217672\n",
      "2.4000000000000004 0.6754631805511506\n",
      "2.5 0.5984721441039564\n",
      "2.6 0.5155013718214642\n",
      "2.7 0.4273798802338298\n",
      "2.8000000000000003 0.33498815015590466\n",
      "2.9000000000000004 0.23924932921398198\n",
      "3.0 0.1411200080598672\n",
      "3.1 0.04158066243329049\n"
     ]
    }
   ],
   "source": [
    "i = 0 \n",
    "\n",
    "while y[ i ] >= 0 :\n",
    "    print( x[ i ], y[ i ] )\n",
    "    i+=1 "
   ]
  },
  {
   "cell_type": "markdown",
   "metadata": {},
   "source": [
    "#### While loops accept else to do something once the condition is no longer met:"
   ]
  },
  {
   "cell_type": "code",
   "execution_count": 47,
   "metadata": {},
   "outputs": [
    {
     "name": "stdout",
     "output_type": "stream",
     "text": [
      "0\n",
      "1\n",
      "2\n",
      "3\n",
      "4\n",
      "x >= 5\n"
     ]
    }
   ],
   "source": [
    "x  = 0\n",
    "\n",
    "while x < 5:\n",
    "    print( x )\n",
    "    x = x + 1\n",
    "else:\n",
    "    print( 'x >= 5' )\n"
   ]
  },
  {
   "cell_type": "code",
   "execution_count": null,
   "metadata": {},
   "outputs": [],
   "source": []
  },
  {
   "cell_type": "markdown",
   "metadata": {},
   "source": [
    "## Breaking loops"
   ]
  },
  {
   "cell_type": "markdown",
   "metadata": {},
   "source": [
    "#### In some cases you may want to break through a loop if some condition is met. Use the **break**."
   ]
  },
  {
   "cell_type": "code",
   "execution_count": 48,
   "metadata": {},
   "outputs": [],
   "source": [
    "#### For example, make a for loop scanning through list x, which should be positive. Break if by accident x contains negative element:\n",
    "x =  [0 ,1, 2,4, 6,8, -12, 14, 16] "
   ]
  },
  {
   "cell_type": "code",
   "execution_count": 49,
   "metadata": {},
   "outputs": [
    {
     "name": "stdout",
     "output_type": "stream",
     "text": [
      "0\n",
      "1\n",
      "2\n",
      "4\n",
      "6\n",
      "8\n",
      "-12\n"
     ]
    }
   ],
   "source": [
    "for i in range( len( x ) ):\n",
    "    print( x[ i ] ) \n",
    "    if x[ i ] < 0 :\n",
    "        break"
   ]
  },
  {
   "cell_type": "markdown",
   "metadata": {},
   "source": [
    "### There are cases where you might want to raise exceptions (for example, your simulation gives a negative flux which is unphysical, or the file you try to open is not there) that break loops and give warning signs. \n"
   ]
  },
  {
   "cell_type": "markdown",
   "metadata": {},
   "source": [
    "## 1) I/O Errors:"
   ]
  },
  {
   "cell_type": "code",
   "execution_count": 50,
   "metadata": {},
   "outputs": [
    {
     "name": "stdout",
     "output_type": "stream",
     "text": [
      "cannot open tt.dat\n",
      "cannot open gl570d.dat\n"
     ]
    }
   ],
   "source": [
    "file_list = ('tt.dat', 'gl570d.dat') \n",
    "\n",
    "for i in range(2):\n",
    "    try:\n",
    "        f = open(file_list[i], 'r')\n",
    "    except IOError:\n",
    "        print ('cannot open', file_list[i])\n"
   ]
  },
  {
   "cell_type": "markdown",
   "metadata": {},
   "source": [
    "## 2) Making your own exceptions:"
   ]
  },
  {
   "cell_type": "code",
   "execution_count": 51,
   "metadata": {},
   "outputs": [],
   "source": [
    "class NegativeFlux(Exception):\n",
    "    \"\"\"You got a physically impossible flux (F<0)\"\"\"\n",
    "    \n",
    "    pass\n",
    "\n"
   ]
  },
  {
   "cell_type": "code",
   "execution_count": 52,
   "metadata": {},
   "outputs": [],
   "source": [
    "#then raise an exception if F<0:\n",
    "Fin = 5\n",
    "\n",
    "if Fin<0:\n",
    "    raise NegativeFlux( \"F < 0 !\" )"
   ]
  },
  {
   "cell_type": "code",
   "execution_count": 53,
   "metadata": {},
   "outputs": [
    {
     "ename": "NegativeFlux",
     "evalue": "F < 0 !",
     "output_type": "error",
     "traceback": [
      "\u001b[1;31m---------------------------------------------------------------------------\u001b[0m",
      "\u001b[1;31mNegativeFlux\u001b[0m                              Traceback (most recent call last)",
      "\u001b[1;32m<ipython-input-53-cbe087d01ea4>\u001b[0m in \u001b[0;36m<module>\u001b[1;34m\u001b[0m\n\u001b[0;32m      3\u001b[0m \u001b[1;33m\u001b[0m\u001b[0m\n\u001b[0;32m      4\u001b[0m \u001b[1;32mif\u001b[0m \u001b[0mFin\u001b[0m\u001b[1;33m<\u001b[0m\u001b[1;36m0\u001b[0m\u001b[1;33m:\u001b[0m\u001b[1;33m\u001b[0m\u001b[1;33m\u001b[0m\u001b[0m\n\u001b[1;32m----> 5\u001b[1;33m     \u001b[1;32mraise\u001b[0m \u001b[0mNegativeFlux\u001b[0m\u001b[1;33m(\u001b[0m \u001b[1;34m\"F < 0 !\"\u001b[0m \u001b[1;33m)\u001b[0m\u001b[1;33m\u001b[0m\u001b[1;33m\u001b[0m\u001b[0m\n\u001b[0m",
      "\u001b[1;31mNegativeFlux\u001b[0m: F < 0 !"
     ]
    }
   ],
   "source": [
    "Fin = -25.\n",
    "\n",
    "\n",
    "if Fin<0:\n",
    "    raise NegativeFlux( \"F < 0 !\" )"
   ]
  },
  {
   "cell_type": "code",
   "execution_count": null,
   "metadata": {},
   "outputs": [],
   "source": []
  },
  {
   "cell_type": "markdown",
   "metadata": {},
   "source": [
    "## Continuing loops"
   ]
  },
  {
   "cell_type": "markdown",
   "metadata": {},
   "source": [
    "#### continue : continues with next step. For example:\n"
   ]
  },
  {
   "cell_type": "code",
   "execution_count": 54,
   "metadata": {},
   "outputs": [
    {
     "name": "stdout",
     "output_type": "stream",
     "text": [
      "Current Letter : P\n",
      "Current Letter : y\n",
      "Current Letter : t\n",
      "Current Letter : o\n",
      "Current Letter : n\n"
     ]
    }
   ],
   "source": [
    "for ch in 'Python': \n",
    "    if ch == 'h': \n",
    "        continue   #go to the next iteration \n",
    "    print ('Current Letter :', ch)\n"
   ]
  },
  {
   "cell_type": "code",
   "execution_count": 55,
   "metadata": {},
   "outputs": [
    {
     "name": "stdout",
     "output_type": "stream",
     "text": [
      "20.0\n",
      "40.0\n",
      "100.0\n",
      "Oops! negative flux here: 3\n",
      "30.0\n",
      "Oops! negative flux here: 5\n",
      "50.0\n"
     ]
    }
   ],
   "source": [
    "F = [ 2, 4, 10, -3, 3, -4, 5 ]\n",
    "\n",
    "for i in range( 7 ):\n",
    "    \n",
    "    Fin = F[ i ] * 10.\n",
    "    \n",
    "    if Fin < 0:\n",
    "        print('Oops! negative flux here:', i )\n",
    "        continue\n",
    "        \n",
    "    print( Fin )\n"
   ]
  },
  {
   "cell_type": "code",
   "execution_count": null,
   "metadata": {},
   "outputs": [],
   "source": []
  },
  {
   "cell_type": "markdown",
   "metadata": {},
   "source": [
    "#### Make a loop that searches a list (or tuple) of strings and returns the longest word and the shortest word that the list contains."
   ]
  },
  {
   "cell_type": "code",
   "execution_count": 56,
   "metadata": {},
   "outputs": [],
   "source": [
    "word_list = [ 'hello', 'world', 'computer', 'test', 'homework', 'programming', 'Python' ]"
   ]
  },
  {
   "cell_type": "code",
   "execution_count": 61,
   "metadata": {},
   "outputs": [
    {
     "name": "stdout",
     "output_type": "stream",
     "text": [
      "longest: programming , shortest: test\n"
     ]
    },
    {
     "data": {
      "text/plain": [
       "'Python'"
      ]
     },
     "execution_count": 61,
     "metadata": {},
     "output_type": "execute_result"
    }
   ],
   "source": [
    "#how would you go about it?\n",
    "lengths=[]\n",
    "for i in word_list:\n",
    "    lengths.append(len(i))\n",
    "long = lengths.index(max(lengths))\n",
    "short = lengths.index(min(lengths))\n",
    "print('longest:', word_list[long] , ', shortest:', word_list[short])"
   ]
  },
  {
   "cell_type": "code",
   "execution_count": null,
   "metadata": {},
   "outputs": [],
   "source": []
  },
  {
   "cell_type": "code",
   "execution_count": null,
   "metadata": {},
   "outputs": [],
   "source": [
    "# start assuming the first word is the longest:\n",
    "\n",
    "longest_word = word_list[ 0 ] \n",
    "\n",
    "for i in range( 1 , len( word_list ) ):\n"
   ]
  },
  {
   "cell_type": "code",
   "execution_count": null,
   "metadata": {},
   "outputs": [],
   "source": []
  },
  {
   "cell_type": "markdown",
   "metadata": {},
   "source": [
    "### Create a numpy array z that has the elements: 95, 402, 984, 651, 69, 408, 319, 601, 485, 980, 507, 725, 547, 544, 610, 83, 165, 141, 500, 263, 17, 865, 575, 219, 390, 984, 592, 236, 105, 942, 941, 86, 42, 47, 1, 900, 34, 23, 35, 820, 66, 597, 978, 328, 615, 953, 345, 409, 162, 758, 219, 918, 237, 412, 506, 826, 248, 86, 950, 626, 949, 687, 217, 815, 67, 104, 58, 512, 24, 892, 894, 767, 553, 81, 2379, 843, 831, 445, 742, 717, 958, 609, 842, 451, 688, 753, 854, 685, 93, 1857, 440, 380, 126, 721, 328, 753, 470, 743, 52. <br> Create a for loop that scans through z and prints a ‘yes’ and the element number if z[i] is greater than 200. <br> <br> Change the loop to print a ‘yes’ and the value of z if z[i] is greater than 200 and less than 800. Change the loop to print ‘yes’ and the value of z if z[i] is greater than 200 and less  than 800, but **not** when 220<z[i]<300."
   ]
  },
  {
   "cell_type": "code",
   "execution_count": 67,
   "metadata": {},
   "outputs": [
    {
     "name": "stdout",
     "output_type": "stream",
     "text": [
      "yes 1 402\n",
      "yes 3 651\n",
      "yes 5 408\n",
      "yes 7 601\n",
      "yes 8 485\n",
      "yes 10 507\n",
      "yes 11 725\n",
      "yes 12 547\n",
      "yes 13 544\n",
      "yes 14 610\n",
      "yes 18 500\n",
      "yes 22 575\n",
      "yes 23 219\n",
      "yes 24 390\n",
      "yes 26 592\n",
      "yes 41 597\n",
      "yes 44 615\n",
      "yes 46 345\n",
      "yes 47 409\n",
      "yes 49 758\n",
      "yes 50 219\n",
      "yes 53 412\n",
      "yes 54 506\n",
      "yes 59 626\n",
      "yes 61 687\n",
      "yes 62 217\n",
      "yes 67 512\n",
      "yes 71 767\n",
      "yes 72 553\n",
      "yes 77 445\n",
      "yes 78 742\n",
      "yes 79 717\n",
      "yes 81 609\n",
      "yes 83 451\n",
      "yes 84 688\n",
      "yes 85 753\n",
      "yes 87 685\n",
      "yes 90 440\n",
      "yes 91 380\n",
      "yes 93 721\n",
      "yes 95 753\n",
      "yes 96 470\n",
      "yes 97 743\n"
     ]
    }
   ],
   "source": [
    "z =  np.array( [ 95, 402, 984, 651, 69, 408, 319, 601, 485, 980, 507, 725, \n",
    "     547, 544, 610, 83, 165, 141, 500, 263, 17, 865, 575, 219, 390, 984, \n",
    "     592, 236, 105, 942, 941, 86, 42, 47, 1, 900, 34, 23, 35, 820, 66, 597, \n",
    "     978, 328, 615, 953, 345, 409, 162, 758, 219, 918, 237, 412, 506, 826, \n",
    "     248, 86, 950, 626, 949, 687, 217, 815, 67, 104, 58, 512, 24, 892, 894, \n",
    "     767, 553, 81, 2379, 843, 831, 445, 742, 717, 958, 609, 842, 451, 688, \n",
    "     753, 854, 685, 93, 857, 440, 380, 126, 721, 328, 753, 470, 743, 52 ] )\n",
    "for i in range(len(z)):\n",
    "    if 800>z[i]>200:\n",
    "        if 330> z[i]>220:\n",
    "            continue\n",
    "        print('yes',i,z[i])\n",
    "    \n",
    "    "
   ]
  },
  {
   "cell_type": "code",
   "execution_count": null,
   "metadata": {},
   "outputs": [],
   "source": []
  },
  {
   "cell_type": "code",
   "execution_count": null,
   "metadata": {},
   "outputs": [],
   "source": []
  },
  {
   "cell_type": "code",
   "execution_count": null,
   "metadata": {},
   "outputs": [],
   "source": [
    "# add condition: not if 220<z[i]<300\n",
    "\n"
   ]
  },
  {
   "cell_type": "markdown",
   "metadata": {},
   "source": [
    "### Create a for/if loop that scans through the elements of z and creates a list with the location i where z[i] is greater than 200. How else could you do this? Which way is faster? "
   ]
  },
  {
   "cell_type": "code",
   "execution_count": null,
   "metadata": {},
   "outputs": [],
   "source": [
    "#%%time\n",
    "\n"
   ]
  },
  {
   "cell_type": "code",
   "execution_count": null,
   "metadata": {},
   "outputs": [],
   "source": [
    "print( wanted_z )"
   ]
  },
  {
   "cell_type": "code",
   "execution_count": null,
   "metadata": {},
   "outputs": [],
   "source": [
    "#%%time\n",
    "\n",
    "wanted_z2 = np.where( z > 200)"
   ]
  },
  {
   "cell_type": "code",
   "execution_count": null,
   "metadata": {},
   "outputs": [],
   "source": [
    "## compare:\n",
    "#print( wanted_z  )\n",
    "print( wanted_z2 )"
   ]
  },
  {
   "cell_type": "code",
   "execution_count": null,
   "metadata": {},
   "outputs": [],
   "source": []
  },
  {
   "cell_type": "markdown",
   "metadata": {},
   "source": [
    "### Now make a loop that searches z element by element to find the minimum of the full array. How else can you do this? "
   ]
  },
  {
   "cell_type": "code",
   "execution_count": null,
   "metadata": {},
   "outputs": [],
   "source": [
    "#chicken and egg....start by assuming that first element is min and then compare with next; \n",
    "# keep the smallest from each comparison\n",
    "\n"
   ]
  },
  {
   "cell_type": "code",
   "execution_count": null,
   "metadata": {},
   "outputs": [],
   "source": [
    "#%%time\n",
    "\n",
    "\n",
    "        "
   ]
  },
  {
   "cell_type": "code",
   "execution_count": null,
   "metadata": {},
   "outputs": [],
   "source": [
    "#print ( min_1 )"
   ]
  },
  {
   "cell_type": "code",
   "execution_count": null,
   "metadata": {},
   "outputs": [],
   "source": [
    "#%%time\n"
   ]
  },
  {
   "cell_type": "markdown",
   "metadata": {},
   "source": [
    "### Do the same thing, but now for the maximum:"
   ]
  },
  {
   "cell_type": "code",
   "execution_count": null,
   "metadata": {},
   "outputs": [],
   "source": [
    "max_1 = z[ 0 ]"
   ]
  },
  {
   "cell_type": "code",
   "execution_count": null,
   "metadata": {},
   "outputs": [],
   "source": [
    "#%%time\n",
    "\n",
    "        "
   ]
  },
  {
   "cell_type": "code",
   "execution_count": null,
   "metadata": {},
   "outputs": [],
   "source": [
    "#%%time\n",
    "#np.max( z ) "
   ]
  },
  {
   "cell_type": "code",
   "execution_count": null,
   "metadata": {},
   "outputs": [],
   "source": [
    "print( max_1, np.max( z ) )"
   ]
  },
  {
   "cell_type": "markdown",
   "metadata": {},
   "source": [
    "### Read in the file first_data_plot.dat that we used in a previous demo. Skip the first line when reading in, it’s a comment line (use comments=‘#’ or skiprows=1). The first column is the wavelength of your observations, and the other two are two spectra. Make a loop that scans both full spectra and prints the wavelength, and both spectra if the first spectrum is larger than 0.5 and (at the same wavelength) the second one is larger than 0.3. Print a message warning you that the conditions are not met otherwise."
   ]
  },
  {
   "cell_type": "code",
   "execution_count": null,
   "metadata": {},
   "outputs": [],
   "source": [
    "# read the data in:\n",
    "data = np.genfromtxt( 'first_data_read_plot.dat', comments = '#' )"
   ]
  },
  {
   "cell_type": "code",
   "execution_count": null,
   "metadata": {},
   "outputs": [],
   "source": [
    "# assign to variables with names that make sense:\n",
    "wav   = data [ : , 0 ]\n",
    "flux1 = data [ : , 1 ]\n",
    "flux2 = data [ : , 2 ]"
   ]
  },
  {
   "cell_type": "code",
   "execution_count": null,
   "metadata": {},
   "outputs": [],
   "source": []
  },
  {
   "cell_type": "code",
   "execution_count": null,
   "metadata": {},
   "outputs": [],
   "source": [
    "\n"
   ]
  },
  {
   "cell_type": "code",
   "execution_count": null,
   "metadata": {},
   "outputs": [],
   "source": []
  },
  {
   "cell_type": "code",
   "execution_count": null,
   "metadata": {},
   "outputs": [],
   "source": []
  },
  {
   "cell_type": "code",
   "execution_count": null,
   "metadata": {},
   "outputs": [],
   "source": []
  },
  {
   "cell_type": "markdown",
   "metadata": {},
   "source": [
    "### Write a for loop that scans a list of input file names: ‘first_data_read_in.dat’, ‘second_data_read_in.dat’, ‘not_existing.dat’ that tries to open the file, and gives you an IOError if it fails. Add a comment that informs the user which file doesn’t exist in the list of file names."
   ]
  },
  {
   "cell_type": "code",
   "execution_count": null,
   "metadata": {},
   "outputs": [],
   "source": [
    "list_names = [ 'first_data_read_in.dat', 'second_data_read_in.dat', 'not_existing.dat'  ]"
   ]
  },
  {
   "cell_type": "code",
   "execution_count": null,
   "metadata": {},
   "outputs": [],
   "source": [
    "#for i in list_names:\n",
    "#    try:\n",
    "#        f = open( i , 'r')\n",
    "#    except IOError:\n",
    "#        print ('cannot open', i )"
   ]
  },
  {
   "cell_type": "code",
   "execution_count": null,
   "metadata": {},
   "outputs": [],
   "source": []
  },
  {
   "cell_type": "code",
   "execution_count": null,
   "metadata": {},
   "outputs": [],
   "source": []
  },
  {
   "cell_type": "markdown",
   "metadata": {},
   "source": [
    "### Create a function that gets as input a word. If the word you give is maximum of 5 characters it prints it. If it is longer, it exits with an error message. In the main code write a code that asks input from the user and calls the function to test if it is right (< 5 char) or not. Try googling to find how you can use the keyboard to get input (or, remember, Python commands are *very* intuitive)."
   ]
  },
  {
   "cell_type": "code",
   "execution_count": null,
   "metadata": {},
   "outputs": [],
   "source": [
    "# lets first make the function:\n",
    "\n",
    "def test_word_size( my_rand_word ):\n",
    "    \"\"\"Returns words that are less than 5 characters or error msg. \n",
    "    Input: user input word \n",
    "    Output: the word if it has < 5 char or an error massage \"\"\"\n"
   ]
  },
  {
   "cell_type": "code",
   "execution_count": null,
   "metadata": {},
   "outputs": [],
   "source": []
  },
  {
   "cell_type": "code",
   "execution_count": null,
   "metadata": {},
   "outputs": [],
   "source": []
  },
  {
   "cell_type": "markdown",
   "metadata": {},
   "source": [
    "### Practice dictionaries"
   ]
  },
  {
   "cell_type": "code",
   "execution_count": null,
   "metadata": {},
   "outputs": [],
   "source": [
    "#We have a dictionary of students (1,2 and 3). For every student we have a name, and their scores (0-10) \n",
    "#in hw assignments, quizzes and projects:\n",
    "\n",
    "student1 = {\n",
    "  \"name\": \"Jane\",\n",
    "  \"homework\": [9.0,7.0,5.0,10.],\n",
    "  \"quizzes\": [8.0,7.0,9.0],\n",
    "  \"projects\": [7.5,9.5]\n",
    "}\n",
    "student2 = {\n",
    "  \"name\": \"Joe\",\n",
    "  \"homework\": [10.0, 3.9, 4.0, 10.0],\n",
    "  \"quizzes\": [5.1, 4.2, 5.0],\n",
    "  \"projects\": [8.9, 2.7]\n",
    "}\n",
    "student3 = {\n",
    "  \"name\": \"Jimmy\",\n",
    "  \"homework\": [3.0, 8.0, 9.0, 10.0],\n",
    "  \"quizzes\": [3.0, 7.5, 7.],\n",
    "  \"projects\": [8.0, 10.0]\n",
    "}\n"
   ]
  },
  {
   "cell_type": "code",
   "execution_count": null,
   "metadata": {},
   "outputs": [],
   "source": [
    "plt.figure( figsize = ( 8, 8 ) )\n",
    "\n",
    "plt.plot( student1['homework'] , marker='d', linestyle='none', \n",
    "         color = 'red'         , label = student1['name']  )\n",
    "plt.plot( student2['homework'] , marker='s', linestyle='none',\n",
    "         color = 'magenta'     , label = student2['name'] )\n",
    "plt.plot( student3['homework'] , marker='s', linestyle='none', \n",
    "         color = 'forestgreen' , label = student3['name'] ) \n",
    "plt.legend(fontsize=15)\n",
    "\n",
    "plt.ylabel( 'class number', size = 15 )\n",
    "plt.ylabel( 'homework grade', size = 15 )\n",
    "\n",
    "plt.xticks( size = 15)\n",
    "plt.yticks( size = 15)\n"
   ]
  },
  {
   "cell_type": "code",
   "execution_count": null,
   "metadata": {},
   "outputs": [],
   "source": [
    "#make a function total_grade that gets the homework, quiz and projects information from the dictionary, \n",
    "#calculates their mean and then a final score using:\n",
    "#\n",
    "# sum = 0.4 * mean(homework) + 0.4 * mean(quiz) + 0.2 * mean(projects)\n",
    "\n",
    "#the function should then return the student's average grade\n",
    "# call the function and print the student's name and average grade for all 3 students\n",
    "\n",
    "\n",
    "def total_grade( student ):\n",
    "    \"\"\"Calculates the average grade of a student based on their homework, \n",
    "    quiz and project grades.\n",
    "    Input: dictionary with student info (should contain 4 keys for: name, homework, quizzes, \n",
    "           and projects)\n",
    "    Output: prints mean grade and name for the student \"\"\"\n",
    "    \n",
    "    mean_homework = np.mean( np.array( student['homework'] ) )\n",
    "    \n",
    "    mean_quiz     = np.mean( np.array( student['quizzes'] ) )\n",
    "    \n",
    "    mean_projects = np.mean( np.array( student['projects'] ) )\n",
    "    \n",
    "    \n",
    "    final_grade = mean_homework * 0.4 + mean_quiz * 0.4 + mean_projects * 0.2\n",
    "    \n",
    "#    print( student['name'], 'gets a:', final_grade )\n",
    "    return final_grade"
   ]
  },
  {
   "cell_type": "code",
   "execution_count": null,
   "metadata": {},
   "outputs": [],
   "source": [
    "print( student1['name'], 'gets a:', total_grade( student1 ) )"
   ]
  },
  {
   "cell_type": "code",
   "execution_count": null,
   "metadata": {},
   "outputs": [],
   "source": [
    "print( student2['name'], 'gets a:', total_grade( student2 ) )"
   ]
  },
  {
   "cell_type": "code",
   "execution_count": null,
   "metadata": {},
   "outputs": [],
   "source": [
    "print( student3['name'], 'gets a:', total_grade( student3 ) )"
   ]
  }
 ],
 "metadata": {
  "kernelspec": {
   "display_name": "Python 3",
   "language": "python",
   "name": "python3"
  },
  "language_info": {
   "codemirror_mode": {
    "name": "ipython",
    "version": 3
   },
   "file_extension": ".py",
   "mimetype": "text/x-python",
   "name": "python",
   "nbconvert_exporter": "python",
   "pygments_lexer": "ipython3",
   "version": "3.9.4"
  }
 },
 "nbformat": 4,
 "nbformat_minor": 2
}
