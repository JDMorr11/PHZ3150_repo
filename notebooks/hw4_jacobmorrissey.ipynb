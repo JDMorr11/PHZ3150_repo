{
 "cells": [
  {
   "cell_type": "code",
   "execution_count": null,
   "id": "ce9c89dd",
   "metadata": {},
   "outputs": [],
   "source": [
    "# Jacob Morrissey HW4 8/12/21"
   ]
  },
  {
   "cell_type": "markdown",
   "id": "467f445d",
   "metadata": {},
   "source": [
    "# Problem 2"
   ]
  },
  {
   "cell_type": "markdown",
   "id": "ac28f9e4",
   "metadata": {},
   "source": [
    "### Write the expression of Newton's second law, then calculate the force, F [kg m / s^2], from mass, m [kg], and accelaration, a [m / s^2].\n",
    "### Then, define a function to calculate the accelaration of a 150 kg body for a given force."
   ]
  },
  {
   "cell_type": "code",
   "execution_count": 18,
   "id": "16c0fa1a",
   "metadata": {},
   "outputs": [
    {
     "name": "stdout",
     "output_type": "stream",
     "text": [
      "Problem 2:\n",
      "F = m * a\n",
      "\n",
      "F =  50 N\n",
      "F =  150 N\n",
      "F =  100 N\n",
      "F =  120 N\n",
      "\n",
      "a =  15000 m / s^2\n",
      "a =  3300 m / s^2\n",
      "a =  67500 m / s^2\n"
     ]
    }
   ],
   "source": [
    "print('Problem 2:')\n",
    "print('F = m * a')\n",
    "print()\n",
    "m = [10, 15, 20, 40]\n",
    "a= [5, 10, 5, 3]\n",
    "# listing mass and accelaration values from hw file\n",
    "for i in range(len(m)):\n",
    "    F = m[i] * a[i]\n",
    "    print('F = ', F, 'N')\n",
    "# pairs entries from m and a and calculates F\n",
    "print()\n",
    "def force_to_acceleration(F):\n",
    "    \"\"\"Caclulates acceleration a [m / s^2] of a 150 kg body from the applied force F [kg m / s^2].\"\"\"\n",
    "    a = F * 150\n",
    "    return a\n",
    "F = [100, 22, 450]\n",
    "for i in range(len(F)):\n",
    "    print('a = ', force_to_acceleration(F[i]), 'm / s^2')\n",
    "# using the same for loop idea from the previous calculation "
   ]
  },
  {
   "cell_type": "markdown",
   "id": "78b1c987",
   "metadata": {},
   "source": [
    "# Problem 3"
   ]
  },
  {
   "cell_type": "markdown",
   "id": "abdba5b0",
   "metadata": {},
   "source": [
    "### In a separate file, define a function to calculate acceleration from the velocity given at two separate times."
   ]
  },
  {
   "cell_type": "code",
   "execution_count": 5,
   "id": "7d1d425a",
   "metadata": {},
   "outputs": [],
   "source": [
    "from acceleration_hw4 import acceleration"
   ]
  },
  {
   "cell_type": "code",
   "execution_count": 11,
   "id": "b8be0a49",
   "metadata": {},
   "outputs": [
    {
     "name": "stdout",
     "output_type": "stream",
     "text": [
      "Problem 3:\n",
      "a = 1.5 m / s^2\n",
      "a = 3.75 m / s^2\n",
      "a = 2.0 m / s^2\n",
      "a = -5.5 m / s^2\n",
      "a = 0.2 m / s^2\n"
     ]
    }
   ],
   "source": [
    "print('Problem 3:')\n",
    "t1 = [0, 10, 14, 28, 0]\n",
    "t2 = [2, 14, 16, 32, 10]\n",
    "u1 = [10, 15, 32, 42, 20]\n",
    "u2 = [13, 30, 36, 20, 22]\n",
    "# listing values from hw file\n",
    "for i in range(len(t1)):\n",
    "    print('a =', acceleration(u1[i], u2[i], t1[i], t2[i]), 'm / s^2' )"
   ]
  },
  {
   "cell_type": "code",
   "execution_count": 12,
   "id": "a7eb4fa4",
   "metadata": {},
   "outputs": [],
   "source": [
    "# i checked the first and fourth answers using a caclulator "
   ]
  }
 ],
 "metadata": {
  "kernelspec": {
   "display_name": "Python 3",
   "language": "python",
   "name": "python3"
  },
  "language_info": {
   "codemirror_mode": {
    "name": "ipython",
    "version": 3
   },
   "file_extension": ".py",
   "mimetype": "text/x-python",
   "name": "python",
   "nbconvert_exporter": "python",
   "pygments_lexer": "ipython3",
   "version": "3.9.4"
  }
 },
 "nbformat": 4,
 "nbformat_minor": 5
}
