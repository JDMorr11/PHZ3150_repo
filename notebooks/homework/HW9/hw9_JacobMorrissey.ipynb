{
 "cells": [
  {
   "cell_type": "code",
   "execution_count": 1,
   "id": "15cf02fd",
   "metadata": {},
   "outputs": [],
   "source": [
    "# Jacob Morrissey HW9 8/27/21"
   ]
  },
  {
   "cell_type": "markdown",
   "id": "7c4394b2",
   "metadata": {},
   "source": [
    "## Problem 1"
   ]
  },
  {
   "cell_type": "code",
   "execution_count": 2,
   "id": "9656cbad",
   "metadata": {},
   "outputs": [
    {
     "name": "stdout",
     "output_type": "stream",
     "text": [
      "Problem 1:\n"
     ]
    }
   ],
   "source": [
    "print('Problem 1:')\n",
    "import numpy as np\n",
    "import matplotlib.pyplot as plt"
   ]
  },
  {
   "cell_type": "markdown",
   "id": "5272b6a8",
   "metadata": {},
   "source": [
    "## Problem 2"
   ]
  },
  {
   "cell_type": "code",
   "execution_count": 3,
   "id": "467e8485",
   "metadata": {},
   "outputs": [],
   "source": [
    "# part a\n",
    "sports = [1500, 40000, 10000]\n",
    "athletes_times = [(1, 1.204, 6.6, 0.32), (2, 1.212, 6.5, 0.36), (3, 1.14, 6.6, 0.38), (4, 1.12, 6.2, 0.38), (5, 1.24, 5.6, 0.4), (6, 1.201, 6.0, 0.3)]\n",
    "sports = np.asarray(sports)\n",
    "athletes_times = np.asarray(athletes_times)"
   ]
  },
  {
   "cell_type": "code",
   "execution_count": 4,
   "id": "57588dbe",
   "metadata": {},
   "outputs": [],
   "source": [
    "# part b\n",
    "def triatholon_time(sports, athletes_times):\n",
    "    \"\"\"Input: array of race distances (swimming, biking, running) and array of participants' ID's and average speeds (ID, swimming, biking, running) \\n Output: IDs of the participants who will finish first and last and their respective times.\"\"\"\n",
    "    times = []\n",
    "    for i in athletes_times:\n",
    "        tot_time = 0\n",
    "        for j in range( len(i) - 1):\n",
    "            tot_time += ( sports[j] / i[j + 1] ) / 3600\n",
    "        times.append(tot_time)\n",
    "    first =[times.index(min(times)) + 1, min(times)]\n",
    "    last =[times.index(max(times)) + 1, max(times)]\n",
    "    print('Participant', first[0], 'will finish first after ', \"%.2f\" % first[1], ' hours.')\n",
    "    print('Participant', last[0], 'will finish last after ', \"%.2f\" % last[1], ' hours.')"
   ]
  },
  {
   "cell_type": "code",
   "execution_count": 5,
   "id": "5ebd42d6",
   "metadata": {},
   "outputs": [],
   "source": [
    "# part c\n",
    "sports_dict = {'swimming' : 1500, 'biking' : 40000, 'running' : 10000}\n",
    "names = ['Mary', 'John', 'Peter', 'Mafalda', 'Paul', 'Lionel']\n",
    "speeds = [(1.204, 6.6, 0.32), (1.212, 6.5, 0.36), (1.14, 6.6, 0.38), (1.12, 6.2, 0.38), (1.24, 5.6, 0.4), (1.201, 6.0, 0.3)]\n",
    "athletes_times_dict = {}\n",
    "for i in range(len(names)):\n",
    "    athletes_times_dict[ names[i] ] = speeds[i]"
   ]
  },
  {
   "cell_type": "code",
   "execution_count": 6,
   "id": "d80ac64e",
   "metadata": {},
   "outputs": [],
   "source": [
    " # part d\n",
    "def triathalon_time_dict(sports_dict, athletes_times_dict):\n",
    "    \"\"\"Input: dictionary of race distances (sport : distance) and dictionary of participants' names and average speeds (name : swimming, biking, running) \\n Output: names of the participants who will finish first and last and their respective times.\"\"\"\n",
    "    times = []\n",
    "    results = {}\n",
    "    sports_keys = []\n",
    "    for s in sports_dict:\n",
    "        sports_keys.append(s)\n",
    "    names = []\n",
    "    for n in athletes_times_dict:\n",
    "        names.append(n)\n",
    "    for i in athletes_times_dict:\n",
    "        tot_time = 0\n",
    "        for j in range( len(athletes_times_dict[i]) ):\n",
    "            tot_time += ( sports_dict[ sports_keys[j] ] / athletes_times_dict[i][j] ) / 3600\n",
    "        times.append(tot_time)\n",
    "    first = [ names[ times.index( min(times) ) ], min(times) ]\n",
    "    last = [ names[ times.index( max(times) ) ], max(times) ]\n",
    "    print(first[0], 'will finish first after', \"%.2f\" % first[1], 'hours.')\n",
    "    print(last[0], 'will finish last after', \"%.2f\" % last[1], 'hours.')"
   ]
  },
  {
   "cell_type": "code",
   "execution_count": 7,
   "id": "25265069",
   "metadata": {},
   "outputs": [
    {
     "name": "stdout",
     "output_type": "stream",
     "text": [
      "Problem 2:\n",
      "arrays\n",
      "Participant 5 will finish first after  9.26  hours.\n",
      "Participant 6 will finish last after  11.46  hours.\n",
      "\n",
      "dictionaries\n",
      "Paul will finish first after 9.26 hours.\n",
      "Lionel will finish last after 11.46 hours.\n"
     ]
    }
   ],
   "source": [
    "# part e\n",
    "print('Problem 2:')\n",
    "print('arrays')\n",
    "triatholon_time(sports, athletes_times)\n",
    "print()\n",
    "print('dictionaries')\n",
    "triathalon_time_dict(sports_dict, athletes_times_dict)"
   ]
  },
  {
   "cell_type": "markdown",
   "id": "39e6e38b",
   "metadata": {},
   "source": [
    "## Problem 3"
   ]
  },
  {
   "cell_type": "markdown",
   "id": "bdc06bb9",
   "metadata": {},
   "source": [
    "#### CHM 3120L-0011 problem: Determine the percent of KHP by mass in a sample by titrating with NaOH\n",
    "#### soution: 31.81%"
   ]
  },
  {
   "cell_type": "code",
   "execution_count": 8,
   "id": "3bb3d63e",
   "metadata": {
    "scrolled": true
   },
   "outputs": [
    {
     "name": "stdout",
     "output_type": "stream",
     "text": [
      "Problem 3\n"
     ]
    },
    {
     "data": {
      "image/png": "[encoded data removed]",
      "text/plain": [
       "<Figure size 720x720 with 1 Axes>"
      ]
     },
     "metadata": {},
     "output_type": "display_data"
    }
   ],
   "source": [
    "print('Problem 3')\n",
    "initial_mark = 23.95\n",
    "NaOH = 0.1035\n",
    "KHP_MW = 204.22\n",
    "dilution = 5\n",
    "sample_mass = 3.3423\n",
    "marks = np.asarray((23.95, 24.82, 25.85, 26.95, 27.99, 28.86, 29.81, 30.91, 32.01, 32.22, 32.6, 32.89, 33.43, 33.52, 33.79, 33.9, 34.01, 34.1, 34.15, 34.2, 34.29, 34.51, 34.98, 36.01, 36.93, 37.95))\n",
    "pH = np.asarray((3.85, 4.1, 4.36, 4.58, 4.81, 4.98, 5.16, 5.38, 5.66, 5.72, 5.85, 5.93, 6.32, 6.42, 6.77, 7.1, 7.66, 8.86, 9.42, 9.68, 10.03, 10.29, 10.86, 11.25, 11.44, 11.58))\n",
    "v_added = marks - initial_mark\n",
    "plt.figure(figsize=(10,10))\n",
    "plt.plot(v_added, pH)\n",
    "plt.title('Titration curve of KHP solution', fontsize = 24)\n",
    "plt.xlabel('NaOH volume added (mL)', fontsize = 18)\n",
    "plt.ylabel('pH', fontsize = 18)\n",
    "plt.show()"
   ]
  },
  {
   "cell_type": "code",
   "execution_count": 9,
   "id": "effb5764",
   "metadata": {},
   "outputs": [],
   "source": [
    "def approx_derivative(y, x):\n",
    "    \"\"\"Given two arrays, y and x, approximates the derivative at each point as (y[i+1] - y[i]) / (x[i+1] - x[i]).\"\"\"\n",
    "    import numpy as np\n",
    "    first_der = np.ediff1d(y) / np.ediff1d(x)\n",
    "    return first_der"
   ]
  },
  {
   "cell_type": "code",
   "execution_count": 10,
   "id": "b39de1d3",
   "metadata": {},
   "outputs": [
    {
     "data": {
      "image/png": "[encoded data removed]",
      "text/plain": [
       "<Figure size 720x720 with 1 Axes>"
      ]
     },
     "metadata": {},
     "output_type": "display_data"
    }
   ],
   "source": [
    "plt.figure(figsize=(10,10))\n",
    "plt.plot(v_added[:25], approx_derivative(pH, v_added))\n",
    "plt.title('First derivative of titration curve', fontsize = 24)\n",
    "plt.xlabel('NaOH volume added (mL)', fontsize = 18)\n",
    "plt.show()"
   ]
  },
  {
   "cell_type": "code",
   "execution_count": 11,
   "id": "303e18c4",
   "metadata": {},
   "outputs": [
    {
     "name": "stdout",
     "output_type": "stream",
     "text": [
      "The unkown sample was 31.81% KHP by mass.\n"
     ]
    }
   ],
   "source": [
    "end_v = v_added[ np.where( approx_derivative(pH, v_added) == np.max(approx_derivative(pH, v_added)) )[0] ]\n",
    "moles = end_v * NaOH / 1000\n",
    "mass = moles * KHP_MW * dilution\n",
    "percent = 100 * mass / sample_mass\n",
    "print(\"The unkown sample was\" , str(\"%.2f\" % percent) + \"% KHP by mass.\")"
   ]
  },
  {
   "cell_type": "markdown",
   "id": "a550b970",
   "metadata": {},
   "source": [
    "## Problem 4"
   ]
  },
  {
   "cell_type": "code",
   "execution_count": 12,
   "id": "699d5e48",
   "metadata": {},
   "outputs": [],
   "source": [
    "class holiday_frenzy:\n",
    "    \"\"\"Represents a box with dimensions a, b, and c in inches, number of gifts with a volume of 25 cubic inches, and surface area of gift wrap available in square inches.\"\"\"\n",
    "    def __init__(self, a = 1, b = 1, c = 1, number_of_gifts = 1, wrap_paper_available = 1): \n",
    "        self.a = a\n",
    "        self.b = b\n",
    "        self.c = c\n",
    "        self.number_of_gifts = number_of_gifts\n",
    "        self.wrap_paper_available = wrap_paper_available\n",
    "    def surface_area(box):\n",
    "        s_a = 2 * ( (box.a * box.b) + (box.a * box.c) + (box.b * box.c) )\n",
    "        return s_a\n",
    "    def volume(box):\n",
    "        return (box.a * box.b * box.c)\n",
    "    def enough_paper(box):\n",
    "        return box.surface_area() <= box.wrap_paper_available\n",
    "    def fits(box):\n",
    "        return box.volume() >= ( 25 * box.number_of_gifts )\n",
    "    def print_gift(box):\n",
    "        if box.enough_paper():\n",
    "            paper = ''\n",
    "        else:\n",
    "            paper = 'do not '\n",
    "        if box.fits():\n",
    "            gifts = ''\n",
    "        else:\n",
    "            gifts = 'not'\n",
    "        if box.fits() + box.enough_paper() == 1:\n",
    "            conj = 'but '\n",
    "        else:\n",
    "            conj = 'and '\n",
    "        print('You ' + paper + 'have enough wrapping paper, ' + conj + 'you can' + gifts + ' fit all your gifts in the box.')\n",
    "        if box.fits() + box.enough_paper() == 0:\n",
    "            print('The holidays are ruined!')"
   ]
  },
  {
   "cell_type": "code",
   "execution_count": 13,
   "id": "89173cc9",
   "metadata": {},
   "outputs": [
    {
     "name": "stdout",
     "output_type": "stream",
     "text": [
      "Problem 4\n",
      "You have enough wrapping paper, and you can fit all your gifts in the box.\n",
      "You have enough wrapping paper, but you cannot fit all your gifts in the box.\n",
      "You do not have enough wrapping paper, but you can fit all your gifts in the box.\n"
     ]
    }
   ],
   "source": [
    "print('Problem 4')\n",
    "box1 = holiday_frenzy(10,10,10,15,800)\n",
    "box2 = holiday_frenzy(10,10,10,55,1000)\n",
    "box3 = holiday_frenzy(100,20,10,55,300)\n",
    "box1.print_gift()\n",
    "box2.print_gift()\n",
    "box3.print_gift()"
   ]
  }
 ],
 "metadata": {
  "kernelspec": {
   "display_name": "Python 3",
   "language": "python",
   "name": "python3"
  },
  "language_info": {
   "codemirror_mode": {
    "name": "ipython",
    "version": 3
   },
   "file_extension": ".py",
   "mimetype": "text/x-python",
   "name": "python",
   "nbconvert_exporter": "python",
   "pygments_lexer": "ipython3",
   "version": "3.9.4"
  }
 },
 "nbformat": 4,
 "nbformat_minor": 5
}
