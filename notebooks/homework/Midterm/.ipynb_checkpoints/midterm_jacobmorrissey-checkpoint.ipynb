{
 "cells": [
  {
   "cell_type": "code",
   "execution_count": null,
   "id": "98e99c8c",
   "metadata": {},
   "outputs": [],
   "source": [
    "# Jacob Morrissey Midterm Exam "
   ]
  },
  {
   "cell_type": "markdown",
   "id": "56ec54c7",
   "metadata": {},
   "source": [
    "# Problem 2"
   ]
  },
  {
   "cell_type": "code",
   "execution_count": 1,
   "id": "0fbd2d17",
   "metadata": {},
   "outputs": [],
   "source": [
    "import numpy as np"
   ]
  },
  {
   "cell_type": "code",
   "execution_count": 5,
   "id": "d89d5802",
   "metadata": {},
   "outputs": [
    {
     "name": "stdout",
     "output_type": "stream",
     "text": [
      "Problem 2:\n",
      "Please input a starting city and target city. (case sensitive)\n",
      "Starting City: Washington\n",
      "Target City: Charlotte\n",
      "Start: Washington\n",
      "End: Charlotte\n"
     ]
    }
   ],
   "source": [
    "print('Problem 2:')\n",
    "city_list = ['Atlanta', 'Baltimore', 'Boston', 'Charlotte', 'Dallas', 'Denver', 'Miami', 'Minneapolis', 'Orlando', 'Sacramento', 'Tampa', 'Washington']\n",
    "print('Please input a starting city and target city. (case sensitive)')\n",
    "start_city = str()\n",
    "target_city = str()\n",
    "while len(start_city) == 0:\n",
    "    start_city_in = str(input('Starting City: '))\n",
    "    if start_city_in in city_list:\n",
    "        start_city = start_city_in\n",
    "    else:\n",
    "        print('Please choose a starting city from the list.')\n",
    "while len(target_city) == 0:\n",
    "    target_city_in = str(input('Target City: '))\n",
    "    if target_city_in in city_list:\n",
    "        target_city = target_city_in\n",
    "    else:\n",
    "        print('Please choose a target city from the list.')\n",
    "print('Start:', start_city)\n",
    "print('End:', target_city)"
   ]
  },
  {
   "cell_type": "markdown",
   "id": "8c904345",
   "metadata": {},
   "source": [
    "# Problem 3"
   ]
  },
  {
   "cell_type": "code",
   "execution_count": 6,
   "id": "6eaba382",
   "metadata": {
    "scrolled": false
   },
   "outputs": [
    {
     "name": "stdout",
     "output_type": "stream",
     "text": [
      "Problem 3:\n",
      "Charlotte is a 390.0 mile drive from Washington\n",
      "Your trip from Washington to Charlotte will take 0 days 5 hours 12 seconds.\n"
     ]
    }
   ],
   "source": [
    "print('Problem 3:')\n",
    "travel_data = np.loadtxt(\"distances_midterm.dat\", skiprows=1)\n",
    "first_city = city_list.index(start_city)\n",
    "second_city = city_list.index(target_city)\n",
    "distance = travel_data[first_city, second_city]\n",
    "print(target_city, 'is a', distance, 'mile drive from', start_city)\n",
    "time = distance / 75\n",
    "days = time / 24\n",
    "hours = 24 * (days-int(days))\n",
    "seconds = 60 * (hours - int(hours))\n",
    "print('Your trip from', start_city, 'to', target_city, 'will take', int(days), 'days', int(hours), 'hours', round(seconds), 'seconds.')"
   ]
  },
  {
   "cell_type": "code",
   "execution_count": 7,
   "id": "24b0df60",
   "metadata": {
    "scrolled": true
   },
   "outputs": [
    {
     "name": "stdout",
     "output_type": "stream",
     "text": [
      "Charlotte is a 390.0 mile drive from Washington\n",
      "Your trip from Washington to Charlotte will take 0 days 5 hours 12 seconds.\n"
     ]
    }
   ],
   "source": [
    "cities = [start_city,target_city]\n",
    "from midterm_problem3_function import travel_distance_and_time\n",
    "travel_distance_and_time(cities)"
   ]
  },
  {
   "cell_type": "markdown",
   "id": "f29f3b6d",
   "metadata": {},
   "source": [
    "# Problem 4"
   ]
  },
  {
   "cell_type": "code",
   "execution_count": null,
   "id": "010ec73c",
   "metadata": {},
   "outputs": [],
   "source": [
    "print('Problem 4:')\n"
   ]
  }
 ],
 "metadata": {
  "kernelspec": {
   "display_name": "Python 3",
   "language": "python",
   "name": "python3"
  },
  "language_info": {
   "codemirror_mode": {
    "name": "ipython",
    "version": 3
   },
   "file_extension": ".py",
   "mimetype": "text/x-python",
   "name": "python",
   "nbconvert_exporter": "python",
   "pygments_lexer": "ipython3",
   "version": "3.9.4"
  }
 },
 "nbformat": 4,
 "nbformat_minor": 5
}
