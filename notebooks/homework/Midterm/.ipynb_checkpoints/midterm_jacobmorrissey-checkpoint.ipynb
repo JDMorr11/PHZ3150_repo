{
 "cells": [
  {
   "cell_type": "code",
   "execution_count": null,
   "id": "98e99c8c",
   "metadata": {},
   "outputs": [],
   "source": [
    "# Jacob Morrissey Midterm Exam 9/24/21"
   ]
  },
  {
   "cell_type": "markdown",
   "id": "29656a39",
   "metadata": {},
   "source": [
    "# Problem 1"
   ]
  },
  {
   "cell_type": "code",
   "execution_count": 15,
   "id": "be2e4530",
   "metadata": {},
   "outputs": [
    {
     "name": "stdout",
     "output_type": "stream",
     "text": [
      "Problem 1:\n"
     ]
    }
   ],
   "source": [
    "print('Problem 1:')\n",
    "import numpy as np"
   ]
  },
  {
   "cell_type": "markdown",
   "id": "56ec54c7",
   "metadata": {},
   "source": [
    "# Problem 2"
   ]
  },
  {
   "cell_type": "code",
   "execution_count": 7,
   "id": "d89d5802",
   "metadata": {},
   "outputs": [
    {
     "name": "stdout",
     "output_type": "stream",
     "text": [
      "Problem 2:\n",
      "Please input a starting city and target city. (case sensitive)\n",
      "Starting City: Paris\n",
      "Please choose a starting city from the list.\n",
      "Starting City: Orlando\n",
      "Target City: Atlanta\n",
      "Start: Orlando\n",
      "End: Atlanta\n"
     ]
    }
   ],
   "source": [
    "print('Problem 2:')\n",
    "city_list = ['Atlanta', 'Baltimore', 'Boston', 'Charlotte', 'Dallas', 'Denver', 'Miami', 'Minneapolis', 'Orlando', 'Sacramento', 'Tampa', 'Washington']\n",
    "print('Please input a starting city and target city. (case sensitive)')\n",
    "start_city = str()\n",
    "target_city = str()\n",
    "while len(start_city) == 0:\n",
    "    start_city_in = str(input('Starting City: '))\n",
    "    if start_city_in in city_list:\n",
    "        start_city = start_city_in\n",
    "    else:\n",
    "        print('Please choose a starting city from the list.')\n",
    "while len(target_city) == 0:\n",
    "    target_city_in = str(input('Target City: '))\n",
    "    if target_city_in in city_list:\n",
    "        target_city = target_city_in\n",
    "    else:\n",
    "        print('Please choose a target city from the list.')\n",
    "print('Start:', start_city)\n",
    "print('End:', target_city)"
   ]
  },
  {
   "cell_type": "markdown",
   "id": "8c904345",
   "metadata": {},
   "source": [
    "# Problem 3"
   ]
  },
  {
   "cell_type": "code",
   "execution_count": 9,
   "id": "6eaba382",
   "metadata": {
    "scrolled": true
   },
   "outputs": [
    {
     "name": "stdout",
     "output_type": "stream",
     "text": [
      "Problem 3:\n",
      "Please input a starting city and target city. (case sensitive)\n",
      "Starting City: Tampa\n",
      "Target City: Orlando\n",
      "Start: Tampa\n",
      "End: Orlando\n",
      "Orlando is a 84.0 mile drive from Tampa\n",
      "Your trip from Tampa to Orlando will take 0 days 1 hours 7 seconds.\n"
     ]
    }
   ],
   "source": [
    "print('Problem 3:')\n",
    "travel_data = np.loadtxt(\"distances_midterm.dat\", skiprows=1)\n",
    "print('Please input a starting city and target city. (case sensitive)')\n",
    "start_city = str()\n",
    "target_city = str()\n",
    "while len(start_city) == 0:\n",
    "    start_city_in = str(input('Starting City: '))\n",
    "    if start_city_in in city_list:\n",
    "        start_city = start_city_in\n",
    "    else:\n",
    "        print('Please choose a starting city from the list.')\n",
    "while len(target_city) == 0:\n",
    "    target_city_in = str(input('Target City: '))\n",
    "    if target_city_in in city_list:\n",
    "        target_city = target_city_in\n",
    "    else:\n",
    "        print('Please choose a target city from the list.')\n",
    "print('Start:', start_city)\n",
    "print('End:', target_city)\n",
    "first_city = city_list.index(start_city)\n",
    "second_city = city_list.index(target_city)\n",
    "distance = travel_data[first_city, second_city]\n",
    "print(target_city, 'is a', int(distance), 'mile drive from', start_city)\n",
    "time = distance / 75\n",
    "days = time / 24\n",
    "hours = 24 * (days-int(days))\n",
    "minutess = 60 * (hours - int(hours))\n",
    "print('Your trip from', start_city, 'to', target_city, 'will take', int(days), 'days', int(hours), 'hours', round(minutes), 'minutes.')"
   ]
  },
  {
   "cell_type": "code",
   "execution_count": 10,
   "id": "a2cbaad5",
   "metadata": {},
   "outputs": [
    {
     "name": "stdout",
     "output_type": "stream",
     "text": [
      "Please input a starting city and target city. (case sensitive)\n",
      "Starting City: Tampa\n",
      "Target City: Orlando\n",
      "Start: Tampa\n",
      "End: Orlando\n",
      "Orlando is a 84.0 mile drive from Tampa\n",
      "Your trip from Tampa to Orlando will take 0 days 1 hours 7 seconds.\n"
     ]
    }
   ],
   "source": [
    "from midterm_problem3_function import travel_distance_and_time\n",
    "travel_distance_and_time()"
   ]
  },
  {
   "cell_type": "markdown",
   "id": "f29f3b6d",
   "metadata": {},
   "source": [
    "# Problem 4"
   ]
  },
  {
   "cell_type": "code",
   "execution_count": 13,
   "id": "010ec73c",
   "metadata": {
    "scrolled": true
   },
   "outputs": [
    {
     "name": "stdout",
     "output_type": "stream",
     "text": [
      "Problem 4:\n",
      "Please input a starting city, pit-stop city, and target city. (case sensitive)\n",
      "Starting City: Boston\n",
      "Pit-stop City: Denver\n",
      "Target City: Sacramento\n",
      "Start: Boston\n",
      "Pit-stop: Denver\n",
      "End: Sacramento\n",
      "Denver is a 1969 mile drive from Boston and Sacramento is a 1162 mile drive from Denver\n",
      "You need to stop for gas 5 times between Boston and Denver\n",
      "You need to stop for gas 3 times between Denver and Sacramento\n",
      "The total cost of gas will be $ 307.20\n"
     ]
    }
   ],
   "source": [
    "print('Problem 4:')\n",
    "from midterm_problem4_function import trip\n",
    "trip()"
   ]
  },
  {
   "cell_type": "markdown",
   "id": "af0df78f",
   "metadata": {},
   "source": [
    "# Problem 5"
   ]
  },
  {
   "cell_type": "code",
   "execution_count": 14,
   "id": "9b962c76",
   "metadata": {
    "scrolled": true
   },
   "outputs": [
    {
     "name": "stdout",
     "output_type": "stream",
     "text": [
      "Problem 5:\n",
      "Please input a starting city and target city. (case sensitive)\n",
      "Starting City: Baltimore\n",
      "Target City: Orlando\n",
      "Start: Baltimore\n",
      "End: Orlando\n",
      "You will be stopping at Washington between Baltimore and Orlando\n",
      "The total trip will be  885.0 miles\n",
      "You need to stop for gas 1 times between Baltimore and Washington\n",
      "You need to stop for gas 3 times between Washington and Orlando\n",
      "The total cost of gas will be $ 153.60\n"
     ]
    }
   ],
   "source": [
    "print('Problem 5:')\n",
    "from midterm_problem5_function import min_trip\n",
    "min_trip()"
   ]
  }
 ],
 "metadata": {
  "kernelspec": {
   "display_name": "Python 3",
   "language": "python",
   "name": "python3"
  },
  "language_info": {
   "codemirror_mode": {
    "name": "ipython",
    "version": 3
   },
   "file_extension": ".py",
   "mimetype": "text/x-python",
   "name": "python",
   "nbconvert_exporter": "python",
   "pygments_lexer": "ipython3",
   "version": "3.9.4"
  }
 },
 "nbformat": 4,
 "nbformat_minor": 5
}
