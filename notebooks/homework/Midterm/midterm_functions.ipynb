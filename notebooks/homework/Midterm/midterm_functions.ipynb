{
 "cells": [
  {
   "cell_type": "code",
   "execution_count": null,
   "id": "eb98e63c",
   "metadata": {},
   "outputs": [],
   "source": [
    "def travel(cities):\n",
    "    \"\"\"Calculates the distance time to travel from one city to another at a speed of 75 mph from a list of two cities. /n Valid cities are: Atlanta, Baltimore, Boston, Charlotte, Dallas, Denver, Miami, Minneapolis, Orlando, Sacramento, Tampa, Washington.\"\"\"\n",
    "    import numpy as np\n",
    "    city_list = ['Atlanta', 'Baltimore', 'Boston', 'Charlotte', 'Dallas', 'Denver', 'Miami', 'Minneapolis', 'Orlando', 'Sacramento', 'Tampa', 'Washington']\n",
    "    start_city = cities[0]\n",
    "    target_city = cities[1]\n",
    "    travel_data = np.loadtxt(\"distances_midterm.dat\", skiprows=1)\n",
    "    first_city = city_list.index(start_city)\n",
    "    second_city = city_list.index(target_city)\n",
    "    distance = travel_data[first_city, second_city]\n",
    "    print(target_city, 'is a', distance, 'mile drive from', start_city)\n",
    "    time = distance / 75\n",
    "    days = time / 24\n",
    "    hours = 24 * (days-int(days))\n",
    "    seconds = 60 * (hours - int(hours))\n",
    "    print('Your trip from', start_city, 'to', target_city, 'will take', int(days), 'days', int(hours), 'hours', round(seconds), 'seconds.')\n"
   ]
  }
 ],
 "metadata": {
  "kernelspec": {
   "display_name": "Python 3",
   "language": "python",
   "name": "python3"
  },
  "language_info": {
   "codemirror_mode": {
    "name": "ipython",
    "version": 3
   },
   "file_extension": ".py",
   "mimetype": "text/x-python",
   "name": "python",
   "nbconvert_exporter": "python",
   "pygments_lexer": "ipython3",
   "version": "3.9.4"
  }
 },
 "nbformat": 4,
 "nbformat_minor": 5
}
