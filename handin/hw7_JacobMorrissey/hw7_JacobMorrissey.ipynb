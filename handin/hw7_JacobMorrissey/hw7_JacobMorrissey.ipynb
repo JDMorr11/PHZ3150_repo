{
 "cells": [
  {
   "cell_type": "code",
   "execution_count": 1,
   "id": "8d716577",
   "metadata": {},
   "outputs": [],
   "source": [
    "# HW7 Jacob Morrissey 8/13/21"
   ]
  },
  {
   "cell_type": "markdown",
   "id": "0e0bb4bc",
   "metadata": {},
   "source": [
    "## Problem 1"
   ]
  },
  {
   "cell_type": "code",
   "execution_count": 2,
   "id": "adb73954",
   "metadata": {},
   "outputs": [
    {
     "name": "stdout",
     "output_type": "stream",
     "text": [
      "Problem 1:\n"
     ]
    }
   ],
   "source": [
    "print('Problem 1:')\n",
    "import numpy as np"
   ]
  },
  {
   "cell_type": "markdown",
   "id": "7d0c23da",
   "metadata": {},
   "source": [
    "## Problem 2"
   ]
  },
  {
   "cell_type": "code",
   "execution_count": 3,
   "id": "ec02fbe3",
   "metadata": {},
   "outputs": [
    {
     "name": "stdout",
     "output_type": "stream",
     "text": [
      "Problem 2:\n",
      "three is 3\n",
      "seven is 7\n",
      "twelve is 12\n",
      "sixteen is 16\n",
      "nineteen is 19\n"
     ]
    }
   ],
   "source": [
    "print('Problem 2:')\n",
    "from word_to_number_hw7 import word_to_number\n",
    "tests = ['three', 'seven', 'twelve', 'sixteen', 'nineteen']\n",
    "for i in tests:\n",
    "    print(i, 'is', word_to_number(i)) "
   ]
  },
  {
   "cell_type": "markdown",
   "id": "8fd690e3",
   "metadata": {},
   "source": [
    "## Problem 3"
   ]
  },
  {
   "cell_type": "code",
   "execution_count": 4,
   "id": "85c64003",
   "metadata": {},
   "outputs": [
    {
     "name": "stdout",
     "output_type": "stream",
     "text": [
      "Problem 3:\n",
      "experienced\n",
      "experienced\n"
     ]
    }
   ],
   "source": [
    "print('Problem 3:')\n",
    "sentence = 'Deleting an item from a list or array while iterating over it is a Python problem that is well known to any experienced software developer'\n",
    "words = sentence.split()\n",
    "length = len(words[0])\n",
    "for i in words:\n",
    "    if len(i) > length:\n",
    "        length = len(i)\n",
    "        longest = i\n",
    "print(longest)\n",
    "j = 0\n",
    "length = len(words[0])\n",
    "while j < len(words):\n",
    "    if len(words[j]) > length:\n",
    "        length = len(words[j])\n",
    "        longest = words[j]\n",
    "    j += 1\n",
    "print(longest)"
   ]
  },
  {
   "cell_type": "markdown",
   "id": "ea944171",
   "metadata": {},
   "source": [
    "## Problem 4"
   ]
  },
  {
   "cell_type": "code",
   "execution_count": 5,
   "id": "0ce74022",
   "metadata": {},
   "outputs": [
    {
     "name": "stdout",
     "output_type": "stream",
     "text": [
      "Problem 4:\n",
      "[100 125 150 175 200 225 250 275 300 325 350 375 400 425 450 475 500 525\n",
      " 550 575 600 625 650 675 700 725 750 775 800 825 850 875 900 925 950 975]\n",
      "[    50  15625     75  30625    100  50625    125  75625    150 105625\n",
      "    175 140625    200 180625    225 225625    250 275625    275 330625\n",
      "    300 390625    325 455625    350 525625    375 600625    400 680625\n",
      "    425 765625    450 855625    475 950625]\n"
     ]
    }
   ],
   "source": [
    "print('Problem 4:')\n",
    "x = np.arange(100,1000,25)\n",
    "y = np.zeros_like(x)\n",
    "for i in range(len(x)):\n",
    "    if x[i] % 2 == 0 :\n",
    "        y[i] = x[i] / 2\n",
    "    if x[i] % 2 == 1 :\n",
    "        y[i] = x[i] * x[i]\n",
    "print(x)\n",
    "print(y)"
   ]
  },
  {
   "cell_type": "markdown",
   "id": "15110b8b",
   "metadata": {},
   "source": [
    "## Problem 5"
   ]
  },
  {
   "cell_type": "code",
   "execution_count": 6,
   "id": "355c62af",
   "metadata": {},
   "outputs": [
    {
     "name": "stdout",
     "output_type": "stream",
     "text": [
      "Problem 5:\n",
      "Student 1-10: 1\n",
      "(20191, 77.5, 'pass')\n",
      "Student 1-10: 2\n",
      "(20192, 89.0, 'pass')\n",
      "Student 1-10: 3\n",
      "(20193, 88.14, 'pass')\n",
      "Student 1-10: 4\n",
      "(20194, 68.85, 'pass')\n",
      "Student 1-10: 5\n",
      "(20195, 64.95, 'pass')\n",
      "Student 1-10: 6\n",
      "(20196, 61.8, 'pass')\n",
      "Student 1-10: 7\n",
      "(20197, 94.05, 'pass')\n",
      "Student 1-10: 8\n",
      "(20198, 91.75, 'pass')\n",
      "Student 1-10: 9\n",
      "(20199, 34.35, 'no pass')\n",
      "Student 1-10: 10\n",
      "(201910, 75.75, 'pass')\n"
     ]
    }
   ],
   "source": [
    "print('Problem 5:')\n",
    "all_grades = np.loadtxt('student_data.csv', delimiter = ',')\n",
    "from pass_or_no_pass_hw7 import pass_or_no_pass\n",
    "for i in range(0,10):\n",
    "    print(pass_or_no_pass(all_grades))"
   ]
  }
 ],
 "metadata": {
  "kernelspec": {
   "display_name": "Python 3",
   "language": "python",
   "name": "python3"
  },
  "language_info": {
   "codemirror_mode": {
    "name": "ipython",
    "version": 3
   },
   "file_extension": ".py",
   "mimetype": "text/x-python",
   "name": "python",
   "nbconvert_exporter": "python",
   "pygments_lexer": "ipython3",
   "version": "3.9.4"
  }
 },
 "nbformat": 4,
 "nbformat_minor": 5
}
