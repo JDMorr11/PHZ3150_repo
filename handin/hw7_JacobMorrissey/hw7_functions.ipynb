{
 "cells": [
  {
   "cell_type": "code",
   "execution_count": null,
   "id": "30cb96ce",
   "metadata": {},
   "outputs": [],
   "source": [
    "def word_to_number(word):\n",
    "    \"\"\"Input a word for a number between one and twenty. Outputs the integer. \\n Example \\n Input: two \\n Output: 2\"\"\"\n",
    "    words = ['zero', 'one', 'two', 'three', 'four', 'five', 'six', 'seven', 'eight', 'nine', 'ten', 'eleven', 'twelve', 'thirteen', 'fourteen', 'fifteen', 'sixteen', 'seventeen', 'eighteen', 'nineteen', 'twenty']\n",
    "    number_dict = {}\n",
    "    for i in range(len(words)):\n",
    "        number_dict[ words[i] ]=i\n",
    "    if word in words:\n",
    "        number = number_dict[ word ]\n",
    "    else:\n",
    "        print('not a number between one and twenty')\n",
    "    return number"
   ]
  },
  {
   "cell_type": "code",
   "execution_count": 16,
   "id": "19538622",
   "metadata": {},
   "outputs": [],
   "source": [
    "def pass_or_no_pass(all_grades):\n",
    "    \"\"\"Input a 10 by 10 array: 10 students, 1 column of student ID's, 5 columns of HW grades, 3 columns of quiz grades, 1 column of final exam grades. \\n Calculates each student's grade using 60% the final exam grade, 15% the quizzes grade and 25% the homework grade. \\n Outputs student ID, grade, and whether they earnded a passing grade of at least 60% \"\"\"\n",
    "    import numpy as np\n",
    "    student = int(input('Student 1-10: '))\n",
    "    out = []\n",
    "    for i in all_grades:\n",
    "        ID = int(i[0])\n",
    "        HW = np.mean(i[1:6])\n",
    "        QZ = np.mean(i[6:9])\n",
    "        grade = round((0.6 * i[9]) + (0.15 * QZ) + (0.25 * HW), 2)\n",
    "        if grade < 60:\n",
    "            passed = 'no pass'\n",
    "        else:\n",
    "            passed = 'pass'\n",
    "        results = (ID, grade, passed)\n",
    "        out.append(results)\n",
    "    return out[student-1]"
   ]
  }
 ],
 "metadata": {
  "kernelspec": {
   "display_name": "Python 3",
   "language": "python",
   "name": "python3"
  },
  "language_info": {
   "codemirror_mode": {
    "name": "ipython",
    "version": 3
   },
   "file_extension": ".py",
   "mimetype": "text/x-python",
   "name": "python",
   "nbconvert_exporter": "python",
   "pygments_lexer": "ipython3",
   "version": "3.9.4"
  }
 },
 "nbformat": 4,
 "nbformat_minor": 5
}
