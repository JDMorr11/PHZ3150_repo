{
 "cells": [
  {
   "cell_type": "code",
   "execution_count": 1,
   "id": "89c2980b",
   "metadata": {},
   "outputs": [],
   "source": [
    "#Jacob Morrissey HW11 11/15/21"
   ]
  },
  {
   "cell_type": "markdown",
   "id": "108774eb",
   "metadata": {},
   "source": [
    "## Problem 2"
   ]
  },
  {
   "cell_type": "code",
   "execution_count": 2,
   "id": "6a23aa5c",
   "metadata": {},
   "outputs": [],
   "source": [
    "import numpy as np\n",
    "x = np.linspace(1,100,40)\n",
    "y = np.array([ 7.7, 15.82307692, 23.94615385, 32.06923077, 40.19230769, 48.31538462, 56.43846154, 64.56153846, 72.68461538, 80.80769231, 88.93076923, 97.05384615, 105.17692308, 113.3 , 121.42307692, 129.54615385, 137.66923077, 145.79230769, 153.91538462, 162.03846154, 170.16153846, 178.28461538, 186.40769231, 194.53076923, 202.65384615, 210.77692308, 218.9, 227.02307692, 235.14615385, 243.26923077, 251.39230769, 259.51538462, 267.63846154, 275.76153846, 283.88461538, 292.00769231, 300.13076923, 308.25384615, 316.37692308, 324.5])"
   ]
  },
  {
   "cell_type": "code",
   "execution_count": 3,
   "id": "45997cbf",
   "metadata": {},
   "outputs": [],
   "source": [
    "n = 1000\n",
    "a = np.linspace(0.1,10,n)\n",
    "b = np.linspace(0.1,15,n)\n",
    "difs = np.empty((n,n))"
   ]
  },
  {
   "cell_type": "code",
   "execution_count": 4,
   "id": "cdefb116",
   "metadata": {},
   "outputs": [],
   "source": [
    "for i in range(n):\n",
    "    for j in range(n):\n",
    "        y_mod = a[i] * x + b[j]\n",
    "        difs[i,j] = np.sum( abs(y_mod - y) / y )\n",
    "a_min = np.where( difs == np.min(difs) )[0][0]\n",
    "b_min = np.where( difs == np.min(difs) )[1][0]"
   ]
  },
  {
   "cell_type": "code",
   "execution_count": 5,
   "id": "eb7a94ae",
   "metadata": {},
   "outputs": [
    {
     "name": "stdout",
     "output_type": "stream",
     "text": [
      "Problem 2:\n",
      "The line of best fit is y = 3.202 x + 4.485 \n",
      "a = 3.202 \n",
      "b = 4.485\n"
     ]
    }
   ],
   "source": [
    "print('Problem 2:')\n",
    "print('The line of best fit is y = %.3f x + %.3f \\na = %.3f \\nb = %.3f'%(a[a_min], b[b_min], a[a_min], b[b_min]))"
   ]
  },
  {
   "cell_type": "markdown",
   "id": "84a7d34a",
   "metadata": {},
   "source": [
    "## Problem 3"
   ]
  },
  {
   "cell_type": "code",
   "execution_count": 6,
   "id": "f182efc0",
   "metadata": {},
   "outputs": [],
   "source": [
    "def wind_chill(T,V):\n",
    "    \"\"\"Given the temperature (F) and wind speed (mph), returns the wind chill temperature.\"\"\"\n",
    "    WC = 35.74 + 0.6215 * T - 35.75 * (V  ** 0.16) + .4275 * T * (V ** 0.16)\n",
    "    return WC\n",
    "\n",
    "def parallax_to_distance(stars):\n",
    "    \"\"\"Input a dictionary of stars {star name : parallax (arcseconds) }, outputs a new dictionary {star name : distance (parsecs) }\"\"\"\n",
    "    d_stars = {}\n",
    "    for i in stars.keys():\n",
    "        d_stars[i] = 1 / stars[i]\n",
    "    return d_stars\n",
    "\n",
    "def lists_to_dict(list1, list2):\n",
    "    \"\"\"Input a list of strings and a list of numbers, outputs a dictionary with the given strings as keys and the given numbers as values. \"\"\"\n",
    "    dict_out = {}\n",
    "    if type(list1[0]) == str:\n",
    "        for i in range(len(list1)):\n",
    "            dict_out[ list1[i] ] = list2[i]\n",
    "    else:\n",
    "        for i in range(len(list2)):\n",
    "            dict_out[ list2[i] ] = list1[i]\n",
    "    return dict_out\n",
    "\n",
    "def matrix_mult(m1,m2):\n",
    "    \"\"\"Given two matrices, returns their product.\"\"\"\n",
    "    import numpy as np\n",
    "    # need these if/else lines because np.shape  returns (j,) if the array is 1 x j instead of (1,j)\n",
    "    if len( np.shape(m1) ) == 1:\n",
    "        m1_i = 1\n",
    "        m1_j = np.shape(m1)[0]\n",
    "    else:\n",
    "        m1_i = np.shape(m1)[0]\n",
    "        m1_j = np.shape(m1)[1]\n",
    "    if len( np.shape(m2) ) == 1:\n",
    "        m2_i = 1\n",
    "        m2_j = np.shape(m2)[0]\n",
    "    else:\n",
    "        m2_i = np.shape(m2)[0]\n",
    "        m2_j = np.shape(m2)[1]\n",
    "    \n",
    "    if m1_j == m2_i:\n",
    "        prod = np.empty(( m1_i , m2_j ))\n",
    "        for i in range( m1_i ):\n",
    "            for j in range( m2_j ):\n",
    "                # need this bit because a 1 x j array can't be sliced using [i,:]\n",
    "                if len( np.shape(m1) ) == 1:\n",
    "                    prod[i,j] = np.sum( m1 * m2[:,j] )\n",
    "                else:\n",
    "                    prod[i,j] = np.sum( m1[i,:] * m2[:,j] )\n",
    "        return prod\n",
    "    \n",
    "    # if matrices can't be multiplied in the given order, checks the reverse order\n",
    "    elif m1_i == m2_j:\n",
    "        print('These matrices can only be multiplied in the reverse order.')\n",
    "        prod = np.empty(( m2_i , m1_j ))\n",
    "        for i in range( m2_i ):\n",
    "            for j in range( m1_j ):\n",
    "                if len( np.shape(m2) ) == 1:\n",
    "                    prod[i,j] = np.sum( m2 * m1[:,j] )\n",
    "                else:\n",
    "                    prod[i,j] = np.sum( m2[i,:] * m1[:,j] )\n",
    "        return prod\n",
    "    else:\n",
    "        print('These matrices cannot be multiplied.')\n",
    "        return"
   ]
  },
  {
   "cell_type": "code",
   "execution_count": 7,
   "id": "c2cfd223",
   "metadata": {},
   "outputs": [],
   "source": [
    "T = 20\n",
    "V = 55\n",
    "\n",
    "stars = {'Betelgeuse':7.63,'Antares': 5.89,'Spica': 13.06,'Proxima Cen': 768}\n",
    "\n",
    "List_1 = [ 1, 3, 5, 10, 12, 14] \n",
    "List_2 = ['watermelon', 'melon', 'apple','strawberries', 'cherries', 'oranges' ]\n",
    "List_3 = [ 'cars', 'motorcycles', 'bikes', 'skateboards'] \n",
    "List_4 = [ 200, 150, 10, 67 ]\n",
    "\n",
    "A1 = np.array( [ [1, 2, 3 ], [4, 5, 6] ]) \n",
    "A2 = np.array( [ [2, 3] , [2 , 2 ] ] ) \n",
    "B1 = np.array( [ [1, 0], [0, 1] ]) \n",
    "B2 = np.array( [ [4, 1], [ 2,1 ] ] )\n",
    "C1 = np.array( [ [1, 0, 3], [0, 1, 4], [2, 1 , 8] ])\n",
    "C2 = np.array( [4, 1, 5 ])"
   ]
  },
  {
   "cell_type": "code",
   "execution_count": 8,
   "id": "f4df97e5",
   "metadata": {},
   "outputs": [
    {
     "name": "stdout",
     "output_type": "stream",
     "text": [
      "Problem 3:\n",
      "\n",
      "a\n",
      "The current wind chill temperature is -3.47 F.\n",
      "\n",
      "b\n",
      "{'Betelgeuse': 0.1310615989515072, 'Antares': 0.16977928692699493, 'Spica': 0.07656967840735068, 'Proxima Cen': 0.0013020833333333333}\n",
      "\n",
      "c\n",
      "{'watermelon': 1, 'melon': 3, 'apple': 5, 'strawberries': 10, 'cherries': 12, 'oranges': 14} \n",
      "\n",
      "{'cars': 200, 'motorcycles': 150, 'bikes': 10, 'skateboards': 67}\n",
      "\n",
      "d\n",
      "These matrices can only be multiplied in the reverse order.\n",
      "[[14. 19. 24.]\n",
      " [10. 14. 18.]] \n",
      "\n",
      "[[4. 1.]\n",
      " [2. 1.]] \n",
      "\n",
      "These matrices can only be multiplied in the reverse order.\n",
      "[[14.  6. 56.]]\n"
     ]
    }
   ],
   "source": [
    "print('Problem 3:')\n",
    "print('\\na')\n",
    "print('The current wind chill temperature is %.2f F.' %(wind_chill(T,V)))\n",
    "print('\\nb')\n",
    "print(parallax_to_distance(stars))\n",
    "print('\\nc')\n",
    "print(lists_to_dict(List_1, List_2),'\\n')\n",
    "print(lists_to_dict(List_3, List_4))\n",
    "print('\\nd')\n",
    "print(matrix_mult(A1,A2),'\\n')\n",
    "print(matrix_mult(B1,B2),'\\n')\n",
    "print(matrix_mult(C1,C2))"
   ]
  },
  {
   "cell_type": "code",
   "execution_count": null,
   "id": "c865d020",
   "metadata": {},
   "outputs": [],
   "source": []
  }
 ],
 "metadata": {
  "kernelspec": {
   "display_name": "Python 3",
   "language": "python",
   "name": "python3"
  },
  "language_info": {
   "codemirror_mode": {
    "name": "ipython",
    "version": 3
   },
   "file_extension": ".py",
   "mimetype": "text/x-python",
   "name": "python",
   "nbconvert_exporter": "python",
   "pygments_lexer": "ipython3",
   "version": "3.9.4"
  }
 },
 "nbformat": 4,
 "nbformat_minor": 5
}
