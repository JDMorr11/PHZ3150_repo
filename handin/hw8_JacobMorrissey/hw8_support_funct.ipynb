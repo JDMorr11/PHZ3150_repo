{
 "cells": [
  {
   "cell_type": "code",
   "execution_count": 14,
   "id": "95bbd9ed",
   "metadata": {},
   "outputs": [],
   "source": [
    "def order_array(input_array):\n",
    "    \"\"\"sorts an array of numbers from smallest to largest.\"\"\"\n",
    "    import numpy as np\n",
    "    unsorted = []\n",
    "    for i in input_array:\n",
    "        unsorted.append(i)\n",
    "    sorting = []\n",
    "    while len(sorting) < len(input_array):\n",
    "        small = unsorted[0]\n",
    "        for j in unsorted:\n",
    "            if j < small:\n",
    "                small = j\n",
    "        sorting.append(small)\n",
    "        unsorted.remove(small)\n",
    "    sorted_arr = np.asarray(sorting)\n",
    "    return sorted_arr"
   ]
  },
  {
   "cell_type": "code",
   "execution_count": 16,
   "id": "30aba62a",
   "metadata": {},
   "outputs": [],
   "source": [
    "def kepler_3rd(period):\n",
    "    \"\"\"given the period of a planet's orbit around the sun in years, returns the distance orbital distance between the planet and the sun in AU. \\n Calculated using Kepler's 3rd law (P1/P2)^2 = (a1/a2)^3 where P1 and a1 are the earths period and orbital distance.\"\"\"\n",
    "    a = period ** (2 / 3)\n",
    "    return a"
   ]
  }
 ],
 "metadata": {
  "kernelspec": {
   "display_name": "Python 3",
   "language": "python",
   "name": "python3"
  },
  "language_info": {
   "codemirror_mode": {
    "name": "ipython",
    "version": 3
   },
   "file_extension": ".py",
   "mimetype": "text/x-python",
   "name": "python",
   "nbconvert_exporter": "python",
   "pygments_lexer": "ipython3",
   "version": "3.9.4"
  }
 },
 "nbformat": 4,
 "nbformat_minor": 5
}
